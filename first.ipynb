{
 "cells": [
  {
   "cell_type": "code",
   "execution_count": 1,
   "metadata": {
    "vscode": {
     "languageId": "wolfram"
    }
   },
   "outputs": [
    {
     "name": "stdout",
     "output_type": "stream",
     "text": [
      "      2\n",
      "     a\n",
      "10 + --\n",
      "     b\n"
     ]
    }
   ],
   "source": [
    "(* C:\\Users\\dmitr\\AppData\\Roaming\\Python\\Python312\\Scripts *)\n",
    "Print[a^2/b+10]"
   ]
  }
 ],
 "metadata": {
  "kernelspec": {
   "display_name": "Wolfram Language 14",
   "language": "Wolfram Language",
   "name": "wolframlanguage14"
  },
  "language_info": {
   "codemirror_mode": "mathematica",
   "file_extension": ".m",
   "mimetype": "application/vnd.wolfram.m",
   "name": "Wolfram Language",
   "pygments_lexer": "mathematica",
   "version": "12.0"
  }
 },
 "nbformat": 4,
 "nbformat_minor": 2
}
