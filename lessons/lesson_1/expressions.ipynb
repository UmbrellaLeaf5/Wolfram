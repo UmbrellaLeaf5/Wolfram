{
 "cells": [
  {
   "cell_type": "markdown",
   "metadata": {},
   "source": [
    "# Решение уравнений"
   ]
  },
  {
   "cell_type": "code",
   "execution_count": 86,
   "metadata": {
    "vscode": {
     "languageId": "wolfram"
    }
   },
   "outputs": [
    {
     "data": {
      "text/html": [
       "<style>\n",
       "\t\t\t\t\t\t\t\t\t\t\t\t\t.grid-container {\n",
       "\t\t\t\t\t\t\t\t\t\t\t\t\t\tdisplay: inline-grid;\n",
       "\t\t\t\t\t\t\t\t\t\t\t\t\t\tgrid-template-columns: auto;\n",
       "\t\t\t\t\t\t\t\t\t\t\t\t\t}\n",
       "\t\t\t\t\t\t\t\t\t\t\t\t</style>\n",
       "\n",
       "\t\t\t\t\t\t\t\t\t\t\t\t<div><div class=\"grid-container\"><div class=\"grid-item\"><img alt=\"Output\" src=\"data:image/png;base64,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\"></div><div class=\"grid-item\"><img alt=\"Output\" src=\"data:image/png;base64,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\"></div></div></div>"
      ],
      "text/plain": [
       "                   2\n",
       "{{c -> -(b x) - a x }}\n",
       "                  2                             2\n",
       "       -b - Sqrt[b  - 4 a c]         -b + Sqrt[b  - 4 a c]\n",
       "{{x -> ---------------------}, {x -> ---------------------}}\n",
       "                2 a                           2 a"
      ]
     },
     "execution_count": 86,
     "metadata": {
      "text/html": [],
      "text/plain": []
     },
     "output_type": "execute_result"
    }
   ],
   "source": [
    "Solve[a x^2 + b x + c == 0]\n",
    "\n",
    "sol = Solve[a x^2 + b x + c == 0, x]"
   ]
  },
  {
   "cell_type": "markdown",
   "metadata": {},
   "source": [
    "Область определения"
   ]
  },
  {
   "cell_type": "code",
   "execution_count": 7,
   "metadata": {
    "vscode": {
     "languageId": "wolfram"
    }
   },
   "outputs": [
    {
     "data": {
      "text/html": [
       "<div><img alt=\"Output\" src=\"data:image/png;base64,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\"></div>"
      ],
      "text/plain": [
       "            2\n",
       "a != 0 && -b  + 4 a c <= 0"
      ]
     },
     "execution_count": 7,
     "metadata": {
      "text/html": [],
      "text/plain": []
     },
     "output_type": "execute_result"
    }
   ],
   "source": [
    "FunctionDomain[x /.sol, {a, b, c}, Reals]"
   ]
  },
  {
   "cell_type": "markdown",
   "metadata": {
    "vscode": {
     "languageId": "wolfram"
    }
   },
   "source": [
    "# Упрощение выражений"
   ]
  },
  {
   "cell_type": "code",
   "execution_count": 60,
   "metadata": {
    "vscode": {
     "languageId": "wolfram"
    }
   },
   "outputs": [
    {
     "data": {
      "text/html": [
       "<style>\n",
       "\t\t\t\t\t\t\t\t\t\t\t\t\t.grid-container {\n",
       "\t\t\t\t\t\t\t\t\t\t\t\t\t\tdisplay: inline-grid;\n",
       "\t\t\t\t\t\t\t\t\t\t\t\t\t\tgrid-template-columns: auto;\n",
       "\t\t\t\t\t\t\t\t\t\t\t\t\t}\n",
       "\t\t\t\t\t\t\t\t\t\t\t\t</style>\n",
       "\n",
       "\t\t\t\t\t\t\t\t\t\t\t\t<div><div class=\"grid-container\"><div class=\"grid-item\"><img alt=\"Output\" src=\"data:image/png;base64,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\"></div><div class=\"grid-item\"><img alt=\"Output\" src=\"data:image/png;base64,iVBORw0KGgoAAAANSUhEUgAAAB4AAAAaCAIAAAAvw3vjAAAAzXpUWHRSYXcgcHJvZmlsZSB0eXBlIGV4aWYAAHjabU9tDkIhDPvPKTzC2EYHx+EpJt7A47s9UIOxCWvXfQBpPB/3dAlwpqTFKhpADm3auLuoNDE5UzvjTMaq5d1PuS+/u1W+BayBfOy+YTLXn0XEU0jc4Fp0DaxFwtN/X3isfu617ouENlj9PP1vrmKMgmzqUZnM0FzX5NIJhakY7rgC3phxY9Kr84CZj8GiQ3oMBnjY3j0SxI1bfEHiqHRnnDFzOOJaPeuuGx+u5KzGd16ZXVrtWE78kAAAAAlwSFlzAAASdAAAEnQB3mYfeAAAADx0RVh0U29mdHdhcmUAQ3JlYXRlZCB3aXRoIHRoZSBXb2xmcmFtIExhbmd1YWdlIDogd3d3LndvbGZyYW0uY29tXKKmhQAAACF0RVh0Q3JlYXRpb24gVGltZQAyMDI0OjA2OjAxIDIzOjQwOjI5M66z5wAAAYZJREFUSIntlbGtwkAMhs0TPbLoUlDAAGlCSYkiUSMxAsoGUTbwBtngJqCgDg0SxVGlQGmovYNfYXSEC9wTiiiehIso8cXf2f85zkBE4DP28yHuF921YfvhfD7v93sAmEwmy+VyPB73YouIiDRNk6Zp24+IxhjpYTd0lmUAkCQJERHRbDbTDZqm6Ytm5qqq2gtKJ6KnYdZaTcLzG2OIaLfb3dFdI6IAWkSSJPFeqKpKlWTmELooCgAoy/LVC9ZaRAQAa62IMLMWqim/RDOzhoW1NsboCblUiqJwq8/ReqoBNZxtNhsA0KvuEUIrN8uyP7nS0gERvRJ99FtcaUkHAF6PPaDf5YqIfmgquuuNBzQzq15vcbVBNUTv0zR1qwMRAYD5fH46nRAxz3NvEqzX6+l02p0Qh8NhsVgg4uVy0WmjkLIst9vtfYYEhoynoKtSJXZdLCLWWg3RTr9NPi3nqUVR1HUej8c8z0ej0Wq1cs44jo0x1+u1rus4jgfhlPvY//zLfNGe/QIDW3UG7/8xUQAAAABJRU5ErkJggg==\"></div></div></div>"
      ],
      "text/plain": [
       "      2         2\n",
       "Cos[x]  + Sin[x]\n",
       "2 x"
      ]
     },
     "execution_count": 60,
     "metadata": {
      "text/html": [],
      "text/plain": []
     },
     "output_type": "execute_result"
    }
   ],
   "source": [
    "Sin[x]^2 + Cos[x]^2\n",
    "\n",
    "x + x"
   ]
  },
  {
   "cell_type": "code",
   "execution_count": 58,
   "metadata": {
    "vscode": {
     "languageId": "wolfram"
    }
   },
   "outputs": [
    {
     "data": {
      "text/html": [
       "<style>\n",
       "\t\t\t\t\t\t\t\t\t\t\t\t\t.grid-container {\n",
       "\t\t\t\t\t\t\t\t\t\t\t\t\t\tdisplay: inline-grid;\n",
       "\t\t\t\t\t\t\t\t\t\t\t\t\t\tgrid-template-columns: auto;\n",
       "\t\t\t\t\t\t\t\t\t\t\t\t\t}\n",
       "\t\t\t\t\t\t\t\t\t\t\t\t</style>\n",
       "\n",
       "\t\t\t\t\t\t\t\t\t\t\t\t<div><div class=\"grid-container\"><div class=\"grid-item\"><pre style=\"&#102;&#111;&#110;&#116;&#45;&#102;&#97;&#109;&#105;&#108;&#121;&#58;&#32;&#34;&#67;&#111;&#117;&#114;&#105;&#101;&#114;&#32;&#78;&#101;&#119;&#34;&#44;&#67;&#111;&#117;&#114;&#105;&#101;&#114;&#44;&#109;&#111;&#110;&#111;&#115;&#112;&#97;&#99;&#101;&#59;\">&#49;</pre></div><div class=\"grid-item\"><pre style=\"&#102;&#111;&#110;&#116;&#45;&#102;&#97;&#109;&#105;&#108;&#121;&#58;&#32;&#34;&#67;&#111;&#117;&#114;&#105;&#101;&#114;&#32;&#78;&#101;&#119;&#34;&#44;&#67;&#111;&#117;&#114;&#105;&#101;&#114;&#44;&#109;&#111;&#110;&#111;&#115;&#112;&#97;&#99;&#101;&#59;\">&#49;</pre></div></div></div>"
      ],
      "text/plain": [
       "1\n",
       "1"
      ]
     },
     "execution_count": 58,
     "metadata": {
      "text/html": [],
      "text/plain": []
     },
     "output_type": "execute_result"
    }
   ],
   "source": [
    "FullSimplify[Sin[x]^2 + Cos[x]^2]\n",
    "\n",
    "Simplify[Sin[x]^2 + Cos[x]^2]"
   ]
  },
  {
   "cell_type": "code",
   "execution_count": 88,
   "metadata": {
    "vscode": {
     "languageId": "wolfram"
    }
   },
   "outputs": [
    {
     "data": {
      "text/html": [
       "<style>\n",
       "\t\t\t\t\t\t\t\t\t\t\t\t\t.grid-container {\n",
       "\t\t\t\t\t\t\t\t\t\t\t\t\t\tdisplay: inline-grid;\n",
       "\t\t\t\t\t\t\t\t\t\t\t\t\t\tgrid-template-columns: auto;\n",
       "\t\t\t\t\t\t\t\t\t\t\t\t\t}\n",
       "\t\t\t\t\t\t\t\t\t\t\t\t</style>\n",
       "\n",
       "\t\t\t\t\t\t\t\t\t\t\t\t<div><div class=\"grid-container\"><div class=\"grid-item\"><img alt=\"Output\" src=\"data:image/png;base64,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\"></div><div class=\"grid-item\"><img alt=\"Output\" src=\"data:image/png;base64,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\"></div><div class=\"grid-item\"><img alt=\"Output\" src=\"data:image/png;base64,iVBORw0KGgoAAAANSUhEUgAAABQAAAA0CAIAAAAFR49sAAAAzXpUWHRSYXcgcHJvZmlsZSB0eXBlIGV4aWYAAHjabU9tDkIhDPvPKTzC2EYHx+EpJt7A47s9UIOxCWvXfQBpPB/3dAlwpqTFKhpADm3auLuoNDE5UzvjTHTV8u4nWYXc3SrfAsbyj903TOb6s4h4CokbXL8X21okPP3cZ36sfu617ouENlj9PP1vrmKMgmzqUZnM0FzX5NIJhakY7rgC3phxY9Kr84CZj8GiQ3oMBnjY3j0SxI1bfEHiqHRnnDFzOOK6nI6I8uG+nNX4zgsWdFqUMg/GPwAAAAlwSFlzAAASdAAAEnQB3mYfeAAAADx0RVh0U29mdHdhcmUAQ3JlYXRlZCB3aXRoIHRoZSBXb2xmcmFtIExhbmd1YWdlIDogd3d3LndvbGZyYW0uY29tXKKmhQAAACF0RVh0Q3JlYXRpb24gVGltZQAyMDI0OjA2OjAxIDIzOjU2OjM0TA+IdwAAAa1JREFUSIntlqGuwjAUhv/dXEugFoGAZAq5J8AsQZOAxJFJDGLhBcYT8AbbC0AgyL1ASWZBIFAFgkT1it6UrWu3C4IbEn6xdO352tOek/ZYnHM8q2/TwH6/32w21+t1MpkYaZ4TpdTzvAIDKXXMdV3ByEYB/KU4UqvVCCFhGK5Wq/JN531mjP16VbayVXDalmUJ2GSguv2QPvCDUnM7iqLD4ZDumc1motHr9ZrNZsbalJ55xXGsGKsrD4fDTqejhev1utJTlGGletNQfeBXwvf0nE6np9Op2Ho8Htu2LX/v6Zkkye12K4Zt265UKhr4Cb3paX/gV8KZq3e73a7XawBKESNegna73e12M7RyjzuOAyAIAtkTxzEAQoisGKQ0ZQUhBACllHPOGGu1WgAWi0W+rNCUHGEYAnAch3Pu+z4A3/c1FYkW5pz3+30A4itmeQCW3hJCdrudCTaG6nw+A7hcLsfj0Rgr7ZTioRWb156z0e0gCAB4nifbruv+Cc5HVUR+Pp+XwIwxEeR0VCmlYoMi8mllLsDlcpkkSbVaHY1G+fRsNBqDwSDd/3+35w/6t7cLZUDFDwAAAABJRU5ErkJggg==\"></div></div></div>"
      ],
      "text/plain": [
       "  Gamma[x]\n",
       "------------\n",
       "Gamma[1 + x]\n",
       "  Gamma[x]\n",
       "------------\n",
       "Gamma[1 + x]\n",
       "1\n",
       "-\n",
       "x"
      ]
     },
     "execution_count": 88,
     "metadata": {
      "text/html": [],
      "text/plain": []
     },
     "output_type": "execute_result"
    }
   ],
   "source": [
    "expr = Gamma[x] / Gamma[x + 1]\n",
    "\n",
    "Simplify[expr]\n",
    "\n",
    "FullSimplify[expr]"
   ]
  },
  {
   "cell_type": "code",
   "execution_count": 64,
   "metadata": {
    "vscode": {
     "languageId": "wolfram"
    }
   },
   "outputs": [
    {
     "data": {
      "text/html": [
       "<div><img alt=\"Output\" src=\"data:image/png;base64,iVBORw0KGgoAAAANSUhEUgAAAlgAAAF0CAIAAABwgtBbAAAA0HpUWHRSYXcgcHJvZmlsZSB0eXBlIGV4aWYAAHjabU9ZbkQhDPvnFHOEbDhwHN4MI/UGPf4kD6qKqpaIHWdBKfP7610eCWEqVr2hAxSwbl1GiEYLi5n6HW/URrLdwy9uS/IIrr8FzMV8nb5jsbQ/i/Z+0vwhtNoe2ItUls9j5dful9HauUjpgP+cxf/npi6oYLeIJuSOHrqVkEGoQtXxxhOIRsZLyJ7BE+4xBs8OHTmYkOln9yzQMF55guYzHcG4I0s6Gtq0RmStcoWvdzXP+QArzlqgUJ38WwAAAAlwSFlzAAASdAAAEnQB3mYfeAAAADx0RVh0U29mdHdhcmUAQ3JlYXRlZCB3aXRoIHRoZSBXb2xmcmFtIExhbmd1YWdlIDogd3d3LndvbGZyYW0uY29tXKKmhQAAACF0RVh0Q3JlYXRpb24gVGltZQAyMDI0OjA2OjAxIDIzOjQ1OjE1JutcPQAAIABJREFUeJzt3XtUm/ed5/GfxE3I4iZzMRhjjGTHruvEqes4Se1k4rY2mXY6aee0Y2fSaWdOGw+cPZ3TnR6ys53d0zPbnp54m50zPXPMZLenk142YXvbbNo0xpPaJ4E4dVLbSV3iSxBgjMFgEAhkIS6S9o9H/HjMzUJ6Hj2SnvfrrwchxM8Y9Hl+t+/PEolEBAAAZmU1ugGA2R05csToJgCmRhACAEyNIAQAmBpBCAAwNYIQAGBqBCEAwNSyjW4AgPmFo88++6yxLQFMiCAEjEf+AQZiaBQAYGoEIQDA1AhCAICpEYSAZiwWS0tLi/qRxsZGy+0WPAGA4QhCQBtut3vxgydOnHj66acjKocOHUp+2wCsgCAEEtXe3m6xWDwez4LHu7q6PB5PTU2NIa0CECOCEEhIV1fXvn37Ghoa2traFnyqv79fCHHfffcZ0S4AsWIfIZCQuro65VDP9vb2BZ86ffq0y+VyuVzyEY/HU1dXl9T2AbgTeoSAXk6ePOnxeDwejzI72NDQ4HK5FuclAGNZVntC/YXOm7863eXzT83Mhp75yiM6NQsr8I4Hv/Xcm7bcbIc99y8ObKtZV2h0iyCEEO3t7fv27XvhhRdWWA7jdrvdbvfx48fVDy55MO+zzz7b/PN3xm5N+QPTD91bfXDPJu1bDEAIEcfQ6NitqUs9I3o0BTGamp4dHptUrvNyGdxOJ263u7Ozc/HjS5ZY67w+qvxHB4KzurcMMDGGRtOPzz8lr7OsFgNbAl2VFtuVi9nZsLEtATLbqoMwJ3v+S4LTIU0bg5iEwvOj2aXF+Qa2BCtzu92NjY3qR1pbWw8cOLDa11Hf+gDQ3KqDsHhNnrz2B6Y1bQxi4p0IGt0ExOTJJ59sbm6WpWTq6+uFEMeOHYvxy8uKonc56lsfAJpjaDSNOQttRjcBK2lqanrhhRcOHz6sFFfr7Oxc7do0Bbc+gK5YapF+5EoZKxOEqWTv3r2Lc+7QoUNx11QrcuTd+UkAErbqHqHDniuvmbowFm+UmS17bj5+dHzS2JYAmW3VQWhTrdefmWWxjAFGx6MDZTnZWca2BLoqmLvpZI4Q0BVzhOknPPe2WGDPMbYl0FVebvRGR976ANDDqoNQPS81w/YmI4zdio5I23KY4s1kBfn0CIFkWPU7qXqlonxHRjLJ+w+7jR5hhpBV1tQlZmy580PfPv8UU8KATuhSpB+5fTPfxn9fhliyxJr6RofRF0A/zBGmn+B0tPKkusoPMo86CCcoXgHoJp53UlnWKxCc0bQxiIkswcxYWWazq3r8U9PU3Qb0klCXgqL4hpD3H1TczmzqHiHz8YB+GFtLM+pC584CSqxlOJmFzBEC+oknCClxaSB1oXM21Gc8OTpKFSdAP/EEodUa/apx/jiTTr1ogjnCjCeLy9AjBPST0NAof5zJp140oa77ioyUN1fRkOIygH7iCUL1kYRIspu++frL6g3XyEjyb42bTkA/8QSh3L4WmGL7RLJNzS2W4Wx6M5B/axxJCOgnodIkt9g+kXRyjpCVMplkyRJrQoi1c7c77CME9BNPEK6lL2IcOVfESplMsmSJNaHqEVJZBtBPQotl/PxxJp0cGmWC0Azk7Q7FKwD9JBSEQYZrkk5WGJFn9CCD2fOiG+opZwjoJ54gtHPogXHkxmrOYDKDNaq/teGxyRWeCSBu8QVh9C2Yv8zkm5mNDo1yBpMZlBTOz8czAAPohFqjaUbOy7J9wgzUM8FMyQM6iScIbTnzfRH2+SZTKByRRbfl7BEymHptMAdQADqJJwgL7PNvwdQCTiZ1na0C6quZg8zCKdXBIwA0xNBoOlHfdnAGiEnI0VEv5UYBfcQThOoJfLl2A0nA0RMmJP/cJtlKCOgjnpWH6oPRff6pylKHdu3BSiYmo0Foy82SNUeQAZYrsSZUOyjYSgjoJJ4gZB+hUeR+FbqDGWa5EmtCtSqKutuAThLaRyiECDKBn0RyAb16dBqZrWRuMphyo4BOEh1ek4N1SALf3AJ69eg0MpudoVFAZ3EGodzNHQ5HtGsM7mAiEH0rdBawZNQsHHP7ZCjkBOgk0R4hS7qTSfYJStg7YRplRfPD4HQKAT3EGYQs1jCE3EfosFNWxiwcqsoJ3HcCeogzCOXx6KP8ZSaRDEJuRMxDXUKIPzdAD3EGoayyxhxh0qh7A8VrCEKzUN/0sIMC0EOcQSjrblMIOGnU9dVKi+0GtgRJJsvpMTQK6CHOIJRbCTl9ImnUQeig4raZUHcb0FWcNWLkqbCj4yzpThK5idCWm6U+pg4ZYIUSa0IIZ6Gtu98nmCME9BFnEMoN3SHmCJNFDouxUibzrFBiTQhRNDcl7J3gvhPQXpxDo3IfG7eoSSN/1NRXM5sS5ggBPSW6oZ4eYdIM+6K9AfUOa5gB952AruIMQvXyfe5Sk8M73yOkrIy5yFufUDiiXjMFQBNxb6if/0K2EiaHXJckC73CJNSD4dx3ApqLe45w/i+T0dEkmAhMyxOvqLidsiwWS0tLy+IHFW63O76XvW1PPUEIaE2DHiE7KJJAffIAPcLUtGTOWSyWhoaGSCQSiUTcbnd8WWjLzZI7d32UsAC0FmcQOlXTVLeCsxo1Bsu6PQgpK5Na2tvbLRaLx+NZ8PjRo0eFEMeOHVM+PH78uMfjWdxljIWT9TKAbuJfNSr3dAemOBpGd8O+gHJRYM9Vd8dhuK6urn379jU0NLS1tS341MmTJw8ePKh+5ODBg88991wc30WukOJUQkBz8b+lyipfLGNLgtHx6A+ZcdFUU1dXF4lEZLdPrbOzs66ubsGTOzs74/gucmKYutuA5uKsLCOEKHLkKTen1D9MAtkjJAjTyOLB0uXIEmvSgloz8v99eCyQeMMAqMUfhLZcWW6UW1Td3ZwbEHMWEIQZaOUSa4KhUUBP8Q+NyrEa5giTQL79rS1m70TacLlcWr2UupwQWQhoK/4glOu5WTWqt+B0KBCM3m2UFrFkNG243e6uri71I11dXfHtoFAvFWZ0FNBW/EEoT2Liz1Jv6p2aTuqrpY/9+/e3traqH2ltbd2/f38cL6WeG77po0cIaCn+IJR/mQF6hDob9M7farBYJo00NTUJIerr65UP6+vrXS6X8mAcVOtlCEJAS/EvlpFHEgaCM6FwRH4IzQ2O3lIu7LacAs6mTyuRSESpryaEcLlc8e2dUJQW25UIHCEIAU3FH4Tqipej40F6KvoZmusRVjiZIExde/fujUSWqLu75INxKCvKvySEYGgU0Fr8Q6N5ufMhKpdyQA8DI9EeYeVah7EtgYHK526Dhry3jG0JkGHiD0L1GB1BqKuBYb9yUVm6xtiWwEAyCL3jwZnZsLGNATKJBotlBGWf9DQzG5Yn75QzNGpiZaqdM4N0CgHtxD9HKIQosOdOBKaFEEGqrOlG/ZZXUUKPMDPJEmsrlJhR3wYNegPV5QW6Nwswh4SCsMiRpwQhdbf1o947wWKZTHXHEmtCiAJ7rt2Wo0xDDI3SIwQ0k9CBPvLgbNZz62dgJDpBqLwPGtsYGKtifr0MVSwAzSQUhBwNkwQ9Az7lYj1DYaYnlw333ZwwtiVAJkkoCGVFfIZG9TMwHB0Eqy5j74TZrS+P/g7I3woAiUsoCB326EidMlMIPcjFMvQIIVdLTQSm2bMEaCWhICzgkHqdDXoDcsfYxopCYxsDw6k3ktIpBLSizRyhEMLL8bw66BuanwpiNz0qnPO/A1cHxw1sCZBJtFk1KugU6kOulHEW2lgyipxsa2VpdJrwBj1CQCMJBaH6sFB6hHq4Prc4sGYd46IQQoiquYGB/rl9NQASlFAQ5mRb5TThsI+NTdq7eiM6/EW5bSg2zE0V9/T7jG0JkDESqiwjhCgtzleWjI6M0SPUWHA6JI9gda0vNrYx0FUsJdYU1WXRxcMTgemJwDTnUwKJ0yAIu/t9gh6hDnpvzK+GYGg0s8VSYk2h/k3o6fftcJfp0yLARBIaGhVClM5VxL9JlTWtea6PKhd2Ww5VRqGocNrlsinqywCaSDgI5w5jGmWxjNY818eUC1c146KYt6mqSLno6WcHBaCBRIOwoiTaU5kITHNYqLbk0KicFgKEEDVz62W6B8aMbQmQGRINQvVWwuExpgk1EwjOyAOYWCkDNfn7MOgNUGgNSJxmQ6NCiH52+GrnYo9XXsuhMEDcfixlN5sogIQlGoR2W45cwM1hoRrqmpsgLC3OV99tADXrCm25Wco162WAxCUahEKIcg4L1cHFqyPKhXt9ibEtQQpyVUd/K96/NmpsS4AMoEEQyqNhuDnVSnA6JOuGbK4hCLGQnCb09LFeBkiUBkEoDwsdpEeoEU/faCgcUa63bCAIsVBtZXTa2DsepN49kCAte4Q+/xRr2DRx5dr8VnpqymCxLapxAjmKDiA+iZZYE7evYRv0BljimLj3uoeVi221TmNbguSIvdaoosCeW1nqGBj2CyEu93jv316lY+OATKdBEJarDgsdHL1FECZoZjYsJ34+sKnU2MYgOWKvNSpt2+hUgrBj7rYJQHw0GBq15WbJTuG1G6yXSdSlnhE5Qbh901pjG4OUddfcaMGgNzBMpV8gARoEoVBVxGfhaOLOXR5ULkqL8+Vx5MAC2zbO3yQxTQgkQpsglGvY+oYIwkS98/6QcnG3ixN2sKwiR568T7qsqkMEYLW0CUJ5fvrw2CQLRxPRe2PcO3eOx4fuqjC2MUhxcuScHiGQCG2CcKNqiX/fkF+T1zQn2R205WZtrWWCECvZMTdmMDw2yS5eIG7aBGFpcb48LJSjYRIhg3B7XWlOtjb/O8hU6l+Sty8OGNsYIH1p9lbLYaGJ844H5caJezaXG9sYpL6cbKscNrjgYRMFECfNglB1WCjnwsRJfVO/kyBEDOTvyfu93onAtLGNAdKUZkEoqwAPDPtZLxOfc5ej46JbakrUJx4Dy5HThKFwRG68AbAq2g+NCiGu9HI0zKoNj01e6omu/Xtgx3pjG4MkOzJntV9Y4bTLXbxnOpgmBOKhQYk1RWlxfpEjTymE//610Z1bGNlbndMXrisXWVbL7m3rjG0MkiyOEmvS7m3rem+MCyEu9YxMBKblQdkAYqTlukRZ6oJdTXFof7dPudjhLuO9DLHbM1dxOxSOyFXHAGKnZRDK4oc9/b7gdEjDV854Fzpvyn1gD+zgJAGsQoXTXl1eoFz/7uINYxsDpCMtg/Bu1bz9+73UfFqF1965plwUOfJ23cW4KFZH3jxd6LwpKxMBiJGWQVhanF9anK9cX7pKEMZqeGzy3KXoer8Hd6xnH30maWxstNyupaVF8+/y4I71WVaLECIUjsgxdgAx0vg9V04TMlcRu9fOX1POXcqyWg7sqTW6OdDSiRMnnn766YjKoUOHNP8uzkLbB+qiR1cShMBqaRyEH3RH/xr7hiYofhiLQHDm1bevKtcf2lrhLLQZ2x5oqKury+Px1NTUJOF77b0nuuVm0Bu40HkzCd8RyBgaB+H2TaXKEI0Q4kxHv7YvnpFeffuqrD/wsQ9vNLYx0FZ/f78Q4r777kvC99q9rVIWYZBTzgBioXEQFthzVcUPuS29g5nZsOwObq1dy3ETGeb06dMul8vlcskJwq6uLp2+V5bV8vC9G5Trc5cGlR29AGKh/bqMPdsrlQtP3xjFD1d28uxV+Yb16YfcxjYGmjt58qTH4/F4PMrsYENDg8vlam9v1+nbPbIrOgYbCkdeebNbp+8CZB5LJBLR9hW948GvffeUsvrjC5/44P5dyZggSUfB6dDXvntKuVfYUlPy9S8+YHSLoDu32+12u48fP65+cMnKavHVmvnuT86evTQohLDbcp75yh/Jw9EArECzEmuSs9C2tXZtR9ewEOL189cIwuW88maX7DHX319nbGOQHG63u7Ozc/HjiZRYU3vsoc1KEAaCM61nej798GZNXhbIbLpsWZPbe7v7fQPDHFi/hOGxyZff8CjXW2vX7tpaYWx7kBlq1hVun9tHceJMD+fAALHQJQjv315ly81Srk+dZQHbEp4/8d7MbFi5/osD24xtDHTidrsbGxvVj7S2th44cEDXb/qpvS7lQukU6vq9gMygSxDmZFtlIeC2d/u4LV3gnStDZ+dKyTx87wZ5jA4yzJNPPtnc3CxLydTX1wshjh07pus3VS8/plMIxEKval5yAVsgONNGqQuVicD0D379B+W6wJ576ONbjW0P9NPU1PTCCy8cPnxY2TvR2dmp+dq0JckVyIHgzE9/czkJ3xFIa3oF4aaqInlbevzNbmURKYQQP/j1H2RZ5D//+FbW9WW2Q4cOyeJqSy6T0cPW2rX3zw3JvHb+mnJaIYDl6Fjf+ZMPRldCeseD1D9UtL3b9/Z70YNydm2t2HdPtbHtQab6zCNblOrtoXDkuV//gTtRYAU6BuEOd1llqUO5/vmpK3JtiGn1DU38+JUO5brAnvuFP/6gse1BBqtw2g/u2aRce/rGXjvPmjVgWfqe+CPXQ/r8U7+a2y1gTsHp0L/87Lw8r/jIY/fIypCAHh57eLM8Fu2nv7nMOYXAcvQNwh3usi01Jcr18Te7TFv/MDgdeub5t+SWyk9+xLXDXWZsk5DxcrKtX5wbdQgEZ5598V0GSIEl6X4G7Gf3R1dFBqdDcrWkqYTCke+99O6V3lHlw51byj/70buMbRJSzZE52r7sDneZLO10qWfkpbYkrdYB0ov2JdYW2FJT8vC9G5QpirOXBtve7TPbCpHnW9+TC2SqywuOPHaPse1BCtKqxNpif/7xbRevepXRiF+2dW7ZUCJLzwBQ6N4jFEJ89qN3yfNmn2+9ODw2mYRvmiJ+8PIf5EFLRY68rx76MPslkEy23Kwvf+pu5ZTQUDjy7IvvmuoPEIhFMoJQvUIyEJz5p5bfmWEFaXA69C8/O3fybK/yYZEj7+//co9cvAAkjau6+M/n6jb4/FP/8rNzctEWAJGcIBRC7NxSLk8N7Rua+N7/+31yvq9RfP6pZ55/S46IKikoN5MASXZwz6YHd6xXrrv7fc88/5YZbkaBGCUpCIUQn390uyyq+duO/udbLybtWydZ743xf/z+abk6prLUQQrCcF/607s3VRUp11d6R5998R0WkQKK5AVhTrb1bz+3S26eaz3TnZFVEE+e7f3Wc2/KaRhXdTEpiFSQZbV89dCH5a/i2+/daP7FebIQEMkMQiFEaXH+1x7fLU9o+tUbnu//8kLG/Cl6x4P/1PK7H7z8BzkBs3NLedMTe9g4jxShLNeSv5Bvv3fj6I/fYr4QSGoQCiFq1hX+3eP3ySx87fy17/7kbAacFPPq21e//q9t71wZko889vDmrx76sPyXAqmgwmn/b0/ulf3CSz0jzzxPFsLskh2EQogtNSV/9/h98rb0nStD3/jeG3JGLe1c6hn5x++f/tErHTLOixx5X3t896cf3mxsw4AlLVi6daV39OiPz7CnAmZmSc4BaYsNDPv/+SfnZNWxLKvlEx9xfWqfWymZnxZ6b4z/5OTlC5031Q/ev73qiUc/UGDPNapVSDtHjhzRb0P9cnz+qW//8Iz8Ayyw5zZ8Zid77WFOhgWhEGIiMN38i3c6uoblI6XF+Yc+tm33B9YZ1aQYXei8+avTXZd6RtQPVjjtX/jjD/JWgtVSV1ZLZiIqewrlYEyW1fKZR7Y8+kCdsvseMA8jg1AIEQpHXnmz6xenrqiXzLiqiz/xoGvX1goDG7Ykn3/q9IXrr759dcE4kt2W84mP1B3csymNurNIHYb0CBWhcOTffnmhTXVc6NbatV/+1N1UfoCpGByEir6hie//6oKnb0z9YIXTfmDPpr33VBu+3iQ4HTp3+caZjoELnTcXrHG123IO7Kk9uKeWwmmIm4FBqGg90/1//v2S/N225WZ99qNbP7Z7o4FNApIpJYJQ8duO/p/+5vKCzlZOtnXXXevu3Vq+c3NFkhOxb2iio3v4gmf4Us/I4jIcRY68R3bVEIFInOFBKITw9I0d+8V59V+fq7r4i3/8QVkEA8hgKRSEQoiZ2fCrb/ecOts76A0s+FSW1bK5xrl1o3PbRufmGqce0xgzs+Hufl/3wFhP//ilqyPLHWS6pabko7s37rprHQOh0EQqBKEQIjgd+vErHephUiHEvnuq1Qf8AhkptYJQEQpH3r44cOJMz4LBUinLaqksddRUFFaWrllfVuAstFWWOlbVX5yZDfv8Uz7/1NXB8dHx4MCIv2/IL1fQLam6vGDP9so926sqnPbV/XuAFaVIECreuTL0/In31HeiOdnWg3s21T+wibXQyFSpGIRS39DEmY6BMx39izuIi2VZLSWFtpzsLLlDsawoehvrnQgq8x/hcNg7HvT5p2KsOJyTbd1UVXTP5vKdm8urywvi/XcAK0mpIBRCzMyGW890v/ja++o/k5xs6/5dGz/xkToqJSHzpHQQSgPD/nfeH+roHvH0jeldhsaWm1VbVexeX7zDVeqqLmH8E3pLtSBU+PxTPz91pf3dPvUCsZxs6+5tlQf21Mr63UAGSI8gVOvu9/UOjvfeGB8YuTUw7F9uJi9GOdnWylJHkSOvuqzAtb64wmlfX17APiokU2oGoWLQG/jR8Y4FVSOEEFtqSh66d8P926u4U0QGSL8gXCAQnPGOB/2B6Zu+SX9gOjgd8gemp5aqnZiTbS105CkjqMVr8uy2nHKnnWkPGC6Vg1DRe2P8pfbOc5cGF2wfsuVmfeiudXu2V+5wl3H7iPSV9kEIpLvUD0KFdzx44kzPa+evLZ6eKLDnfuiuij3bK7fWriURkXYIQsBgRpVYi08gOPPbjoFTZ3t7b4wv/myBPXeHq2yHu3SHq4zhFqQLghAwWLr0CBfovTH+2vlrZzoGJgLTiz+bZbWsLy+421W2w1VaW1VseH0oYAUEIWCwNA1CRSgcudQzcqZj4NzlwSUTUcyF4vZNpZs3lGxcV8j2fKQaghAwWFoHoRQKR97v9XZ0j5y7PNg3NLHCM52Ftk1VRZs3lNRUFG6qKqJIIQyXbXQDAGSCLKtla+3arbVr/+yRLd7x4DvvD13u8V68OuLzTy14pnc86B0Pnr00qHxY5MjbVFVUudaxvtyxsaKQ/UtIPoIQgMachbb9u2r276oRQgyPTV68OnK5x9vRPbzkrl+ff+qdK0PviCH1l68vL6ha61hbbKsoWVNZ6qCuIXRFEALQUWlx/r7i6n33VAshBr2B3hvjnutjSk2M5eYUlS7jgl38FU57SWF+WVF+udNeWpzvLLCVFOY7C23s6EfiCEIASVLhtFc47bs/sE750Dse7O739Qz4rt+cuHpjfMERbAsMegOD3sClRY/bcrMqSx12W46zwFZSaCsptBXk5xbYc0qL7Q57LqtVEQuCEIAxnIU2Z6Ft19YK5cNQODIw7B8YvtU7OD4w4h8YvuUdD96xtnBwOtTd71vusznZ1iJHXpEjr8CeW5CfW+TIy8622m3ZzoL8AnuOEKLIkadU6qdnaWYEIYCUkGW1VJcXVJcXyC6jEMLnnxr0BoZ9gUFvYGRs8qZvcngssHLfUW1mNjw8NhnL85XIFEIU2HPzcrPX2LLteTl2W06+LduWm+Ww5woh7Hk5a2zZQgi7LUdZ7FpSaGNpT+qYUNXX9PmnZmaj10pB6RW+kCAEkLqU/twWUbLgce94cHQ8OOafGhjxTwZnff4p70TQ55+aCEwvXqcaCyUyhRCxp+zipirdSmehzWqN9i8L7Dm2nPm32ZJCm9VqEUIs2EyZZbU4C2zLvbLVanUWLvtZhd7jwKFwZDS2Ew4CwZkl+/GhcMQ7sfQrKAfEqh+ZXfTIxOR0cC7kRscn1WVv73iy3pf+9G5llno5BCFgPFllLQM2FCaHMqwqhBCiYvFnh8cmJwLTgeCMdyLoD0z7/NNKXX7lRNKp6dBy63QSId+4445SGIUgBIxH/mmrtDj/jvVrlG7E8FhACDEzGx67NaUcXzM1HfIHpmX3RXmCiKHbgfRFEAIwI2XSaLX13uQg3sxsSLmYCMwEZ2aFEOFwRG6UVB8Gt2BI0B+YDk7Pyg916p6mviUXKGVZLSWFt/2P2HKzCvJvq97usOfm5WaJ6GzubaPBchI3LzdbXfPdcaf67wQhAMQqJ9sqs7Oy1KHTd1lucDUUjoyOr2Lc9VZwNjB1h2W3SyorWt39gbL4drnPpv6SIoIQAFLLCv1UiuzoIdatM+oj05Di+M8C9MPfVxqJ8T+LPaQAAFMzOAj1uLfS6X4tvV5WD+n1E0ijXy2dpNFPIL1eVg/p9RNIo1+tGNEjBACYGkEIADA1ghAAYGqWSCSSRiPpAABoyxKJRO78LAC6OXLkCCXWAAMxNAoAMDWCEABgagQhAMDUCEIAgKkRhAAAUyMIAQCmtrogtKi0tLTo1CZoq7Gxsb6+3uhWABni6NGjbrfb6FbgDhobG2Va3fENMNYg7OrqslgsDQ0NkUgkEom0tbUdPnz46NGjCbcW+jp69Ghzc7PRrQAyREtLy1NPPWV0K3AH9fX1zc3NkTmdnZ0r37vEGoQ/+9nPhBDHjh1TPty7d29DQwO/ECnO7XbzfwRopb6+/vDhw0a3AnfQ1dXV2tr6wgsvyEeee+45j8ezwihmrCfUNzU1NTU1qR+pra2Nq5FIkvr6eo/HE4lEGMZJfbLMISVmUlZjY2Nra6vH42lsbOzs7DS6OVhWXV3dgoppVVVVK39JrEG42MmTJ10uV9xfDr0dP37c6CYgVuRf6jt27JgcEkN6eeutt4QQ1dXVyz0hzlWjLS0tra2tTz75ZJztAgAgKQ4fPuxyufbu3bvcE+IJwvb29sOHDx88eHDBYCkAAClFmRs6ceLECs+5LQhbWlosS1GvPW1padm3b9/BgwcZeTNcfX39kv9f7GwBACGExWLxeDwej6eurm6Fp902R3jo0KFDhw6t8OyjR48+9dRgbj3OAAAULklEQVRTDQ0NjJWnAu5FAGBJXV1dyiqWWI4aXMXQKCkIAEh9q0pBEXsQtre3k4IAgNR34MABEXMKitiD8Jvf/KYQorm5ecF0VHt7e3wNBQBAcy0tLR6PR9xeE9RisTQ2Ni73JZbYMxOAHo4cOcI+QsBAnD4BADC1+CvLANAKJdYAAxGEgPHIP8BADI0CAEyNIAQAmBpBCAAwNYIQAGBqBCEAwNQIQgCAqRGEAABTIwgBAKZGEAIATI3KMoDxKLEGGIggBIxH/gEGYmgUAGBqBCEAwNQIQgCAqTFHiFQxMxse9N4aGL41MOIf8ga8E0HveHBmNhQIzgaCM/JpWVZLSaEty2opKcwvXpO3rnSNs9BWXVZQWbrGbssxsP0A0hRBCCMNj03+3nOzp9/XOzjeNzQxMxu+45eEwpHhsUkhxKA3sOBTzkLbpqqiuzY6t2xw1qwrzLJadGk0gMxCEMIAV3pHf3fxxu89NweG/Rq+rHc86B0Pnr00KISw23LudpXds6Vs5+ZyeooAVkAQInm848HXzl97/fw173hwuecoI5+lxXZnga3cabflZjnsuQueEwjOBIKz4/6pm75Jn3+q98b44tcJBGd+29H/247+nGzr7m2VH962bueWcvqIABYjCJEMl3pGXvlt9ztXhpb8bM26wi0bSmrWFbrWF1eWOuKIq+Gxyas3xruuj10dHL/UM6IeYp2ZDZ++cP30hevOQtsju2o+tnsjHUQAagQh9HWh8+ZL7Z1XekcXPG7LzfrQXes+dFfF9rq1iSdTaXF+aXH+rq0VQohQOPJ+r7eje+Sd94fUnUXvePDnp6681Nb56AN1jz6wiTgEoLBEIhGj24DM1Htj/EfHOxZEYE62dddd6+7bXpmcgcqBYf/pC/3t7/YtGIy123IO7Kn95EdcOdnG7yCS9dUEJWYAIxCE0F5wOvTT31w6dbY3FJ7/7Spy5H1s98aH791Q5MhLfpMudN781emuSz0j6gcrnPa//uSOrbVrk98etSNHjpB/gIEYGoXGLvWM/K+Xfq/scFAUOfI+8ZG6/bs2Gtj92uEu2+Eu6+73/bK9U1lWKoQY9Aa+/cMzD+5Y//lHP8BIKWBaBCE0EwpHXmrr/GVbp+wIZlktf7LPfXBPbYrEzKaqoq98bteV3tHnT7zX3e9THjx94fqVa97Gz9zrqi42tnkADMHQKLQRnA41/+K8el3olpqSL33qngqn3cBWreC189da/v2SrFmTZbU88ej2/btqkt8ShkYBYxm/UgAZwOef+sb33pApmJNt/fyj27/+xQdSNgWFEA/fu+Fbf7Nve12p8mEoHPnBy3949v++q57XTFBLS4vldo2NjVq9OACtMDSKRPXeGD/647cmAtPKh85C21c+t2tTVZGxrYqFs9DW9MR9r7zZ9dPfXFby7/SF675bU1/53C5bblbir//6668fPHjw+PHjib8UAP3QI0RCBob933n+bZmCW2vXfuNLH0mLFJQefaCu6Yn75CxmR9fwM8+/FZwOJf7KJ06cqKurS/x1AOiKIET8Bob93/7hGZ9/Svnw/u1VTU/cZ8juiARtrV37rb/ZJwdyr/SOapKFHo/noYceSrh1APRFECJOw2OT6hQ8uGdTw5/tTN9ins5C29e/+EBlqUP5UMnCWE7DWE57e7sQ4h/+4R/kBGFLS4s2bQWgKYIQ8QhOh/75J2dlCj5874bHD24ztkmJK3Lkff2L99esK1Q+vNI7+v1fXoj71U6fPi2E+OY3vxmJRCKRyAsvvHD48OGjR49q01YA2mH7BOLx3Z+cldvSd39gXcNn7k3fvuACPv/Ut394Rp4P9djDmz/98GZNXrmxsbG5uXnxX5y6xJrEhgogaVg1ilX71RsemYKu6uIjj6XxiOhiRY68pifu+8b33lD6uy++9v6myqKdW8qXfLKSbYsff/rpp5uamhY8WFtbK4To6upavIKG2AMMxNAoVudK7+gvTl1Rrp2Ftr/93K5UqFutLWeh7auHPix3UDz74ruD3sCSzzx27FhkKYtTEEDKyrS3MOgqOB169sV3lC13WVZLw2fuTcc1orHYVFX0V3+yQ7kOBGeaf3F+tRvtGxsb3W63+pGTJ0+6XC42VACphiDEKvz0N5dkNe3PPLJlS02Jse3R1f3bqx6+d4Ny3d3ve/kNz6q+/PHHH/d4PLKUzNGjR1tbW5977jltGwkgccwRIlZXekdfffuqcu2qLn70gczv2Xz+0e1Xro0qC2defO39PdurYi8at3fvXo/H43K55CSix+OhOwikIHqEiEkoHPnBr/+gXOdkW7/8qbszaYHMctT/UvVPIEZ1dXXqiUNSEEhNBCFicuJMd9/QhHL9Z49skRvPM56ruvhju2uV646u4dMXrhvaHADaIwhxZ4HgzEtt0Rmy6vKCA3s2GdueJHvsYbdcE/TzU1fkyU0AMgNBiDt7+Y0u+e5/6GNbzTAoqma35Rz6+FblenhssvVMj6HNAaAxghB34PNPtZ7pVq53binf4S4ztj2GeHDHerlE9sSZHjqFQCYhCHEHL7/RpdSezrJaPrv/LqObY5jP129XLtQDxVo5MkfblwUQC7ZPYCWB4MzJs9EtEx/aWlFdXmBsewxUs65w19YKpbbcq2/3PPrAJg2LCVBiDTAQPUKs5JU3u+VRRJ/a6175yRnvsYei1bdnZsNySyWAdEcQYlkzs+FTZ3uV651byuX5RKaldAqV69fOX0vktEIAqYMgxLLevjgwEZhWrg/cV2toW1LFJx50KRc+/9Rr568Z2xgAmiAIsawTc/sEKksd2+tKDW1LqnBVF7uqi5VrRkeBzEAQYmmevrHufp9y/ciuDcY2JqUc2FOrXAwM+6/0jhraFgAaIAixNFlLLCfbuu+eamMbk1J2b6uU60VfZ3QUSH8EIZYQCkfOdAwo1w/uWG+35RjbnpSSZbXI45nevjgQnA4Z2x4ACSIIsYRzlwblMpm9dAcXkT+T4HToTEe/sY0BkCCCEEs4dS66a6LCac/s03fjU+G0yyUz7e/2GdsYAAmisgwWCk6HLvWMKNd7tlcZ25iUtfeeak/fmBDiSu+odzzoLLQl8mqyuBolZoDkIwix0LnLN0LhiHK9e9s6YxuTsnZvW/fjVzqUH9TbFwcOJnY0FfkHGIihUSx07vKgclHhtFNNZjkF9tyttWuV6/Z3Oa0XSGMEIW4zMxu+0HlTuWZcdGV771mvXPTeGB8emzS2MQDiRhDiNr/vvCn3A+zcXG5sY1LcDleZPKP47OUbxjYGQNwIQtzm3feHlIsiR55cGIklFdhzN9c4lesLnmFjGwMgbgQhbtPRHX1DpzsYi52by5SLSz0jHEYBpCmCEPMGhv1yrusegjAG8nZhZjYs95wASC8EIeZdvOqV1xw3EYvKUkdpcb5y3dFNEAJpiSDEvPfmxkW31JTYcrOMbUy6uNsVHR294LlpbEsAxIcgxLyOrmifhnHR2N1VG10v0zc0wSYKIB1RWQZRA8P+QHBGud62ca2xjUkjskcohLh4dWRfcTw1yimxBhiIIERU5/Ux5SIn21pbVWRsY9KI3ZZTs66w98a4EOJyjze+sxvJP8BADI0i6nJPdKXMpqoiuU8csZAd6CvXvCs/E0AKIggRJd/Et2xwGtuStLN5Q/SkqkFvwOefMrYxAFaLIIQQQvj8U4PegHJdt56CMqujPrKxs2/MwJYAiANBCCGEuHh1fg8cJ/GuVpEjT+4mfP/aqLGNAbBaBCGEEKKrz6dcVJY6Cuy5xjYmHcnx5O4Bn7EtAbBaBCGEEKLzerQfs6mS9aLxqK2KHtzY08/QKJBmCEKImdmwsvpfqN7QsSqbKqMTq8HpUN/QhLGNAbAqBCFE39CEPDlBvqFjVWrWzd9AeK7TKQTSCUEI0Xcz2oPJslo2sZU+LrbcrOryAuVadq8BpAUqy0BcuxENwvXlBTnZ3BvFqaaiUBkUvbL6haOUWAMMRBBCdA9Eh/JYKZOI2qrC0xeuCyGuD02EwpFVVech/wADcfsP0TfkVy7KnXZjW5LW5PRqKBy5znoZIH0QhGbn80/JQyeqywqMbUxaU6+XYTchkEYIQrNTr+xgpUwi1OtlBoZvGdsYALEjCM2ufyQ6Llpgzy1y5BnbmHRXWbpGuRiY+6kCSH0EodnJJaPqkT3Eob6+/pXn/4dyLffU19fXW+Z0dXUZ1zoAyyIIzU5uIqxcu8bYlqS1xsbG1tZWuy1H+XB4bDI4Haqvr+/s7IxEIpFI5Omnn3a5XGQhkILYPmF2A8MsGU2UxRLdKZGfN/8H9ctfv9ra2trW1qZ82NTUdPLkye985zvHjh0zoIkAlkeP0NSUjotyXbXWYWxj0pTb7Xa5XJFIRAixxpYjtw++euo1IcTevXvlM/fv39/c3GxIIwGsgCA0NXV5aOYI49PZ2dnZ2alcWyyi3BkdYe7q6na5XOpn1tTUCCEYHQVSDUFoaoOj0VX+ttwsloxqompu4Whf71VjWwIgRswRmtqQN6BcyH4MElS51iHEoBBiJhSK/atkrVGJomtA0hCEpjY4Gg3CClbKLM/tdns8nsWPt7W1qacAFevLo1OtuY6y6eBIjN+C2AMMRBCa2pA3OjRaUUKPcFlyCjAWpUXRWwp7YfnFMy+rP9Xb2yuEqKur07BtABLHHKF5hcKRwfmhUXqE2igtzlcuymq2CSHa29vlp06ePHnw4EFjmgVgefQIzUt2BwXltrXjLLTlZFtnZsPlNds/fP9D+/btU3ZWHD16tLW1dckhVgDGIgjNS3YHBT1CTVU41yj7Ur76jX/94T99VW6393g8jIsCKYggNC/vRFC5sNtyCuy5xjYmAyg9PyFEhdOuBOHg6K3jx48b2igAd8YcoXn5/FPKhZzWgibK51YeqfvcAFIWQWhechOhs9BmbEsyjBxnHh4jCIE0QBCa17BvLggLCEItVc2d4zEzGw4EZ4xtDIA7IgjNa3hsUrlYy9CopkqL51cecVQ9kPpYLGNSoXDEOx5dLMMcobYcqpVHY3MTsSuTJdYoMQMkH0FoUrI7KIQoK2LvhJZsuVkF9tyJwLRQjT+vjPwDDMTQqEmp13HQI9Sc/JGOjAWNbQmAOyIITUqW287JtnIAk+ZkEHonJld+JgDDEYQmJTcRsndCD86CuSAcp0cIpDqC0KRG596gSwoZF9VeSWG0kz1KEAIpjyA0Kd+tuR4hmwh1IEeb6RECqY8gNCk5NMoEoR7UtxdkIZDiCEKTktsn5CAeNKTeU8/oKJDiCEIzCoUjyi43oVrWAQ2VFNIjBNIGQWhG6j4Kq0b1kGW1yJOtBkepsgakNCrLmJG6j8IcoU5KCm1Kt3syOHvHJ1NiDTAQQWhGclxU3D6IBw05C229N8aFal3SCsg/wEAMjZqRfzIahHZbTpbVYmxjMlXRmmhX+6aP4jJASiMIzUgOjTIuqh/Z1R4dJwiBlEYQmtEoQag/uQoplqFRAAYiCM1IDo1SVkY/cmg0OB0KToeMbQyAFRCEZiQXyxSojpCFttS9bb9qdRKAVEMQmpGcIyx0EIR6Ud9ksKceSGUEoRlRaDQJ1PtSAsEZA1sCYGUEoekEgjMzs2HlmjlC/WRZLbbcLOV6YpKhUSB1EYSmMxGY750wR6grx9yPV5Y4B5CCqCxjOuptbQ6CUE/OQpsSgXesskaJNcBABKHpjN2a39ZGxW1d2W05ysUd5wjJP8BADI2aTmCud8JKGb0V5Ec73FRZA1IZQWg6csloTjb/+/paWxw965FVo0Aq463QdGR9NTlwB53YbdGpB4IQSGUEoenIvRMEod7kT5hVo0AqIwhNxzsR7RGWFeUb25KMp/4J0ykEUhZBaDpT09HFMnlz272hE3WfOxDDOfUADEEQmo6suM0mQr2pg3B4LGBgSwCsgCA0HXkSApsI9VZaPD80yklMQMoiCE1HviMzNJoElBsFUh+VZcxFfR5Q8Ro21OvOYc8NTk8K1a6VJVFiDTAQQWgucu+EYI4wKYocecreCfVPfjHyDzAQQ6Pmoq64zT7CJMjJjg6NrtwjBGAggtBcbqkW8bNYJglkHbvAFPsIgRRFEJoLb8dJJidib7GPEEhVzBGai6y4rV7ZD03U19fX1dUdO3ZMPtLS0vLlw4flh//5C6KhoUH9BACpgCA0l5WXbCBujY2Nra2tDQ0N6gdff/31nbv33f3J/ySEKC3Of+YrjxjUOgArIQjNZWSu+jMThBqyWCxLPn7ixIkPfuhB5ZrFMkDKYo7QpKxW/uu14Xa7XS5XJBJZ/CmPx7Nz1/3KdSi8xBMApAJ6hOYydis6R+gsoEeojc7OziUfb29vF0L8W/N/773aozzyRxt/9FdfeCJpDQMQI4LQXOQcIcfT6+306dNCiP/Y9F/ODa8TQvRceP2vv/j5m4P9TU1NRjcNwG0IQnORZzCVMEeos6ampqampuGxyXPfPSWEqN3x0MY1w0899dSSQShLrEnUmgGShiA0F3kGEz3C2Lndbo/Hs/jxtra2vXv3rvy16p9zRWW1EKKrq6uurm7B04g9wEAEobnI42GLHFTcjtVys4CxUP+cZ0LsXQFSEd0CcwkEo5VlbDncA+mrsbHR7XYL1UlMb77xusvlWtwdBGAs3g3N5e//cs9N36QQYktNidFtyXCPP/54c3NzY2Pjl/7Dfw3OzP78f//Pt06/1tbWZnS7ACxEEJrL1tq1W41ug0ns3bvX4/G4XK7m5mblEY/HQ3cQSEEEIaCNxXvq6+rqltxoDyClMEcIADA1ghAAYGoEIQDA1AhCAICpsVgGMJ4ssUaJGSD5CELAeOQfYCCGRgEApkYQAgBMjSAEAJgaQQgAMDWCEABgagQhAMDUCEIAgKkRhAAAU7NwTAwAwMz+P8ilFld2k8JeAAAAAElFTkSuQmCC\"></div>"
      ],
      "text/plain": [
       "-Graphics-"
      ]
     },
     "execution_count": 64,
     "metadata": {
      "text/html": [],
      "text/plain": []
     },
     "output_type": "execute_result"
    }
   ],
   "source": [
    "Plot[Gamma[x], {x, -2, 2}]\n",
    "\n",
    "(* не определена в -1!! *)"
   ]
  },
  {
   "cell_type": "markdown",
   "metadata": {},
   "source": [
    "# Дифференцирование"
   ]
  },
  {
   "cell_type": "code",
   "execution_count": 66,
   "metadata": {
    "vscode": {
     "languageId": "wolfram"
    }
   },
   "outputs": [
    {
     "data": {
      "text/html": [
       "<div><img alt=\"Output\" src=\"data:image/png;base64,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\"></div>"
      ],
      "text/plain": [
       "x + 2 x Log[x]"
      ]
     },
     "execution_count": 66,
     "metadata": {
      "text/html": [],
      "text/plain": []
     },
     "output_type": "execute_result"
    }
   ],
   "source": [
    "D[Log[x]*x^2, x]"
   ]
  },
  {
   "cell_type": "markdown",
   "metadata": {
    "vscode": {
     "languageId": "wolfram"
    }
   },
   "source": [
    "# Чистая функция"
   ]
  },
  {
   "cell_type": "code",
   "execution_count": 85,
   "metadata": {
    "vscode": {
     "languageId": "wolfram"
    }
   },
   "outputs": [
    {
     "data": {
      "text/html": [
       "<div><img alt=\"Output\" src=\"data:image/png;base64,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\"></div>"
      ],
      "text/plain": [
       "x + 2 x Log[x]"
      ]
     },
     "execution_count": 85,
     "metadata": {
      "text/html": [],
      "text/plain": []
     },
     "output_type": "execute_result"
    }
   ],
   "source": [
    "(* Чистая функция *)\n",
    "f[x_] := Log[x] x^2\n",
    "f'[x]"
   ]
  },
  {
   "cell_type": "code",
   "execution_count": 75,
   "metadata": {
    "vscode": {
     "languageId": "wolfram"
    }
   },
   "outputs": [
    {
     "data": {
      "text/html": [
       "<style>\n",
       "\t\t\t\t\t\t\t\t\t\t\t\t\t.grid-container {\n",
       "\t\t\t\t\t\t\t\t\t\t\t\t\t\tdisplay: inline-grid;\n",
       "\t\t\t\t\t\t\t\t\t\t\t\t\t\tgrid-template-columns: auto;\n",
       "\t\t\t\t\t\t\t\t\t\t\t\t\t}\n",
       "\t\t\t\t\t\t\t\t\t\t\t\t</style>\n",
       "\n",
       "\t\t\t\t\t\t\t\t\t\t\t\t<div><div class=\"grid-container\"><div class=\"grid-item\"><img alt=\"Output\" src=\"data:image/png;base64,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\"></div><div class=\"grid-item\"><img alt=\"Output\" src=\"data:image/png;base64,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\"></div><div class=\"grid-item\"><img alt=\"Output\" src=\"data:image/png;base64,iVBORw0KGgoAAAANSUhEUgAAAB0AAAA2CAIAAAC0mgWtAAAAz3pUWHRSYXcgcHJvZmlsZSB0eXBlIGV4aWYAAHjabU/RbQUhDPtnio4ASXBgHO4dT+oGHb/OgVpR1RKJ4zgB0vz6fKePgJScrHpDBzJh3boMkpYXVi65P3EV9+6VU0+KrQ9K9beBufXr1H37pf1ZlGURjRvI1fbAXqSy9DJWfW2/jNbORZoPePt5+r+1qQsqihujSXZHJ2+JlAlVcnW88QJoLLgl24t5wp1j8HDoiMGATD/dM0Ep3PEFjWM6mPHEIqEoOZ/BSIdc1PXpxne+AV+QWsEbpWoIAAAACXBIWXMAABJ0AAASdAHeZh94AAAAPHRFWHRTb2Z0d2FyZQBDcmVhdGVkIHdpdGggdGhlIFdvbGZyYW0gTGFuZ3VhZ2UgOiB3d3cud29sZnJhbS5jb21coqaFAAAAIXRFWHRDcmVhdGlvbiBUaW1lADIwMjQ6MDY6MDEgMjM6NDc6MjDXpTP6AAACQUlEQVRYhe2Xra7qQBDHpzfXN5s6QiqohARTUFjSBIMhgSeA9AUI6RssEsUbFIGFgC4SURJsDQK14UMh54rJ7ekpZftx7k3uzeEvSLsfv2VmZ7azCiLCX9DPLIMOh8N2uwUAXdfb7bamaelzUKogCCzLio5njLmuK5+FiClc27YBwDRNzjnn3DAMogdB8CWuEMLzvGgLoTnn8ok/5F7SNK3VakVbhsNhli1J4T7rfr8DgKqqKePk5jy7hTEGX/dvTLSNqc7NxyWobdtZBmfl5oJm5eaFpnOFEP1+Py8UERWUnjuNRmO/3zPGJpNJrKvX61UqlYJxJlkylocxpZxnnPNXXaVSSTIxxQ+FlTuP39w39xtwP/J4NpvdbrfCoHq93u12E7jVavXxeBTmlsvl6Ov7fPg+3Ol0qvzWbrdLHpTrK4uInucZhkHP9JVKrKlyc6MKggAAEsvsf8m/oZbLJQA0m82EvsJO8DwPXteWBbnkWUlx9el8CO9T4/E4atNisTidTrVardPpUIuiKJZlbTablz6KrWOaZsw6spcxJoSgFsMwLMuSGxTn+r5Plb7v+4gohKAL0Gq1ogHPlVUYzjIuIrquCwCmaSKi4zgA4DiO/N9l4iIi1bz0Swv8GW5oPmMs9eqTqJd5cblcAOB6vZ7P55ebLlHianTXJkdHIyG7Eri04xTz9JwaVenc52iliJ7P58W54TU1jFZE9H2fPEYRnVGf8ni9Xh+PR1VVR6NRdA8oj3VdHwwGGbftf6sffgFBBBakcgFiigAAAABJRU5ErkJggg==\"></div></div></div>"
      ],
      "text/plain": [
       " 2\n",
       "x  (1 + 4 Log[x])\n",
       "3 + 4 Log[x]\n",
       "2\n",
       "--\n",
       " 2\n",
       "x"
      ]
     },
     "execution_count": 75,
     "metadata": {
      "text/html": [],
      "text/plain": []
     },
     "output_type": "execute_result"
    }
   ],
   "source": [
    "FullSimplify[f'[x^2], x > 0]\n",
    "FullSimplify[f''[x^2], x > 0]\n",
    "FullSimplify[f'''[x^2], x > 0]"
   ]
  },
  {
   "cell_type": "markdown",
   "metadata": {},
   "source": [
    "Нескольких переменных"
   ]
  },
  {
   "cell_type": "code",
   "execution_count": 80,
   "metadata": {
    "vscode": {
     "languageId": "wolfram"
    }
   },
   "outputs": [
    {
     "data": {
      "text/html": [
       "<style>\n",
       "\t\t\t\t\t\t\t\t\t\t\t\t\t.grid-container {\n",
       "\t\t\t\t\t\t\t\t\t\t\t\t\t\tdisplay: inline-grid;\n",
       "\t\t\t\t\t\t\t\t\t\t\t\t\t\tgrid-template-columns: auto;\n",
       "\t\t\t\t\t\t\t\t\t\t\t\t\t}\n",
       "\t\t\t\t\t\t\t\t\t\t\t\t</style>\n",
       "\n",
       "\t\t\t\t\t\t\t\t\t\t\t\t<div><div class=\"grid-container\"><div class=\"grid-item\"><img alt=\"Output\" src=\"data:image/png;base64,iVBORw0KGgoAAAANSUhEUgAAAFcAAAAaCAIAAABNbFeJAAAAz3pUWHRSYXcgcHJvZmlsZSB0eXBlIGV4aWYAAHjabU/tbUQhDPvPFB0BkuDAOLw7TuoGHb/Og7aiOkvExvmApPn1+UofASk5WfWGDmTCunUZFC0vLC653/FG9Z0rp5/K2P6gVf8SmNu/Tt+xWNq/QVmW0HiBWm037EEqy/958Nr1Mlo7B2k+4O3362/vpi6oKG6MJtkdnbolShKqcHu88ABYWPCUbA/yhDvb4FGhIxoDMv2snglK4xkraBzTQcYdi4Sj1KadsajJRV/vbKzzDVvrWsaW7d4+AAAACXBIWXMAABJ0AAASdAHeZh94AAAAPHRFWHRTb2Z0d2FyZQBDcmVhdGVkIHdpdGggdGhlIFdvbGZyYW0gTGFuZ3VhZ2UgOiB3d3cud29sZnJhbS5jb21coqaFAAAAIXRFWHRDcmVhdGlvbiBUaW1lADIwMjQ6MDY6MDEgMjM6NDk6MTQbOtMTAAAD1klEQVRYhe1YPUvrUBh+7+WuRQ5uDh3MJAQKGhREF6FUHFwTcHGTgJtipLhaOXFwTBAHJxOhoxE/wCUiKiItCE4JksEpbfAX5A7vbYxN86lwL1yf6fSc5Dlvn/N+nfzwfR/+e/z82wb8E/hWAeBbBcS3CgAAv7I/KsuyJEmWZY2OjkZXbdt+fX3F8djY2PDw8NcY+EW4vr7GQalUqlQqfas5VJAkSdO0gRIAQLPZvLq6mpubA4CRkZF/TYWbmxsAeHl5sW377Oysf9nPBk3TarVawgOUUkppRra/BdM0B/6LD77Qbrdvb2/f3t7Ck+VyWRCEra2ti4uLAofQbrfPz88BYGNjIzyv67rjOCzLLiwsFKANGKanp2dmZsLztm03m000OytXoIcoigMfqNVqoiimnnOCL3AcBwDhVdM0AYAQ4rpuoUP1fd/XNA0AeJ7vm6/X6wCgaVr0lThf+KOCqqpoFv7hQJF6vT6QLooEFVqtFiEEAFqtlu/7rusyDAMAhmFkYY6D67pI2yclwzBx+qaoUKvVAMA0zWABdcke6sl5Ac+N4zi/d1b1ej0jcwLwtFRVDWbQy0RRHPh8nAof+oVSqZQ1kHJCEASe5x8eHgRBaDQaHMdtb29/nnZlZQUADg4OgpmjoyMAWF9fz0eEYlBKYVBEhL0jGak1IggEQohlWRlpU4FJJyAkhCTUshRfwIjwPE9RFEmSFEUBAE3T+tLvJ9HtdnGXoL/6PNbW1gDg8vISAE5PTz3PW15ezkvyRwVJkhiGsSxLVVVKqaqqlmXlqDQZsLS05HkeJojFxcVOp/MltNVqlRCyu7sLACcnJwzDFDEbXQJ6qaswkiMCIw6TFo7j/NY0TUpprpDB+DUMgxCSHJUpNQJLDsdxmBcQhmFkr+cJKkS7AwzmcG5/NwgAcuYO5Mekk/xWpn4hCkIIFvlUxKkQVPVwd9BqtZA/So4CxWkUB5Qg2kH1IamD7nQ6WGwopSzLPj09oR37+/uWZe3s7Oi6njvSeri7u9vc3BwaGgp3ypVKRdM0x3Gen5/7bnh7e3uzs7N5d+F5vtForK6uFrTS7zlCtNPATJZ8iQrwVbepwCsz+qDfi4gsdqbfphRF6Xa74+Pj+PPx8fH4+BgAChSeYpBlOdhUFMXoV4A+4G0KX8G8WHxv3/dd1+V5PrqUmnLD+LwvBPtmbK6xx0E7M15J4nzhR7C9bdv39/eO4+BPlmWnpqayfyzRdf3w8BDHlNLUk4xCluVyuTw5ORn3ISe6o+M45XK5Wq2m2jk/P4+DiYmJaPP+rsL/jO+vrwAAvwE/OGgjVvi/HAAAAABJRU5ErkJggg==\"></div><div class=\"grid-item\"><img alt=\"Output\" src=\"data:image/png;base64,iVBORw0KGgoAAAANSUhEUgAAAEoAAAAaCAIAAACfPF3RAAAAznpUWHRSYXcgcHJvZmlsZSB0eXBlIGV4aWYAAHjabU9ZbkQhDPvnFD1CNhw4Dm+GkXqDHr/Jg7aiGkvExtmgzK/PV/lICFOx6g0doIB16zJCNFpYzNTveMPGzvHpF96JYKb6l8Dc/nX6jsXS/g0iWUJzQ2i13bAHqSz/Z+G162W0dg5SOuDt9+lv76YuqGC3iCbkjh66lZBBqELV8cIDiELGU8gewRPu0QbPCh3ZmJDpZ/Us0DCe+QXNYzqCcUeWdDS0aY/IanKFr3c2v/MNmEta77A8htoAAAAJcEhZcwAAEnQAABJ0Ad5mH3gAAAA8dEVYdFNvZnR3YXJlAENyZWF0ZWQgd2l0aCB0aGUgV29sZnJhbSBMYW5ndWFnZSA6IHd3dy53b2xmcmFtLmNvbVyipoUAAAAhdEVYdENyZWF0aW9uIFRpbWUAMjAyNDowNjowMSAyMzo0OToxNBs60xMAAAOtSURBVFiF7Vi/SztJFP/k+LYhjOlDyFapImRBUCshrK0QWLGyW0bERlGyvQsTe2NhYWVWTGnEKEQwUaKskoBtlpDCamXJX7BXzN1e2E3ibsh5d3KfaubNmzfzmZf3YxNxHAc/F7/90xf4e/E/vf8yfji9X+6oWCwC2N/f/7azTdP8+Pjg43Q6HY/HpzDSbDb5IBqNZjIZz2rEzZyRSATAdybSYrFYr9dXVlYA5PP5VCo1nREAvV7PNM2bmxvvsvMnPNNvAGOMMTYTU41GQ5Ikv/yXl+5XME3z5eWl3+8DkCTJ/3sA0Gw2n56ePMLFxcXl5eUgR+i63u/3/fqmaVYqlUQisb6+HvS6LlHPdNx7e7ZLkmRZlqtgWZYoiiMP8jtqnPfK5TIAWZY9clVVAZTL5eDeC0HP5UYpZYxRSgkhnKGrI8syAEEQVFVljEmSBIAQwhhrNBoB6VmWxS0PP5zjOIIgEEI8wtnQc49st9uusN1ue4SczPANOGE/twn0HMehlAI4OTkZJsBfdqT+OHpB697z87Nt25TS4WDLZDL8Hq1WyxXOzc0FtDkBiqIAOD09dSXn5+cA9vb2QtkJmlre398BJJNJj3xpaQnAYDDgU0mSarXawsKCLMuxWKxer9dqNUJIOp0Oda1MJiOKomEYpmnygqHruiRJYYvHjLuWtbU1AN1uV9O0g4MDzu3+/n6Kkr27uwvg7u4OwPX1tW3bm5ubYY0E9V4ikQDQ6/U88sfHR3f18/OzUChQShVFqdVqXJ7L5aZrR3K5HCHk6OhIUZSrqytBEELUAxcBU0u32wVACBmZWrrdrhv9qqqOM+LBl2WdB3a1WuW5d4Jm0LLOe5xh8C40lUpRSkul0vz8PKU0mUz2ej1d123bVlWVh0Q0GgWgadrr62s2m43FYtxC8ILuwcbGRqlU2tnZsW07n89PYcHrvQkKlmXxLD8Mj6/8ChyiKPrrVZCmTBAEjCrxob3n70g8iMfjuq4XCoVWqzUYDGKxWC6XG05lnU7n9vaWEHJ8fAyAN26DwaBUKhmGUalUeLoPBVmWNU3b3t4Ou/EPTH6VUOCu8zdNPISCN2UueDCPdItfczYt9ZfY2tp6eHhwK+Tl5aVhGACCBw9vqd/e3i4uLnhSmf42Xz5McLTb7ZH9tCAI1WrVrz/Oe7xTBUAIGbnRj3He++tzdlbodDo8OPl0QtrUdf3s7IyPGWNuu8e9F7Bmrq6u8kE2mz08PPSszp7evwo//K+k3wEfoXxAYHcbZwAAAABJRU5ErkJggg==\"></div><div class=\"grid-item\"><img alt=\"Output\" src=\"data:image/png;base64,iVBORw0KGgoAAAANSUhEUgAAABQAAAA1CAIAAADOG1zJAAAAznpUWHRSYXcgcHJvZmlsZSB0eXBlIGV4aWYAAHjabU/bDQMhDPtnio4QkuDAOFyPSt2g4zc5UCuqWiJ2nAeQxuv5SLcAZ0parKIB5NCmjbuLShOTM7UrzkRXLe9+krL87lb5FjCWf+y+YTLXn0XEU0jc4FrWjbYWCU8/95kfq597rfsioQ1WP0//m6sYoyCbelQmMzTXNbl0QmEqhgfugDdmnEx6dx4w8zFYdEiPwQAP27tHgrhxxhckjkp3xhUzhyOuVZrHLMqH+3JV4ztvF9palYR3iKkAAAAJcEhZcwAAEnQAABJ0Ad5mH3gAAAA8dEVYdFNvZnR3YXJlAENyZWF0ZWQgd2l0aCB0aGUgV29sZnJhbSBMYW5ndWFnZSA6IHd3dy53b2xmcmFtLmNvbVyipoUAAAAhdEVYdENyZWF0aW9uIFRpbWUAMjAyNDowNjowMSAyMzo0OToxNBs60xMAAAHsSURBVEiJ7ZaxivpAEMa/+3PYypDeJm3KVGIrAV8gPoESsLZIb5E38A3WwnYFa18ggq0WFoIS9Alk/sVwuU2yyeWuOe64KSRZ9hdnZ4b9vhdmxlfj1XzZ7/fb7RbAfD4311er1fl89jxvNBoVaC6G7/sAkiTJV3a7HQAiyrKstLkMp2lKRADSNGXmLMtc1wWgteZKlGFmVkoB8H2fmeM4BhDHcXWbHWbmMAwByK985RNwni0RHY/HOvhfXRvu9zuAx+NxuVxqe2X9ZBAEAOTw1jrXpp0kCYAoivLnIAhawdWuSueXy+UHcJZl0mSzq2maygGl82a8sDHbm83mcDh0u93pdFodz16vNx6PzfUC/NmobdUf/Kvg9wvwdrs9n8/m3Y7jdDqd/PV9wiaTyfV6bYYXi4XneRb4C/FDq/0H/xi44Azkiu33+4PBwFw/nU7r9bp69RYufRGnMAxLl7uotFKqlWKUlM113Va2IooiFJVJ1Et07wNYlMl0A/I5q8RbJFZkMd9NRG0llt/KJplrra2lqoWlbK7rSs7y0Bbmt3NqrYnINHStYKmwGKIGN2SHmVnI6sCYUTvb4uBms1nTcDekXdche9pKqSRJ5D+JqOpgmmDxbkJabW4pCoqRu57hcOg4TtNpAXyn3PwHxnqEE5iAur8AAAAASUVORK5CYII=\"></div></div></div>"
      ],
      "text/plain": [
       "g'[x, y]\n",
       "Log[y]\n",
       "x\n",
       "-\n",
       "y"
      ]
     },
     "execution_count": 80,
     "metadata": {
      "text/html": [],
      "text/plain": []
     },
     "output_type": "execute_result"
    }
   ],
   "source": [
    "g[x, y] := x*Log[y]\n",
    "g'[x, y] (* не работает *)\n",
    "\n",
    "D[g[x, y], x]\n",
    "D[g[x, y], y]"
   ]
  },
  {
   "cell_type": "markdown",
   "metadata": {
    "vscode": {
     "languageId": "wolfram"
    }
   },
   "source": [
    "# Дифференциальные уравнения"
   ]
  },
  {
   "cell_type": "code",
   "execution_count": 129,
   "metadata": {
    "vscode": {
     "languageId": "wolfram"
    }
   },
   "outputs": [
    {
     "data": {
      "text/html": [
       "<div><img alt=\"Output\" src=\"data:image/png;base64,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\"></div>"
      ],
      "text/plain": [
       "            1      2\n",
       "{{y[t] -> -(-) (g t ) + C[1] + t C[2]}}\n",
       "            2"
      ]
     },
     "execution_count": 129,
     "metadata": {
      "text/html": [],
      "text/plain": []
     },
     "output_type": "execute_result"
    }
   ],
   "source": [
    "DSolve[y''[t] == -g, y[t], t] (* здесь у g есть правило замены *)"
   ]
  },
  {
   "cell_type": "markdown",
   "metadata": {},
   "source": [
    "Частное решение"
   ]
  },
  {
   "cell_type": "code",
   "execution_count": 133,
   "metadata": {
    "vscode": {
     "languageId": "wolfram"
    }
   },
   "outputs": [
    {
     "data": {
      "text/html": [
       "<div><img alt=\"Output\" src=\"data:image/png;base64,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\"></div>"
      ],
      "text/plain": [
       "               2\n",
       "          -(g t ) + 2 C[1]\n",
       "{{y[t] -> ----------------}}\n",
       "                 2"
      ]
     },
     "execution_count": 133,
     "metadata": {
      "text/html": [],
      "text/plain": []
     },
     "output_type": "execute_result"
    }
   ],
   "source": [
    "DSolve[y''[t] == -g && y'[0] == 0 && y[0] == 10, y[t], t]"
   ]
  },
  {
   "cell_type": "markdown",
   "metadata": {
    "vscode": {
     "languageId": "wolfram"
    }
   },
   "source": [
    "# Символы равно"
   ]
  },
  {
   "cell_type": "code",
   "execution_count": 106,
   "metadata": {
    "vscode": {
     "languageId": "wolfram"
    }
   },
   "outputs": [
    {
     "data": {
      "text/html": [
       "<div><img alt=\"Output\" src=\"data:image/png;base64,iVBORw0KGgoAAAANSUhEUgAAABgAAAAaCAIAAAAi3QukAAAAzHpUWHRSYXcgcHJvZmlsZSB0eXBlIGV4aWYAAHjabU/bDQMhDPtnio4QkuDAOFyPSt2g4zc5qCqqGhEb5wGk8Xo+0i3AmZIWq2gAObRp4+6i0sTkTO2K8/DJ5d1PuS+/u1W+CYzlH7tvmMz1ZxDxFBI3uBZdDWuQ8PQ/Fx6rnnut+yChDfZ9+t+zijEKsqlHZTJDc12TSycUpmJ44A54YcbJpHfnATNvg0WF9GgM8LC9eiSIG2d8QWKrdGdckb01VujskaXx4VouJ77zBlZgWrl2O+RkAAAACXBIWXMAABJ0AAASdAHeZh94AAAAPHRFWHRTb2Z0d2FyZQBDcmVhdGVkIHdpdGggdGhlIFdvbGZyYW0gTGFuZ3VhZ2UgOiB3d3cud29sZnJhbS5jb21coqaFAAAAIXRFWHRDcmVhdGlvbiBUaW1lADIwMjQ6MDY6MDIgMDA6MDE6MjnmaNShAAABYElEQVQ4jd2UMY6CQBSGfzbWDi90FhZwAHpiq+MBJtErUHIKggcwHIACLmBiTU+GhMTKxsSOO8wWY9hhl7i4Wpj9m3nwJh//vPcGSymFV+jjJZS3BE30kuf55XIRQriu+0eSUkopxTkHUJalGqHz+ZymaZIk5svHQFLKMAy/mdCajPe+Xq+PxyMAzrkOBmqkNZvNABwOh6ZpGGNCCMdxuqxt20S03++3261lWfdqJKX0PK9LEZGU0jxX27a3ivw4Wg9ERADCMEySRBM554PF+h3UWWjbVrNMU3dAvYHMssz3fR07jrPZbABcr9cxreiBptOp+cgYA9A0zcOgZ3QPVFUVgCAIngLVdV0UBREtFosxoN5ARlG0Wq0YY1VVFUUBII7jLqsvtrl/t9vpQAhxa6FukCkiStPUbLAekUGVZWl1Q1HX9el00t+cz+fL5dK8H4OOOgkhvkBP6v1+tf8Y9AkLi2dEurQ+UQAAAABJRU5ErkJggg==\"></div>"
      ],
      "text/plain": [
       "b1"
      ]
     },
     "execution_count": 106,
     "metadata": {
      "text/html": [],
      "text/plain": []
     },
     "output_type": "execute_result"
    }
   ],
   "source": [
    "a1 = b1 (* присваивание *)"
   ]
  },
  {
   "cell_type": "code",
   "execution_count": 114,
   "metadata": {
    "vscode": {
     "languageId": "wolfram"
    }
   },
   "outputs": [
    {
     "data": {
      "text/html": [
       "<style>\n",
       "\t\t\t\t\t\t\t\t\t\t\t\t\t.grid-container {\n",
       "\t\t\t\t\t\t\t\t\t\t\t\t\t\tdisplay: inline-grid;\n",
       "\t\t\t\t\t\t\t\t\t\t\t\t\t\tgrid-template-columns: auto;\n",
       "\t\t\t\t\t\t\t\t\t\t\t\t\t}\n",
       "\t\t\t\t\t\t\t\t\t\t\t\t</style>\n",
       "\n",
       "\t\t\t\t\t\t\t\t\t\t\t\t<div><div class=\"grid-container\"><div class=\"grid-item\"><img alt=\"Output\" src=\"data:image/png;base64,iVBORw0KGgoAAAANSUhEUgAAAE8AAAAaCAIAAAB5FZaVAAAAznpUWHRSYXcgcHJvZmlsZSB0eXBlIGV4aWYAAHjabU/bjQMhDPynipRgbDOGctgsK10HV37shbuIKIPwDOMHkMbvz5UeAc6UtFhFA8ihTRt3F5UmJmdqd7yh18rl3U+5L7+7Vd4JjOUfu2+YzPVjEPEUEje4Fl0Na5Dw9P8uPFY991r3QUIbrP4//etZxRgF2dSjMpmhua7JpRMKUzFceAJemHEy6dN5wMzbYFEhPRoDPGyvHgnixhlfkNgq3Rl3ZG+NFTp7VHcO13I78Z0XnkBa5VzeQGIAAAAJcEhZcwAAEnQAABJ0Ad5mH3gAAAA8dEVYdFNvZnR3YXJlAENyZWF0ZWQgd2l0aCB0aGUgV29sZnJhbSBMYW5ndWFnZSA6IHd3dy53b2xmcmFtLmNvbVyipoUAAAAhdEVYdENyZWF0aW9uIFRpbWUAMjAyNDowNjowMiAwMDowMTo0Mifgqq8AAALISURBVFiF7Zgxa/JAHMavL93lcCsSQv0ADgYKxcVBI50LOnYSrk5dKh06qpxDRxMEoUOhyQcQGjp2cQiSTE4HRbBTJOQT+A4nIT2TS2yDgvU3hTP873nuyf0v8WS1WoE/w799C9gpR7eHy+m+BSRF07T5fH59fX1+fv7jIlu7tW3bMAwAgCAIlUolm83+eO6teH5+Ngzj8vIy1i1P4SoxhBBZloN1IYSvr6/JK/wGOvXHx8dvFG7hFiEEAJAkCWOMMc7n87QiIeTnJhKTxG2swm9uLctSVZXealkWU8txHGYyWg5jnIadGKhbqns8HmOMVVV1HGcrhWu3hBBJkpgNIMsyU44BY7xjt5Zl+YnRB3UzFY7CdZf6+voyTVOSpGq1mslkPM9TFMUwjNFodH9/H9UPPM8DAGQyGX7bSJFyuey6LkJIFMXhcEgIabfbb29vSRVS04QQZpEIIQAAWZajls1xHAgh2O2+DYbpOA7NOSreTYXrbGlbt217MpnQ9Yjl8fHRdV2MMf9IsG273W4HR25ubhqNRq1WCw4Wi8VOpxM76cvLS6FQoNfZbLZer3e73cVi4Q/GKPSXgendlKhsafdDCKUdYSShPZnTOEIVnvrLYBgGhLDRaIiiSAeZTHxub28VRUEIDQaD2DT2QqRCappeMxsAhGW7+1QpodnW6/XNQY7Cb2+OuVyOXiyXy6enJ2bBlstlq9XSdX2rVNPdt0xlXdchhKVSKaHCtdt8Pk8Iubi4aDabn5+fmqa5rsvcWqvVTNOEEIqi2O/3gz9xXtYLhULoCcE5Njjc3d3RM3I6neq6DgDo9XpbKKQRj8dj2qx9aAMIPskcEfwXulSgD20QCKGqqsF7YhWus726ujJN8/393fM8/9NBEIRN/6GcnZ1xZkoFTdMeHh5ms9l8PgcRX2CxCk/4S3Jg/K3/Lo5uD5ej28PlPxHvvryqNmYQAAAAAElFTkSuQmCC\"></div><div class=\"grid-item\"><img alt=\"Output\" src=\"data:image/png;base64,iVBORw0KGgoAAAANSUhEUgAAADAAAAAaCAIAAAB+V0iAAAAAznpUWHRSYXcgcHJvZmlsZSB0eXBlIGV4aWYAAHjabU9bEgIhDPvnFB4B2pLCcVjFGW/g8U13UWcdw9CE0Aek+Xzc0yUgJSer3tCBTFi3LoOi5QMHl9z3uEPXFc8nP5Wx/EGrfi8wl7+dfcfB0n4aZVmTYgK12ipYjVQO/z1wW/kyWjs3+rx1NWifp/89m7qgorgxmmR3dOqWKEmokqvjjivAxIKbZLuSJ9xZBo8MHVEYkOnn7JmgNG7xBY1tOsjYo7A0VujCaHQ2at2d+M4LTUBarks6j/gAAAAJcEhZcwAAEnQAABJ0Ad5mH3gAAAA8dEVYdFNvZnR3YXJlAENyZWF0ZWQgd2l0aCB0aGUgV29sZnJhbSBMYW5ndWFnZSA6IHd3dy53b2xmcmFtLmNvbVyipoUAAAAhdEVYdENyZWF0aW9uIFRpbWUAMjAyNDowNjowMiAwMDowMTo0Mifgqq8AAAIYSURBVEiJ7VaxjqpAFL27sZYQegpoLYwaCmJFgiT8wGhjrCj8AAs+wAg/gI21kPgDExMbidFOEmtCjCUJ4QvYYja8WdjVx2bdtfBUzNxzhzNnZu7MS5Zl8Eh4/WsBRTwF3cLDCaoBgOu65/P5KwbP8/1+//cUZVmmadoVgqZp2S+iBgCj0UhRFPL7zWaDMdY0Le/hef7eptCoAUBhRTDGiqJMJpMCNQzD1Woly3K32w3DcL1ep2naaDR0Xc85tm0DAJ1Lssrrno/A87wkSYIgvAcKjlmWBQCWZZXN3G63JEQ4ORBCOac8JskqrLtpmoXZLpfLf0tWCbPZLEkSURQNw0jT1HEcz/OGwyHt03XYtj2dTkVRRAgxDBNFkeu6g8GgXq/rul7ZoUJ0Pp/TPTcdiuOYZdlOpxPHcc45Ho+505UdMk2T3iKqqlqWJcvyf6YfDockSTiOWywWdD/Lsp7nua5bWRDDMHRTEITy9r+C0+kEABhjjPGnhMqCfgR0WSng7oIulwvdJFWt3W5/5etd7rIwDMmH7/vj8ZgOSZIEAI7jBEHwae4PO4QQ8jyv1+sZhhFFkeM4LMvSBEEQCKfZbCKEWq1WHiIl9zuFsRyiDzCtQBRFcqTpwhjHMUKoPBky8kv28Qnr+/5ut3sX+xH01XHFJPpOUFWV4zjbtstXRxAE+/0+TdOCQ0VBf46He6A9Bd3CU9AtvAGW+zzx1C2yngAAAABJRU5ErkJggg==\"></div></div></div>"
      ],
      "text/plain": [
       "a2 == b2\n",
       "True"
      ]
     },
     "execution_count": 114,
     "metadata": {
      "text/html": [],
      "text/plain": []
     },
     "output_type": "execute_result"
    }
   ],
   "source": [
    "a2 == b2\n",
    "a2 == a2"
   ]
  },
  {
   "cell_type": "code",
   "execution_count": 116,
   "metadata": {
    "vscode": {
     "languageId": "wolfram"
    }
   },
   "outputs": [
    {
     "data": {
      "text/html": [
       "<style>\n",
       "\t\t\t\t\t\t\t\t\t\t\t\t\t.grid-container {\n",
       "\t\t\t\t\t\t\t\t\t\t\t\t\t\tdisplay: inline-grid;\n",
       "\t\t\t\t\t\t\t\t\t\t\t\t\t\tgrid-template-columns: auto;\n",
       "\t\t\t\t\t\t\t\t\t\t\t\t\t}\n",
       "\t\t\t\t\t\t\t\t\t\t\t\t</style>\n",
       "\n",
       "\t\t\t\t\t\t\t\t\t\t\t\t<div><div class=\"grid-container\"><div class=\"grid-item\"><img alt=\"Output\" src=\"data:image/png;base64,iVBORw0KGgoAAAANSUhEUgAAADwAAAAaCAIAAABka6gOAAAAznpUWHRSYXcgcHJvZmlsZSB0eXBlIGV4aWYAAHjabU/bEcMgDPtnio5gbCPDOCShd92g49dOaHv0Kg5LCD8gjefjnm4BzpS0WEUDyKFNG3cXlS5cnKmd8YTs8y6vfsp9+t2t8r3AmP62+oaLuf40Ip6TYoJr0VkwGwlf/nvgNvO517o2Elpg9fP0v2cVYxRkU4/KZIbmuiaXTihMxXDHDnhixsGku/OAmZfBIkN6FAZ42Jo9EsSNI74gsVW6M87IXhordPaoIry5ltOJ77wAmGta4gAkd/MAAAAJcEhZcwAAEnQAABJ0Ad5mH3gAAAA8dEVYdFNvZnR3YXJlAENyZWF0ZWQgd2l0aCB0aGUgV29sZnJhbSBMYW5ndWFnZSA6IHd3dy53b2xmcmFtLmNvbVyipoUAAAAhdEVYdENyZWF0aW9uIFRpbWUAMjAyNDowNjowMiAwMDowMTo0M1DnmjkAAAMVSURBVFiF7VdBS+NAFH4ue7YMuYkEaa+CIqGFUC+BdqA/wKl4FIQevahUvEkgvXgzeOjVJuC14CDk0lC0eGjBa0Lw0FNKyS/IHmZ3HBOtRtzuCn6nmcn33rx88/LmZSGOY/hq+PGvA/gIvoOeF35+rjvXdfv9Pp+qqloulz93C+BB+75/dXWVfizLcr1ef7+7fr9/eHjIp4Zh/MWgx+OxuBkHxjhT0KqqGoYBAEEQmKb5KSGm8Sw9MMaapokrsixnclcul5m0ruvOKWhN0w4ODmYbjEaj29vbKIoAAGO8trb2sY1937+5uYmiKJfLVSqVfD4/gyPLcrFYfOLEcRzHca/XAwDDMOLX4XmeoigJvxjjMAzT5NkOG41Gwk+a2Ww2E5xOp8MeZage4/H4/v5eUZRqtZrL5aIoMk2TUtput988HxEXFxemaRYKBUII82PbtuM4opNWq6XrOucEQWBZ1vb29uLiYq1We6Y0xth4Ds/zRKWHw2FCe2aVSWmMMQD0er0En4/DMEQIKYoinuFwOAQAQkhSaUoppVRcUVWVZxIbiDn9MWiaRind398/OzvjBVGsjHd3d9PpVJKkdrstGiKEbNu2LOuN6rG0tMTHk8lkZ2cn8VYfwO7uruM4lNLNzU2WAFtbW+IH/fDwAC8pyJGhepycnFBKEUL1en1lZYUtvljdZ0OSpOvra9d1Ly8vLcvSdV3X9UajcX5+LtLSCj7hPR87A+Mn0hqy53QC3W4XIQQA3W6XrXQ6HQBoNpuvmWRumJaXl9lgMpkcHx9nNQcA13XFaa1WOzo6gj9ZAQDFYhEATNMcjUYveshQ8gqFgud5pVJpb2+P1aDpdJrgtFotNgiCAAAcx2FTsYc5PT0dDAbVanVjY4MxLcsCAFZVACCfzxNCbNteX18nhDAaw+8O7P2nyc+Rg7UZYnq89sIih1mJQAjxi4MhDENCSNoPi3CB7cS6vDc7SfFerVQqkiQxkbiKXOkEEt2i7/uDweDx8REAVldXS6WSJElpq3R5ZREuzJDnv8WX/HP5Dnpe+A56XvgFQ6ID74xuuNYAAAAASUVORK5CYII=\"></div><div class=\"grid-item\"><img alt=\"Output\" src=\"data:image/png;base64,iVBORw0KGgoAAAANSUhEUgAAADAAAAAaCAIAAAB+V0iAAAAAznpUWHRSYXcgcHJvZmlsZSB0eXBlIGV4aWYAAHjabU9bEgIhDPvnFB4B2pLCcVjFGW/g8U13UWcdw9CE0Aek+Xzc0yUgJSer3tCBTFi3LoOi5QMHl9z3uEPXFc8nP5Wx/EGrfi8wl7+dfcfB0n4aZVmTYgK12ipYjVQO/z1wW/kyWjs3+rx1NWifp/89m7qgorgxmmR3dOqWKEmokqvjjivAxIKbZLuSJ9xZBo8MHVEYkOnn7JmgNG7xBY1tOsjYo7A0VujCaKqyUevuxHdeTVBarx+8JzUAAAAJcEhZcwAAEnQAABJ0Ad5mH3gAAAA8dEVYdFNvZnR3YXJlAENyZWF0ZWQgd2l0aCB0aGUgV29sZnJhbSBMYW5ndWFnZSA6IHd3dy53b2xmcmFtLmNvbVyipoUAAAAhdEVYdENyZWF0aW9uIFRpbWUAMjAyNDowNjowMiAwMDowMTo0M1DnmjkAAAIYSURBVEiJ7VaxjqpAFL27sZYQegpoLYwaCmJFgiT8wGhjrCj8AAs+wAg/gI21kPgDExMbidFOEmtCjCUJ4QvYYja8WdjVx2bdtfBUzNxzhzNnZu7MS5Zl8Eh4/WsBRTwF3cLDCaoBgOu65/P5KwbP8/1+//cUZVmmadoVgqZp2S+iBgCj0UhRFPL7zWaDMdY0Le/hef7eptCoAUBhRTDGiqJMJpMCNQzD1Woly3K32w3DcL1ep2naaDR0Xc85tm0DAJ1Lssrrno/A87wkSYIgvAcKjlmWBQCWZZXN3G63JEQ4ORBCOac8JskqrLtpmoXZLpfLf0tWCbPZLEkSURQNw0jT1HEcz/OGwyHt03XYtj2dTkVRRAgxDBNFkeu6g8GgXq/rul7ZoUJ0Pp/TPTcdiuOYZdlOpxPHcc45Ho+505UdMk2T3iKqqlqWJcvyf6YfDockSTiOWywWdD/Lsp7nua5bWRDDMHRTEITy9r+C0+kEABhjjPGnhMqCfgR0WSng7oIulwvdJFWt3W5/5etd7rIwDMmH7/vj8ZgOSZIEAI7jBEHwae4PO4QQ8jyv1+sZhhFFkeM4LMvSBEEQCKfZbCKEWq1WHiIl9zuFsRyiDzCtQBRFcqTpwhjHMUKoPBky8kv28Qnr+/5ut3sX+xH01XHFJPpOUFWV4zjbtstXRxAE+/0+TdOCQ0VBf46He6A9Bd3CU9AtvAGW+zzx1C2yngAAAABJRU5ErkJggg==\"></div></div></div>"
      ],
      "text/plain": [
       "False\n",
       "True"
      ]
     },
     "execution_count": 116,
     "metadata": {
      "text/html": [],
      "text/plain": []
     },
     "output_type": "execute_result"
    }
   ],
   "source": [
    "a3 === b3\n",
    "a3 === a3"
   ]
  },
  {
   "cell_type": "code",
   "execution_count": 118,
   "metadata": {
    "vscode": {
     "languageId": "wolfram"
    }
   },
   "outputs": [
    {
     "data": {
      "text/html": [
       "<style>\n",
       "\t\t\t\t\t\t\t\t\t\t\t\t\t.grid-container {\n",
       "\t\t\t\t\t\t\t\t\t\t\t\t\t\tdisplay: inline-grid;\n",
       "\t\t\t\t\t\t\t\t\t\t\t\t\t\tgrid-template-columns: auto;\n",
       "\t\t\t\t\t\t\t\t\t\t\t\t\t}\n",
       "\t\t\t\t\t\t\t\t\t\t\t\t</style>\n",
       "\n",
       "\t\t\t\t\t\t\t\t\t\t\t\t<div><div class=\"grid-container\"><div class=\"grid-item\"><img alt=\"Output\" src=\"data:image/png;base64,iVBORw0KGgoAAAANSUhEUgAAAAwAAAAaCAIAAAAMmCo2AAAAzXpUWHRSYXcgcHJvZmlsZSB0eXBlIGV4aWYAAHjabU/bjQMhDPynipRgbDOGcthdIl0HV37shbuIKIPwDIMfkMbvzzM9ApwpabGKBpBDmzbuLipNTM7U7jhxLs67n3JffnervC8wln/svmEy149GxFNITHAtugpWI+Hp/w08Vj73WvdGQhus/j/961nFGAXZ1KMymaG5rsmlEwpTMTxxAp6YcTHp6Txg5mWwyJAehQEetmePBHHjii9IbJXujDuyl8YKnT2qFD5cy+3Ed16UHVrhOzxuvAAAAAlwSFlzAAASdAAAEnQB3mYfeAAAADx0RVh0U29mdHdhcmUAQ3JlYXRlZCB3aXRoIHRoZSBXb2xmcmFtIExhbmd1YWdlIDogd3d3LndvbGZyYW0uY29tXKKmhQAAACF0RVh0Q3JlYXRpb24gVGltZQAyMDI0OjA2OjAyIDAwOjAxOjQ1uYQ/DAAAANlJREFUKJHNkrENgzAQRY8oPTq5o6BhBehoEQsgsQGSN2CFm4QZqN3SMIA3cMMEP4WtQBwSuii/s+/57t/5EgB0pdsl8Xvofjys6zrPMxHled40jVIqBAAAsNa2bXt8wMzTNPlogLTWRFSWpYiISFEUHrXW7pBzzhiDgzwnIgCCcaVUXdfHcsMwXHe3bRsRpWm6G4/knGPm2FMk34c3dA55Qmv9vImhdyKGTomXOfV9f0oASAAQUVVVy7Iw8ziO0Sy6rguZvqyAMSZsgYh8grIsS76nufiWf4cesngSw2SZZ8YAAAAASUVORK5CYII=\"></div><div class=\"grid-item\"><img alt=\"Output\" src=\"data:image/png;base64,iVBORw0KGgoAAAANSUhEUgAAAAwAAAAaCAIAAAAMmCo2AAAAzXpUWHRSYXcgcHJvZmlsZSB0eXBlIGV4aWYAAHjabU/bjQMhDPynipRgbDOGcthdIl0HV37shbuIKIPwDIMfkMbvzzM9ApwpabGKBpBDmzbuLipNTM7U7jhxLs67n3JffnervC8wln/svmEy149GxFNITHAtugpWI+Hp/w08Vj73WvdGQhus/j/961nFGAXZ1KMymaG5rsmlEwpTMTxxAp6YcTHp6Txg5mWwyJAehQEetmePBHHjii9IbJXujDuyl8YKnT2qFD5cy+3Ed16UHVrhOzxuvAAAAAlwSFlzAAASdAAAEnQB3mYfeAAAADx0RVh0U29mdHdhcmUAQ3JlYXRlZCB3aXRoIHRoZSBXb2xmcmFtIExhbmd1YWdlIDogd3d3LndvbGZyYW0uY29tXKKmhQAAACF0RVh0Q3JlYXRpb24gVGltZQAyMDI0OjA2OjAyIDAwOjAxOjQ1uYQ/DAAAANlJREFUKJHNkrENgzAQRY8oPTq5o6BhBehoEQsgsQGSN2CFm4QZqN3SMIA3cMMEP4WtQBwSuii/s+/57t/5EgB0pdsl8Xvofjys6zrPMxHled40jVIqBAAAsNa2bXt8wMzTNPlogLTWRFSWpYiISFEUHrXW7pBzzhiDgzwnIgCCcaVUXdfHcsMwXHe3bRsRpWm6G4/knGPm2FMk34c3dA55Qmv9vImhdyKGTomXOfV9f0oASAAQUVVVy7Iw8ziO0Sy6rguZvqyAMSZsgYh8grIsS76nufiWf4cesngSw2SZZ8YAAAAASUVORK5CYII=\"></div><div class=\"grid-item\"><img alt=\"Output\" src=\"data:image/png;base64,iVBORw0KGgoAAAANSUhEUgAAADAAAAAaCAIAAAB+V0iAAAAAz3pUWHRSYXcgcHJvZmlsZSB0eXBlIGV4aWYAAHjabU9bEgIhDPvnFB4B2pLCcVjFGW/g8U13UWcdw9CE0Aek+Xzc0yUgJSer3tCBTFi3LoOi5QMHl9z3uEPXFc8nP5Wx/EGrfi8wl7+dfcfB0n4aZVmTYgK12ipYjVQO/z1wW/kyWjs3+rx1NWifp/89m7qgorgxmmR3dOqWKEmokqvjjivAxIKbZLuSJ9xZBo8MHVEYkOnn7JmgNG7xBY1tOsjYo7A0VujCaFplo9bdie+8AE1wWrE6XirLAAAACXBIWXMAABJ0AAASdAHeZh94AAAAPHRFWHRTb2Z0d2FyZQBDcmVhdGVkIHdpdGggdGhlIFdvbGZyYW0gTGFuZ3VhZ2UgOiB3d3cud29sZnJhbS5jb21coqaFAAAAIXRFWHRDcmVhdGlvbiBUaW1lADIwMjQ6MDY6MDIgMDA6MDE6NDW5hD8MAAACGElEQVRIie1WsY6qQBS9u7GWEHoKaC2MGgpiRYIk/MBoY6wo/AALPsAIP4CNtZD4AxMTG4nRThJrQowlCeEL2GI2vFnY1cdm3bXwVMzcc4czZ2buzEuWZfBIeP1rAUU8Bd3CwwmqAYDruufz+SsGz/P9fv/3FGVZpmnaFYKmadkvogYAo9FIURTy+81mgzHWNC3v4Xn+3qbQqAFAYUUwxoqiTCaTAjUMw9VqJctyt9sNw3C9Xqdp2mg0dF3PObZtAwCdS7LK656PwPO8JEmCILwHCo5ZlgUAlmWVzdxutyREODkQQjmnPCbJKqy7aZqF2S6Xy39LVgmz2SxJElEUDcNI09RxHM/zhsMh7dN12LY9nU5FUUQIMQwTRZHruoPBoF6v67pe2aFCdD6f0z03HYrjmGXZTqcTx3HOOR6PudOVHTJNk94iqqpaliXL8n+mHw6HJEk4jlssFnQ/y7Ke57muW1kQwzB0UxCE8va/gtPpBAAYY4zxp4TKgn4EdFkp4O6CLpcL3SRVrd1uf+XrXe6yMAzJh+/74/GYDkmSBACO4wRB8GnuDzuEEPI8r9frGYYRRZHjOCzL0gRBEAin2WwihFqtVh4iJfc7hbEcog8wrUAURXKk6cIYxzFCqDwZMvJL9vEJ6/v+brd7F/sR9NVxxST6TlBVleM427bLV0cQBPv9Pk3TgkNFQX+Oh3ugPQXdwlPQLbwBlvs88dQtsp4AAAAASUVORK5CYII=\"></div><div class=\"grid-item\"><img alt=\"Output\" src=\"data:image/png;base64,iVBORw0KGgoAAAANSUhEUgAAADAAAAAaCAIAAAB+V0iAAAAAz3pUWHRSYXcgcHJvZmlsZSB0eXBlIGV4aWYAAHjabU9bEgIhDPvnFB4B2pLCcVjFGW/g8U13UWcdw9CE0Aek+Xzc0yUgJSer3tCBTFi3LoOi5QMHl9z3uEPXFc8nP5Wx/EGrfi8wl7+dfcfB0n4aZVmTYgK12ipYjVQO/z1wW/kyWjs3+rx1NWifp/89m7qgorgxmmR3dOqWKEmokqvjjivAxIKbZLuSJ9xZBo8MHVEYkOnn7JmgNG7xBY1tOsjYo7A0VujCaFplo9bdie+8AE1wWrE6XirLAAAACXBIWXMAABJ0AAASdAHeZh94AAAAPHRFWHRTb2Z0d2FyZQBDcmVhdGVkIHdpdGggdGhlIFdvbGZyYW0gTGFuZ3VhZ2UgOiB3d3cud29sZnJhbS5jb21coqaFAAAAIXRFWHRDcmVhdGlvbiBUaW1lADIwMjQ6MDY6MDIgMDA6MDE6NDW5hD8MAAACGElEQVRIie1WsY6qQBS9u7GWEHoKaC2MGgpiRYIk/MBoY6wo/AALPsAIP4CNtZD4AxMTG4nRThJrQowlCeEL2GI2vFnY1cdm3bXwVMzcc4czZ2buzEuWZfBIeP1rAUU8Bd3CwwmqAYDruufz+SsGz/P9fv/3FGVZpmnaFYKmadkvogYAo9FIURTy+81mgzHWNC3v4Xn+3qbQqAFAYUUwxoqiTCaTAjUMw9VqJctyt9sNw3C9Xqdp2mg0dF3PObZtAwCdS7LK656PwPO8JEmCILwHCo5ZlgUAlmWVzdxutyREODkQQjmnPCbJKqy7aZqF2S6Xy39LVgmz2SxJElEUDcNI09RxHM/zhsMh7dN12LY9nU5FUUQIMQwTRZHruoPBoF6v67pe2aFCdD6f0z03HYrjmGXZTqcTx3HOOR6PudOVHTJNk94iqqpaliXL8n+mHw6HJEk4jlssFnQ/y7Ke57muW1kQwzB0UxCE8va/gtPpBAAYY4zxp4TKgn4EdFkp4O6CLpcL3SRVrd1uf+XrXe6yMAzJh+/74/GYDkmSBACO4wRB8GnuDzuEEPI8r9frGYYRRZHjOCzL0gRBEAin2WwihFqtVh4iJfc7hbEcog8wrUAURXKk6cIYxzFCqDwZMvJL9vEJ6/v+brd7F/sR9NVxxST6TlBVleM427bLV0cQBPv9Pk3TgkNFQX+Oh3ugPQXdwlPQLbwBlvs88dQtsp4AAAAASUVORK5CYII=\"></div></div></div>"
      ],
      "text/plain": [
       "2\n",
       "2\n",
       "True\n",
       "True"
      ]
     },
     "execution_count": 118,
     "metadata": {
      "text/html": [],
      "text/plain": []
     },
     "output_type": "execute_result"
    }
   ],
   "source": [
    "a4 = 2\n",
    "b4 = 2\n",
    "\n",
    "a4 === b4\n",
    "a4 == b4"
   ]
  },
  {
   "cell_type": "markdown",
   "metadata": {
    "vscode": {
     "languageId": "wolfram"
    }
   },
   "source": [
    "# Интегралы"
   ]
  },
  {
   "cell_type": "code",
   "execution_count": 143,
   "metadata": {
    "vscode": {
     "languageId": "wolfram"
    }
   },
   "outputs": [
    {
     "data": {
      "text/html": [
       "<div><img alt=\"Output\" src=\"data:image/png;base64,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\"></div>"
      ],
      "text/plain": [
       "                        1\n",
       "ConditionalExpression[-(-), Re[α] < 0]\n",
       "                        α"
      ]
     },
     "execution_count": 143,
     "metadata": {
      "text/html": [],
      "text/plain": []
     },
     "output_type": "execute_result"
    }
   ],
   "source": [
    "Integrate[E^(\\[Alpha]*x), {x, 0, Infinity}]\n",
    "(* e^(αx) from 0 to ∞*)"
   ]
  },
  {
   "cell_type": "code",
   "execution_count": 152,
   "metadata": {
    "vscode": {
     "languageId": "wolfram"
    }
   },
   "outputs": [
    {
     "data": {
      "text/html": [
       "<div><img alt=\"Output\" src=\"data:image/png;base64,iVBORw0KGgoAAAANSUhEUgAAACMAAAA0CAIAAACPaBYtAAAA0XpUWHRSYXcgcHJvZmlsZSB0eXBlIGV4aWYAAHjabU9RsgMhCPv3FO8IChj0OG5rZ3qDd/wXVvs622mchRAgq2n+Ph/pJyAlJ6ve0IFMWLcug6TlhZVL7mc8Ibp75aonta0PSvXdwNz6cdUd27B9GGVZROMP5C9j30YqSy9j1ceel9Ha1eh11Q1v/1f/Wpu6oKK4MZpkd3TylkiZUCVXxwM3gIMFd8l2Y55w5xo8JnTEYkCmX6dnglK4xxM0PtPBjDMKV+MMLeqMhBys9ezGc/4AFa1ajOckhkYAAAAJcEhZcwAAEnQAABJ0Ad5mH3gAAAA8dEVYdFNvZnR3YXJlAENyZWF0ZWQgd2l0aCB0aGUgV29sZnJhbSBMYW5ndWFnZSA6IHd3dy53b2xmcmFtLmNvbVyipoUAAAAhdEVYdENyZWF0aW9uIFRpbWUAMjAyNDowNjowMiAwMDoxNzozMwetepIAAAH5SURBVFiF7Zi9joJAFIWHzfYj0hlD4ZQWFmpjaeLPA5gMJS2WFlpYW2hMLHkEeQGJhsRCKS2chIoIBbHUgvgAbMHGjOiuLkO2MJxqcji5X2aY3FzggiAA/6LPRKq4rmsYhu/7/X7/x1DApv1+ryjKK9WYSK1WKwRcF7+EP1gOLZPJ8Dw/n8+Xy+XTMBcw3AhCSD6fFwQBAMBxHADgl2pMpJtCz0hMp/cnpaSUdCumvqdpmud5tDOZTMJFp9MpFAo36US60b22220kzLQnWZbr9frDR7lcLuIk1iOe6h3vXkpKSe9P+u5GhJDBYPAwIcuyJEm0Y9v2bDZ7pbqqqtd1nG50uVxs234lWS6XmUjx9I43IiWlpJSUnBL4dj+fz4ZheJ4HIWw0GtfR1XVdeoxl3ZOmae12GwBQq9UghBhjXddDfzqd3kRZpuXFYlGpVE6n09VxHAchFAQBQshxHDrM1Muz2exut4tM+pIkIYQghNG/ICwbUhTl3h+PxwgheqOh4r8ny7JKpdK97/s+xjj8dUArPsn3/WKxGDFd11VVFUJ4n49PghAej8eIiTFWFGW9XidJEkVxs9nQTrfbbTabvV7vYT4+KRyYhsOhaZqaplWrVZ7nR6ORIAiHw8E0TUIInWedWHRdtywr0h0IIavVShRFenx7x9noCzhSZ4oewhJTAAAAAElFTkSuQmCC\"></div>"
      ],
      "text/plain": [
       "  1\n",
       "-(-)\n",
       "  α"
      ]
     },
     "execution_count": 152,
     "metadata": {
      "text/html": [],
      "text/plain": []
     },
     "output_type": "execute_result"
    }
   ],
   "source": [
    "Integrate[E^(\\[Alpha]*x), {x, 0, Infinity}, Assumptions -> \\[Alpha] < 0]\n",
    "(* e^(αx) from 0 to ∞ \n",
    "  считая, что α < 0*)"
   ]
  }
 ],
 "metadata": {
  "kernelspec": {
   "display_name": "Wolfram Language 14",
   "language": "Wolfram Language",
   "name": "wolframlanguage14"
  },
  "language_info": {
   "codemirror_mode": "mathematica",
   "file_extension": ".m",
   "mimetype": "application/vnd.wolfram.m",
   "name": "Wolfram Language",
   "pygments_lexer": "mathematica",
   "version": "12.0"
  }
 },
 "nbformat": 4,
 "nbformat_minor": 2
}
