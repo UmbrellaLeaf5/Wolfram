{
 "cells": [
  {
   "cell_type": "markdown",
   "metadata": {},
   "source": [
    "# Строки"
   ]
  },
  {
   "cell_type": "code",
   "execution_count": 1,
   "metadata": {
    "vscode": {
     "languageId": "wolfram"
    }
   },
   "outputs": [
    {
     "data": {
      "text/html": [
       "<div><pre style=\"&#102;&#111;&#110;&#116;&#45;&#102;&#97;&#109;&#105;&#108;&#121;&#58;&#32;&#34;&#67;&#111;&#117;&#114;&#105;&#101;&#114;&#32;&#78;&#101;&#119;&#34;&#44;&#67;&#111;&#117;&#114;&#105;&#101;&#114;&#44;&#109;&#111;&#110;&#111;&#115;&#112;&#97;&#99;&#101;&#59;\">&#100;&#115;&#107;&#106;&#105;&#119;&#101;&#106;&#118;&#119;&#32;&#10;&#32;&#102;&#106;&#111;&#112;&#101;&#119;&#107;&#102;&#119;&#112;&#32;&#10;&#32;&#92;&#110;&#32;&#10;&#32;&#102;&#119;&#101;&#102;&#119;&#101;&#102;&#101;</pre></div>"
      ],
      "text/plain": [
       "dskjiwejvw \n",
       " fjopewkfwp \n",
       " \\n \n",
       " fwefwefe"
      ]
     },
     "execution_count": 1,
     "metadata": {
      "text/html": [],
      "text/plain": []
     },
     "output_type": "execute_result"
    }
   ],
   "source": [
    "\"dskjiwejvw \\n fjopewkfwp \\n \\\\n \\n fwefwefe\""
   ]
  },
  {
   "cell_type": "code",
   "execution_count": 2,
   "metadata": {
    "vscode": {
     "languageId": "wolfram"
    }
   },
   "outputs": [
    {
     "data": {
      "text/html": [
       "<style>\n",
       "\t\t\t\t\t\t\t\t\t\t\t\t\t.grid-container {\n",
       "\t\t\t\t\t\t\t\t\t\t\t\t\t\tdisplay: inline-grid;\n",
       "\t\t\t\t\t\t\t\t\t\t\t\t\t\tgrid-template-columns: auto;\n",
       "\t\t\t\t\t\t\t\t\t\t\t\t\t}\n",
       "\t\t\t\t\t\t\t\t\t\t\t\t</style>\n",
       "\n",
       "\t\t\t\t\t\t\t\t\t\t\t\t<div><div class=\"grid-container\"><div class=\"grid-item\"><pre style=\"&#102;&#111;&#110;&#116;&#45;&#102;&#97;&#109;&#105;&#108;&#121;&#58;&#32;&#34;&#67;&#111;&#117;&#114;&#105;&#101;&#114;&#32;&#78;&#101;&#119;&#34;&#44;&#67;&#111;&#117;&#114;&#105;&#101;&#114;&#44;&#109;&#111;&#110;&#111;&#115;&#112;&#97;&#99;&#101;&#59;\">&#100;&#106;&#109;&#119;&#105;&#111;&#113;&#100;&#44;&#111;&#119;&#113;&#107;&#100;&#107;&#109;&#119;&#111;&#101;&#105;&#102;&#44;&#48;&#101;&#119;&#111;&#112;&#107;&#102;</pre></div><div class=\"grid-item\"><pre style=\"&#102;&#111;&#110;&#116;&#45;&#102;&#97;&#109;&#105;&#108;&#121;&#58;&#32;&#34;&#67;&#111;&#117;&#114;&#105;&#101;&#114;&#32;&#78;&#101;&#119;&#34;&#44;&#67;&#111;&#117;&#114;&#105;&#101;&#114;&#44;&#109;&#111;&#110;&#111;&#115;&#112;&#97;&#99;&#101;&#59;\">&#107;&#44;&#111;&#119;&#112;&#102;&#46;&#119;&#113;&#46;&#102;&#112;&#119;&#91;&#93;&#107;&#102;&#119;&#112;&#111;&#113;&#46;&#107;&#102;&#112;&#119;&#113;</pre></div></div></div>"
      ],
      "text/plain": [
       "djmwioqd,owqkdkmwoeif,0ewopkf\n",
       "k,owpf.wq.fpw[]kfwpoq.kfpwq"
      ]
     },
     "execution_count": 2,
     "metadata": {
      "text/html": [],
      "text/plain": []
     },
     "output_type": "execute_result"
    }
   ],
   "source": [
    "\"djmwioqd,owqkd\"<>\"kmwoeif,0ewopkf\"\n",
    "\n",
    "StringJoin[\"k,owpf.wq.fpw[]\", \"kfwpoq.kfpwq\"]"
   ]
  },
  {
   "cell_type": "code",
   "execution_count": 4,
   "metadata": {
    "vscode": {
     "languageId": "wolfram"
    }
   },
   "outputs": [
    {
     "data": {
      "text/html": [
       "<style>\n",
       "\t\t\t\t\t\t\t\t\t\t\t\t\t.grid-container {\n",
       "\t\t\t\t\t\t\t\t\t\t\t\t\t\tdisplay: inline-grid;\n",
       "\t\t\t\t\t\t\t\t\t\t\t\t\t\tgrid-template-columns: auto;\n",
       "\t\t\t\t\t\t\t\t\t\t\t\t\t}\n",
       "\t\t\t\t\t\t\t\t\t\t\t\t</style>\n",
       "\n",
       "\t\t\t\t\t\t\t\t\t\t\t\t<div><div class=\"grid-container\"><div class=\"grid-item\"><pre style=\"&#102;&#111;&#110;&#116;&#45;&#102;&#97;&#109;&#105;&#108;&#121;&#58;&#32;&#34;&#67;&#111;&#117;&#114;&#105;&#101;&#114;&#32;&#78;&#101;&#119;&#34;&#44;&#67;&#111;&#117;&#114;&#105;&#101;&#114;&#44;&#109;&#111;&#110;&#111;&#115;&#112;&#97;&#99;&#101;&#59;\">&#107;&#102;&#119;&#101;&#102;&#46;&#91;&#112;&#101;&#108;&#100;&#112;&#119;&#108;&#100;&#101;&#93;</pre></div><div class=\"grid-item\"><pre style=\"&#102;&#111;&#110;&#116;&#45;&#102;&#97;&#109;&#105;&#108;&#121;&#58;&#32;&#34;&#67;&#111;&#117;&#114;&#105;&#101;&#114;&#32;&#78;&#101;&#119;&#34;&#44;&#67;&#111;&#117;&#114;&#105;&#101;&#114;&#44;&#109;&#111;&#110;&#111;&#115;&#112;&#97;&#99;&#101;&#59;\">&#102;&#106;&#109;&#101;&#105;&#119;&#111;&#102;&#107;&#102;&#119;&#101;&#102;&#46;&#91;&#112;&#101;&#108;&#100;&#112;&#119;&#108;&#100;&#101;&#93;</pre></div></div></div>"
      ],
      "text/plain": [
       "kfwef.[peldpwlde]\n",
       "fjmeiwofkfwef.[peldpwlde]"
      ]
     },
     "execution_count": 4,
     "metadata": {
      "text/html": [],
      "text/plain": []
     },
     "output_type": "execute_result"
    }
   ],
   "source": [
    "str = \"kfwef.[peldpwlde]\"\n",
    "\"fjmeiwof\"<>str"
   ]
  },
  {
   "cell_type": "code",
   "execution_count": 7,
   "metadata": {
    "vscode": {
     "languageId": "wolfram"
    }
   },
   "outputs": [
    {
     "data": {
      "text/html": [
       "<style>\n",
       "\t\t\t\t\t\t\t\t\t\t\t\t\t.grid-container {\n",
       "\t\t\t\t\t\t\t\t\t\t\t\t\t\tdisplay: inline-grid;\n",
       "\t\t\t\t\t\t\t\t\t\t\t\t\t\tgrid-template-columns: auto;\n",
       "\t\t\t\t\t\t\t\t\t\t\t\t\t}\n",
       "\t\t\t\t\t\t\t\t\t\t\t\t</style>\n",
       "\n",
       "\t\t\t\t\t\t\t\t\t\t\t\t<div><div class=\"grid-container\"><div class=\"grid-item\"><img alt=\"Output\" src=\"data:image/png;base64,iVBORw0KGgoAAAANSUhEUgAAAAwAAAAaCAIAAAAMmCo2AAAAz3pUWHRSYXcgcHJvZmlsZSB0eXBlIGV4aWYAAHjabU/bjQMhDPynipRgbDOGcthdIl0HV37shbuIKIPwDOMHkMbvzzM9ApwpabGKBpBDmzbuLipNTM7U7jhxLs67n3JffnervBMYyz923zCZ68cg4ikkbnAtuhrWIOHp/114rHrute6DhDZY/X/617OKMQqyqUdlMkNzXZNLJxSmYnjiBLww42LS03nAzNtgUSE9GgM8bK8eCeLGFV+Q2CrdGXdkb43VRaR6zFL48LPc2fjOC5TJWuhkHdIfAAAACXBIWXMAABJ0AAASdAHeZh94AAAAPHRFWHRTb2Z0d2FyZQBDcmVhdGVkIHdpdGggdGhlIFdvbGZyYW0gTGFuZ3VhZ2UgOiB3d3cud29sZnJhbS5jb21coqaFAAAAIXRFWHRDcmVhdGlvbiBUaW1lADIwMjQ6MDY6MDIgMDA6Mzg6MTX+W/4TAAAA2UlEQVQokc2SsQ2DMBBFjyg9OrmjoGEF6GgRCyCxAZI3YIWbhBmo3dIwgDdwwwQ/ha1AHBK6KL+z7/nu3/kSAHSl2yXxe+h+PKzrOs8zEeV53jSNUioEAACw1rZte3zAzNM0+WiAtNZEVJaliIhIURQetdbukHPOGIODPCciAIJxpVRd18dywzBcd7dtGxGlabobj+ScY+bYUyTfhzd0DnlCa/28iaF3IoZOiZc59X1/SgBIABBRVVXLsjDzOI7RLLquC5m+rIAxJmyBiHyCsixLvqe5+JZ/hx6yeBLDZJlnxgAAAABJRU5ErkJggg==\"></div><div class=\"grid-item\"><img alt=\"Output\" src=\"data:image/png;base64,iVBORw0KGgoAAAANSUhEUgAAAEgAAAAaCAIAAACbyY3sAAAAzXpUWHRSYXcgcHJvZmlsZSB0eXBlIGV4aWYAAHjabU/bDQMhDPtnio4QkuDAOFyPSt2g4zc5qCqqGhEb5wGk8Xo+0i3AmZIWq2gAObRp4+6i0sTkTO2KF/STy7ufcl9+d6t8ExjLP3bfMJnrzyDiKSRucC26GtYg4el/LjxWPfda90FCG+z79L9nFWMUZFOPymSG5roml04oTMXwwB3wwoyTSe/OA2beBosK6dEY4GF79UgQN874gsRW6c64IntrrC4i1WMW8OFnubLxnTdbblrCQx39EQAAAAlwSFlzAAASdAAAEnQB3mYfeAAAADx0RVh0U29mdHdhcmUAQ3JlYXRlZCB3aXRoIHRoZSBXb2xmcmFtIExhbmd1YWdlIDogd3d3LndvbGZyYW0uY29tXKKmhQAAACF0RVh0Q3JlYXRpb24gVGltZQAyMDI0OjA2OjAyIDAwOjM4OjE2Z1KvqQAAA8hJREFUWIXtWD9L61wYf/rS1Wrs1qFIsggWukSRYgczGOhcacQOblpwdtDJRTj9AKY4OQhpP0CLoeBgimgUSaCbTQkqnRJCP0Hu8NSQmzTlym3fvvfy/qacc57z5Dn5Pf9OYq7rwt+If+ZtwKzw/8FmAF3Xq9Vqv9+fhfLYHGNseXnZcRyGYXq93tSVx/2Dfr+vqur7+zsAZDKZQqEQ3oAygiBM3ZQpw/3C6elpYImiqGaz6f4Mnuf9u34HmqYRQgzDmIq2AEaMnZ2dXVxcUBQlCMLKygoAvL6+NhqNbrc7lrepIJvNZrPZGSkfxVgsFgMATdP8b7Jt+/PzE2fq9Tq66NXVlWEYhBC/lpOTE3zodDoPDw/FYpGmaV3XZVkGAJ7n/WpRxhvmcrmtra2AWdVqNZ1OC4LQ7/fb7fZwOMRhQMy27aenp263G5gvFosjp8KxZVlRzKIHRsETwwM3m81SqeQXqNVqARkPhJDw6/BzSJLkl2RZ1i+jaRpFUWPtURRl5IoMwxiGsb+/f3l5SdN0WPTg4IDjOIhgLIByuew4Ds/zHMeZpimK4tHRUbFYTCaTAJDL5XA7LkUpUVVVlmWKoiqVCgCIovjy8lKv1z3etre3HcdhWXZ3d9czDIepVArCp69UKoqiTKYuahUtDmQdZC+sU1GUCYwhRZ4T1Wo1tM2/l+d5b4tlWQzDeLaNCnQ2m317eyOEUBQlimI+n19fX2+1WhNomYCbmxt/yjk+PiaEpFKp7+q5vb1FkgFgbW0NAALVfGlpKXJz+GtJkuRFlD82fp2xCYR/i7GwsEeRZVnoYizLEkIIIUiXJxBpohe4gTrzHzmY++XhfvhdNw4REATh+vpaluXBYBBOJ7Zte04yF3Q6nUajIUlSIpHAdB9oleLw5bgB623bVlUVABYWFsJ62+32fLsqrISJRKJQKIxtIeIAMBgM8vk8y7I7OzuLi4sAYJpmvV7HZBpoDjiOk2V5b2/v/v4eexTwFehfQbVaxQfTNAHg7u4Oh2NLcBTQznK5vLGxgXUIJzc3N0cGu65rGAZGXgClUilcsi3LYlk2IPmtGIuy1R8/AbXhGPOSexhYEuIAQNN0r9fTdf3x8XE4HAJAJpNZXV0dW6mTyeTz83Or1Qo3MvBVfCdn9qjink6nJ8ikUilCiCfTbrexHJ+fn398fKDZWPFFUTw8PJxOn/7vA3N9+GaANCqKMs+L5u/Au6SWSiWMt+Fw2Gg0MKx6vd6fyliz2RzbAfM8r2ma67p/KmMI/w3op5Q4338eM8Vf+/vtB6vTPXe+2ecQAAAAAElFTkSuQmCC\"></div></div></div>"
      ],
      "text/plain": [
       "2\n",
       "String"
      ]
     },
     "execution_count": 7,
     "metadata": {
      "text/html": [],
      "text/plain": []
     },
     "output_type": "execute_result"
    }
   ],
   "source": [
    "ToString[2]\n",
    "\n",
    "(* проверка типа *)\n",
    "Head[ToString[2]]"
   ]
  },
  {
   "cell_type": "markdown",
   "metadata": {},
   "source": [
    "# Про числа с большой точностью"
   ]
  },
  {
   "cell_type": "code",
   "execution_count": 1,
   "metadata": {
    "vscode": {
     "languageId": "wolfram"
    }
   },
   "outputs": [
    {
     "data": {
      "text/html": [
       "<div><pre style=\"&#102;&#111;&#110;&#116;&#45;&#102;&#97;&#109;&#105;&#108;&#121;&#58;&#32;&#34;&#67;&#111;&#117;&#114;&#105;&#101;&#114;&#32;&#78;&#101;&#119;&#34;&#44;&#67;&#111;&#117;&#114;&#105;&#101;&#114;&#44;&#109;&#111;&#110;&#111;&#115;&#112;&#97;&#99;&#101;&#59;\">&#49;&#46;&#48;&#48;&#48;&#49;</pre></div>"
      ],
      "text/plain": [
       "1.0001"
      ]
     },
     "execution_count": 1,
     "metadata": {
      "text/html": [],
      "text/plain": []
     },
     "output_type": "execute_result"
    }
   ],
   "source": [
    "Nest[#+1.*^-14 &, 1, 1*^10] (* это очень долго, но правильно *)"
   ]
  },
  {
   "cell_type": "code",
   "execution_count": 2,
   "metadata": {
    "vscode": {
     "languageId": "wolfram"
    }
   },
   "outputs": [
    {
     "data": {
      "text/html": [
       "<div><pre style=\"&#102;&#111;&#110;&#116;&#45;&#102;&#97;&#109;&#105;&#108;&#121;&#58;&#32;&#34;&#67;&#111;&#117;&#114;&#105;&#101;&#114;&#32;&#78;&#101;&#119;&#34;&#44;&#67;&#111;&#117;&#114;&#105;&#101;&#114;&#44;&#109;&#111;&#110;&#111;&#115;&#112;&#97;&#99;&#101;&#59;\">&#49;&#46;&#48;&#48;&#48;&#49;</pre></div>"
      ],
      "text/plain": [
       "1.0001"
      ]
     },
     "execution_count": 2,
     "metadata": {
      "text/html": [],
      "text/plain": []
     },
     "output_type": "execute_result"
    }
   ],
   "source": [
    "(* это чуть быстрее, но хз, на сколько *)\n",
    "Compile[\n",
    "  {}\n",
    "  ,\n",
    "  Module[{x = 1., i},\n",
    "    For[i = 1, i < 1*^10, i++,\n",
    "      x += 1.*^-14\n",
    "    ];\n",
    "    x\n",
    "  ]\n",
    "][]\n"
   ]
  }
 ],
 "metadata": {
  "kernelspec": {
   "display_name": "Wolfram Language 14",
   "language": "Wolfram Language",
   "name": "wolframlanguage14"
  },
  "language_info": {
   "codemirror_mode": "mathematica",
   "file_extension": ".m",
   "mimetype": "application/vnd.wolfram.m",
   "name": "Wolfram Language",
   "pygments_lexer": "mathematica",
   "version": "12.0"
  }
 },
 "nbformat": 4,
 "nbformat_minor": 2
}
