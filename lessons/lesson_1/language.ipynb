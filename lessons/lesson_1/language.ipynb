{
 "cells": [
  {
   "cell_type": "markdown",
   "metadata": {},
   "source": [
    "# Основные принципы"
   ]
  },
  {
   "cell_type": "markdown",
   "metadata": {},
   "source": [
    "Ядро - это вычислительный аппарат языка Wolfram. Что такое вычисление и каким образом ядро их производит, будет подробнее раскрыто далее."
   ]
  },
  {
   "cell_type": "markdown",
   "metadata": {},
   "source": [
    "## Элементарные выражения"
   ]
  },
  {
   "cell_type": "markdown",
   "metadata": {},
   "source": [
    "1. символы: последовательность букв, цифр и некоторых спецсимволов, которая не может начинаться с цифры (x, f, t0, Lf90, \\[Pi]fk90p)\n",
    "\n",
    "2. строки: любая последовательность символов (не в понимании предыдущего пункта, а в обыденном понимании, т.е. буквы, цифры, пробелы, спецсимволы и пр.; экранирующий символ \"\\\" имеет тот же смысл, как и в других языках программирования), заключённая в кавычки \"\" (пример: \"anything you want...\")"
   ]
  },
  {
   "cell_type": "markdown",
   "metadata": {},
   "source": [
    "## Строки"
   ]
  },
  {
   "cell_type": "code",
   "execution_count": 1,
   "metadata": {
    "vscode": {
     "languageId": "wolfram"
    }
   },
   "outputs": [
    {
     "data": {
      "text/html": [
       "<div><pre style=\"&#102;&#111;&#110;&#116;&#45;&#102;&#97;&#109;&#105;&#108;&#121;&#58;&#32;&#34;&#67;&#111;&#117;&#114;&#105;&#101;&#114;&#32;&#78;&#101;&#119;&#34;&#44;&#67;&#111;&#117;&#114;&#105;&#101;&#114;&#44;&#109;&#111;&#110;&#111;&#115;&#112;&#97;&#99;&#101;&#59;\">&#100;&#115;&#107;&#106;&#105;&#119;&#101;&#106;&#118;&#119;&#32;&#10;&#32;&#102;&#106;&#111;&#112;&#101;&#119;&#107;&#102;&#119;&#112;&#32;&#10;&#32;&#92;&#110;&#32;&#10;&#32;&#102;&#119;&#101;&#102;&#119;&#101;&#102;&#101;</pre></div>"
      ],
      "text/plain": [
       "dskjiwejvw \n",
       " fjopewkfwp \n",
       " \\n \n",
       " fwefwefe"
      ]
     },
     "execution_count": 1,
     "metadata": {
      "text/html": [],
      "text/plain": []
     },
     "output_type": "execute_result"
    }
   ],
   "source": [
    "\"dskjiwejvw \\n fjopewkfwp \\n \\\\n \\n fwefwefe\""
   ]
  },
  {
   "cell_type": "code",
   "execution_count": 2,
   "metadata": {
    "vscode": {
     "languageId": "wolfram"
    }
   },
   "outputs": [
    {
     "data": {
      "text/html": [
       "<style>\n",
       "\t\t\t\t\t\t\t\t\t\t\t\t\t.grid-container {\n",
       "\t\t\t\t\t\t\t\t\t\t\t\t\t\tdisplay: inline-grid;\n",
       "\t\t\t\t\t\t\t\t\t\t\t\t\t\tgrid-template-columns: auto;\n",
       "\t\t\t\t\t\t\t\t\t\t\t\t\t}\n",
       "\t\t\t\t\t\t\t\t\t\t\t\t</style>\n",
       "\n",
       "\t\t\t\t\t\t\t\t\t\t\t\t<div><div class=\"grid-container\"><div class=\"grid-item\"><pre style=\"&#102;&#111;&#110;&#116;&#45;&#102;&#97;&#109;&#105;&#108;&#121;&#58;&#32;&#34;&#67;&#111;&#117;&#114;&#105;&#101;&#114;&#32;&#78;&#101;&#119;&#34;&#44;&#67;&#111;&#117;&#114;&#105;&#101;&#114;&#44;&#109;&#111;&#110;&#111;&#115;&#112;&#97;&#99;&#101;&#59;\">&#100;&#106;&#109;&#119;&#105;&#111;&#113;&#100;&#44;&#111;&#119;&#113;&#107;&#100;&#107;&#109;&#119;&#111;&#101;&#105;&#102;&#44;&#48;&#101;&#119;&#111;&#112;&#107;&#102;</pre></div><div class=\"grid-item\"><pre style=\"&#102;&#111;&#110;&#116;&#45;&#102;&#97;&#109;&#105;&#108;&#121;&#58;&#32;&#34;&#67;&#111;&#117;&#114;&#105;&#101;&#114;&#32;&#78;&#101;&#119;&#34;&#44;&#67;&#111;&#117;&#114;&#105;&#101;&#114;&#44;&#109;&#111;&#110;&#111;&#115;&#112;&#97;&#99;&#101;&#59;\">&#107;&#44;&#111;&#119;&#112;&#102;&#46;&#119;&#113;&#46;&#102;&#112;&#119;&#91;&#93;&#107;&#102;&#119;&#112;&#111;&#113;&#46;&#107;&#102;&#112;&#119;&#113;</pre></div></div></div>"
      ],
      "text/plain": [
       "djmwioqd,owqkdkmwoeif,0ewopkf\n",
       "k,owpf.wq.fpw[]kfwpoq.kfpwq"
      ]
     },
     "execution_count": 2,
     "metadata": {
      "text/html": [],
      "text/plain": []
     },
     "output_type": "execute_result"
    }
   ],
   "source": [
    "\"djmwioqd,owqkd\"<>\"kmwoeif,0ewopkf\"\n",
    "\n",
    "StringJoin[\"k,owpf.wq.fpw[]\", \"kfwpoq.kfpwq\"]"
   ]
  },
  {
   "cell_type": "code",
   "execution_count": 4,
   "metadata": {
    "vscode": {
     "languageId": "wolfram"
    }
   },
   "outputs": [
    {
     "data": {
      "text/html": [
       "<style>\n",
       "\t\t\t\t\t\t\t\t\t\t\t\t\t.grid-container {\n",
       "\t\t\t\t\t\t\t\t\t\t\t\t\t\tdisplay: inline-grid;\n",
       "\t\t\t\t\t\t\t\t\t\t\t\t\t\tgrid-template-columns: auto;\n",
       "\t\t\t\t\t\t\t\t\t\t\t\t\t}\n",
       "\t\t\t\t\t\t\t\t\t\t\t\t</style>\n",
       "\n",
       "\t\t\t\t\t\t\t\t\t\t\t\t<div><div class=\"grid-container\"><div class=\"grid-item\"><pre style=\"&#102;&#111;&#110;&#116;&#45;&#102;&#97;&#109;&#105;&#108;&#121;&#58;&#32;&#34;&#67;&#111;&#117;&#114;&#105;&#101;&#114;&#32;&#78;&#101;&#119;&#34;&#44;&#67;&#111;&#117;&#114;&#105;&#101;&#114;&#44;&#109;&#111;&#110;&#111;&#115;&#112;&#97;&#99;&#101;&#59;\">&#107;&#102;&#119;&#101;&#102;&#46;&#91;&#112;&#101;&#108;&#100;&#112;&#119;&#108;&#100;&#101;&#93;</pre></div><div class=\"grid-item\"><pre style=\"&#102;&#111;&#110;&#116;&#45;&#102;&#97;&#109;&#105;&#108;&#121;&#58;&#32;&#34;&#67;&#111;&#117;&#114;&#105;&#101;&#114;&#32;&#78;&#101;&#119;&#34;&#44;&#67;&#111;&#117;&#114;&#105;&#101;&#114;&#44;&#109;&#111;&#110;&#111;&#115;&#112;&#97;&#99;&#101;&#59;\">&#102;&#106;&#109;&#101;&#105;&#119;&#111;&#102;&#107;&#102;&#119;&#101;&#102;&#46;&#91;&#112;&#101;&#108;&#100;&#112;&#119;&#108;&#100;&#101;&#93;</pre></div></div></div>"
      ],
      "text/plain": [
       "kfwef.[peldpwlde]\n",
       "fjmeiwofkfwef.[peldpwlde]"
      ]
     },
     "execution_count": 4,
     "metadata": {
      "text/html": [],
      "text/plain": []
     },
     "output_type": "execute_result"
    }
   ],
   "source": [
    "str = \"kfwef.[peldpwlde]\"\n",
    "\"fjmeiwof\"<>str"
   ]
  },
  {
   "cell_type": "code",
   "execution_count": 7,
   "metadata": {
    "vscode": {
     "languageId": "wolfram"
    }
   },
   "outputs": [
    {
     "data": {
      "text/html": [
       "<style>\n",
       "\t\t\t\t\t\t\t\t\t\t\t\t\t.grid-container {\n",
       "\t\t\t\t\t\t\t\t\t\t\t\t\t\tdisplay: inline-grid;\n",
       "\t\t\t\t\t\t\t\t\t\t\t\t\t\tgrid-template-columns: auto;\n",
       "\t\t\t\t\t\t\t\t\t\t\t\t\t}\n",
       "\t\t\t\t\t\t\t\t\t\t\t\t</style>\n",
       "\n",
       "\t\t\t\t\t\t\t\t\t\t\t\t<div><div class=\"grid-container\"><div class=\"grid-item\"><img alt=\"Output\" src=\"data:image/png;base64,iVBORw0KGgoAAAANSUhEUgAAAAwAAAAaCAIAAAAMmCo2AAAAz3pUWHRSYXcgcHJvZmlsZSB0eXBlIGV4aWYAAHjabU/bjQMhDPynipRgbDOGcthdIl0HV37shbuIKIPwDOMHkMbvzzM9ApwpabGKBpBDmzbuLipNTM7U7jhxLs67n3JffnervBMYyz923zCZ68cg4ikkbnAtuhrWIOHp/114rHrute6DhDZY/X/617OKMQqyqUdlMkNzXZNLJxSmYnjiBLww42LS03nAzNtgUSE9GgM8bK8eCeLGFV+Q2CrdGXdkb43VRaR6zFL48LPc2fjOC5TJWuhkHdIfAAAACXBIWXMAABJ0AAASdAHeZh94AAAAPHRFWHRTb2Z0d2FyZQBDcmVhdGVkIHdpdGggdGhlIFdvbGZyYW0gTGFuZ3VhZ2UgOiB3d3cud29sZnJhbS5jb21coqaFAAAAIXRFWHRDcmVhdGlvbiBUaW1lADIwMjQ6MDY6MDIgMDA6Mzg6MTX+W/4TAAAA2UlEQVQokc2SsQ2DMBBFjyg9OrmjoGEF6GgRCyCxAZI3YIWbhBmo3dIwgDdwwwQ/ha1AHBK6KL+z7/nu3/kSAHSl2yXxe+h+PKzrOs8zEeV53jSNUioEAACw1rZte3zAzNM0+WiAtNZEVJaliIhIURQetdbukHPOGIODPCciAIJxpVRd18dywzBcd7dtGxGlabobj+ScY+bYUyTfhzd0DnlCa/28iaF3IoZOiZc59X1/SgBIABBRVVXLsjDzOI7RLLquC5m+rIAxJmyBiHyCsixLvqe5+JZ/hx6yeBLDZJlnxgAAAABJRU5ErkJggg==\"></div><div class=\"grid-item\"><img alt=\"Output\" src=\"data:image/png;base64,iVBORw0KGgoAAAANSUhEUgAAAEgAAAAaCAIAAACbyY3sAAAAzXpUWHRSYXcgcHJvZmlsZSB0eXBlIGV4aWYAAHjabU/bDQMhDPtnio4QkuDAOFyPSt2g4zc5qCqqGhEb5wGk8Xo+0i3AmZIWq2gAObRp4+6i0sTkTO2KF/STy7ufcl9+d6t8ExjLP3bfMJnrzyDiKSRucC26GtYg4el/LjxWPfda90FCG+z79L9nFWMUZFOPymSG5roml04oTMXwwB3wwoyTSe/OA2beBosK6dEY4GF79UgQN874gsRW6c64IntrrC4i1WMW8OFnubLxnTdbblrCQx39EQAAAAlwSFlzAAASdAAAEnQB3mYfeAAAADx0RVh0U29mdHdhcmUAQ3JlYXRlZCB3aXRoIHRoZSBXb2xmcmFtIExhbmd1YWdlIDogd3d3LndvbGZyYW0uY29tXKKmhQAAACF0RVh0Q3JlYXRpb24gVGltZQAyMDI0OjA2OjAyIDAwOjM4OjE2Z1KvqQAAA8hJREFUWIXtWD9L61wYf/rS1Wrs1qFIsggWukSRYgczGOhcacQOblpwdtDJRTj9AKY4OQhpP0CLoeBgimgUSaCbTQkqnRJCP0Hu8NSQmzTlym3fvvfy/qacc57z5Dn5Pf9OYq7rwt+If+ZtwKzw/8FmAF3Xq9Vqv9+fhfLYHGNseXnZcRyGYXq93tSVx/2Dfr+vqur7+zsAZDKZQqEQ3oAygiBM3ZQpw/3C6elpYImiqGaz6f4Mnuf9u34HmqYRQgzDmIq2AEaMnZ2dXVxcUBQlCMLKygoAvL6+NhqNbrc7lrepIJvNZrPZGSkfxVgsFgMATdP8b7Jt+/PzE2fq9Tq66NXVlWEYhBC/lpOTE3zodDoPDw/FYpGmaV3XZVkGAJ7n/WpRxhvmcrmtra2AWdVqNZ1OC4LQ7/fb7fZwOMRhQMy27aenp263G5gvFosjp8KxZVlRzKIHRsETwwM3m81SqeQXqNVqARkPhJDw6/BzSJLkl2RZ1i+jaRpFUWPtURRl5IoMwxiGsb+/f3l5SdN0WPTg4IDjOIhgLIByuew4Ds/zHMeZpimK4tHRUbFYTCaTAJDL5XA7LkUpUVVVlmWKoiqVCgCIovjy8lKv1z3etre3HcdhWXZ3d9czDIepVArCp69UKoqiTKYuahUtDmQdZC+sU1GUCYwhRZ4T1Wo1tM2/l+d5b4tlWQzDeLaNCnQ2m317eyOEUBQlimI+n19fX2+1WhNomYCbmxt/yjk+PiaEpFKp7+q5vb1FkgFgbW0NAALVfGlpKXJz+GtJkuRFlD82fp2xCYR/i7GwsEeRZVnoYizLEkIIIUiXJxBpohe4gTrzHzmY++XhfvhdNw4REATh+vpaluXBYBBOJ7Zte04yF3Q6nUajIUlSIpHAdB9oleLw5bgB623bVlUVABYWFsJ62+32fLsqrISJRKJQKIxtIeIAMBgM8vk8y7I7OzuLi4sAYJpmvV7HZBpoDjiOk2V5b2/v/v4eexTwFehfQbVaxQfTNAHg7u4Oh2NLcBTQznK5vLGxgXUIJzc3N0cGu65rGAZGXgClUilcsi3LYlk2IPmtGIuy1R8/AbXhGPOSexhYEuIAQNN0r9fTdf3x8XE4HAJAJpNZXV0dW6mTyeTz83Or1Qo3MvBVfCdn9qjink6nJ8ikUilCiCfTbrexHJ+fn398fKDZWPFFUTw8PJxOn/7vA3N9+GaANCqKMs+L5u/Au6SWSiWMt+Fw2Gg0MKx6vd6fyliz2RzbAfM8r2ma67p/KmMI/w3op5Q4338eM8Vf+/vtB6vTPXe+2ecQAAAAAElFTkSuQmCC\"></div></div></div>"
      ],
      "text/plain": [
       "2\n",
       "String"
      ]
     },
     "execution_count": 7,
     "metadata": {
      "text/html": [],
      "text/plain": []
     },
     "output_type": "execute_result"
    }
   ],
   "source": [
    "ToString[2]\n",
    "\n",
    "(* проверка типа *)\n",
    "Head[ToString[2]]"
   ]
  },
  {
   "cell_type": "markdown",
   "metadata": {},
   "source": [
    "## Про числа с большой точностью"
   ]
  },
  {
   "cell_type": "code",
   "execution_count": 1,
   "metadata": {
    "vscode": {
     "languageId": "wolfram"
    }
   },
   "outputs": [
    {
     "data": {
      "text/html": [
       "<div><pre style=\"&#102;&#111;&#110;&#116;&#45;&#102;&#97;&#109;&#105;&#108;&#121;&#58;&#32;&#34;&#67;&#111;&#117;&#114;&#105;&#101;&#114;&#32;&#78;&#101;&#119;&#34;&#44;&#67;&#111;&#117;&#114;&#105;&#101;&#114;&#44;&#109;&#111;&#110;&#111;&#115;&#112;&#97;&#99;&#101;&#59;\">&#49;&#46;&#48;&#48;&#48;&#49;</pre></div>"
      ],
      "text/plain": [
       "1.0001"
      ]
     },
     "execution_count": 1,
     "metadata": {
      "text/html": [],
      "text/plain": []
     },
     "output_type": "execute_result"
    }
   ],
   "source": [
    "Nest[#+1.*^-14 &, 1, 1*^10] (* это очень долго, но правильно *)"
   ]
  },
  {
   "cell_type": "code",
   "execution_count": 2,
   "metadata": {
    "vscode": {
     "languageId": "wolfram"
    }
   },
   "outputs": [
    {
     "data": {
      "text/html": [
       "<div><pre style=\"&#102;&#111;&#110;&#116;&#45;&#102;&#97;&#109;&#105;&#108;&#121;&#58;&#32;&#34;&#67;&#111;&#117;&#114;&#105;&#101;&#114;&#32;&#78;&#101;&#119;&#34;&#44;&#67;&#111;&#117;&#114;&#105;&#101;&#114;&#44;&#109;&#111;&#110;&#111;&#115;&#112;&#97;&#99;&#101;&#59;\">&#49;&#46;&#48;&#48;&#48;&#49;</pre></div>"
      ],
      "text/plain": [
       "1.0001"
      ]
     },
     "execution_count": 2,
     "metadata": {
      "text/html": [],
      "text/plain": []
     },
     "output_type": "execute_result"
    }
   ],
   "source": [
    "(* это чуть быстрее, но хз, на сколько *)\n",
    "Com pile[\n",
    "  {}\n",
    "  ,\n",
    "  Module[{x = 1., i},\n",
    "    For[i = 1, i < 1*^10, i++,\n",
    "      x += 1.*^-14\n",
    "    ];\n",
    "    x\n",
    "  ]\n",
    "][]"
   ]
  },
  {
   "cell_type": "markdown",
   "metadata": {},
   "source": [
    "## Сложные выражения"
   ]
  },
  {
   "cell_type": "markdown",
   "metadata": {},
   "source": [
    "Любые выражения могут быть либо элементарными, либо состоять из элементарных (сложные). Сложные выражения состоят из последовательности выражений (элементарных или сложных), нулевое из которых называется головой выражения, а остальные - первым, вторым и т.д. аргументами. Аргументов у сложного выражения может совсем не быть."
   ]
  },
  {
   "cell_type": "markdown",
   "metadata": {},
   "source": [
    "Неформально также можно сказать, что выражение с какой-нибудь головой f и аргументами x1, x2 и т.д.; это применение функции/головы/символа f к соответствующим аргументам. То есть, в данном контексте понятия «функция f», «голова f» и «символ f» тождественны."
   ]
  },
  {
   "cell_type": "code",
   "execution_count": 16,
   "metadata": {
    "vscode": {
     "languageId": "wolfram"
    }
   },
   "outputs": [
    {
     "data": {
      "text/html": [
       "<style>\n",
       "\t\t\t\t\t\t\t\t\t\t\t\t\t.grid-container {\n",
       "\t\t\t\t\t\t\t\t\t\t\t\t\t\tdisplay: inline-grid;\n",
       "\t\t\t\t\t\t\t\t\t\t\t\t\t\tgrid-template-columns: auto;\n",
       "\t\t\t\t\t\t\t\t\t\t\t\t\t}\n",
       "\t\t\t\t\t\t\t\t\t\t\t\t</style>\n",
       "\n",
       "\t\t\t\t\t\t\t\t\t\t\t\t<div><div class=\"grid-container\"><div class=\"grid-item\"><img alt=\"Output\" src=\"data:image/png;base64,iVBORw0KGgoAAAANSUhEUgAAAAwAAAAaCAIAAAAMmCo2AAAAzXpUWHRSYXcgcHJvZmlsZSB0eXBlIGV4aWYAAHjabU9RrgMhCPz3FD0CAg56HHfXJu8G7/iF1fcam04iM4yAksbvzzM9ApwpabGKBpBDmzbuLipNTM7U7jhxLs67n3JffnervC8wln/svmEy149BxFNIvOBadDWsQcLT/3vwWPXca90HCW2w+v/1r7mKMQqyqUdlMkNzXZNLJxSmYnjiBLww42LS03nAzNtgUSE9GgM8bK8eCeLGFStIHJXujBl5ul2y2B0LH57LfRvrvACVR1rrDN79LQAAAAlwSFlzAAASdAAAEnQB3mYfeAAAADx0RVh0U29mdHdhcmUAQ3JlYXRlZCB3aXRoIHRoZSBXb2xmcmFtIExhbmd1YWdlIDogd3d3LndvbGZyYW0uY29tXKKmhQAAACF0RVh0Q3JlYXRpb24gVGltZQAyMDI0OjA2OjA2IDIwOjE3OjE1lzYaIgAAALtJREFUKJHFkrENgzAQRT8RG9C5cHOehMYMwACu2MUswApegdqImgEQQtTe4VIgIWwloUnIVdbp+fS+7jJmxlU9LomvQvnL7jAM4zjubyklOK5pmojo/EFrnSXpqqrq+56ImqZ5OwkAEYUQzs1IfFkWAEqpoihScefctm0A1nUFMM9z27YHUdc1mFlr/SG/9z4HYIwpy3Kf1HXd2RqAECIS997vmZM0N+/un6cihLDWSikTKL2CHzvdDD0B/HGCCozGwBEAAAAASUVORK5CYII=\"></div><div class=\"grid-item\"><img alt=\"Output\" src=\"data:image/png;base64,iVBORw0KGgoAAAANSUhEUgAAAAwAAAAaCAIAAAAMmCo2AAAAzXpUWHRSYXcgcHJvZmlsZSB0eXBlIGV4aWYAAHjabU9RrgMhCPz3FD0CAg56HHfXJu8G7/iF1fcam04iM4yAksbvzzM9ApwpabGKBpBDmzbuLipNTM7U7jhxLs67n3JffnervC8wln/svmEy149BxFNIvOBadDWsQcLT/3vwWPXca90HCW2w+v/1r7mKMQqyqUdlMkNzXZNLJxSmYnjiBLww42LS03nAzNtgUSE9GgM8bK8eCeLGFStIHJXujBl5ul2y2B0LH57LfRvrvACVR1rrDN79LQAAAAlwSFlzAAASdAAAEnQB3mYfeAAAADx0RVh0U29mdHdhcmUAQ3JlYXRlZCB3aXRoIHRoZSBXb2xmcmFtIExhbmd1YWdlIDogd3d3LndvbGZyYW0uY29tXKKmhQAAACF0RVh0Q3JlYXRpb24gVGltZQAyMDI0OjA2OjA2IDIwOjE3OjE1lzYaIgAAALtJREFUKJHFkrENgzAQRT8RG9C5cHOehMYMwACu2MUswApegdqImgEQQtTe4VIgIWwloUnIVdbp+fS+7jJmxlU9LomvQvnL7jAM4zjubyklOK5pmojo/EFrnSXpqqrq+56ImqZ5OwkAEYUQzs1IfFkWAEqpoihScefctm0A1nUFMM9z27YHUdc1mFlr/SG/9z4HYIwpy3Kf1HXd2RqAECIS997vmZM0N+/un6cihLDWSikTKL2CHzvdDD0B/HGCCozGwBEAAAAASUVORK5CYII=\"></div><div class=\"grid-item\"><img alt=\"Output\" src=\"data:image/png;base64,iVBORw0KGgoAAAANSUhEUgAAADIAAAAaCAIAAAB6opi9AAAAzHpUWHRSYXcgcHJvZmlsZSB0eXBlIGV4aWYAAHjabU9bDgIhDPznFB6htGUKx2FXTLyBx7c8XINxEjrt9Elor+cj3Do4UtBkGQUghxYtXN3JNDE5Uhl2QHjl4q6HWJdeXUrfBNrSj103TOb8M4jWBukb3BddDe26YOifhceq55rzPkhog+Xr9L+xijESoqlbZTJDcT8Hd52QmJLhgRPwwog7k57ODWbeBusVUntjBzfbq1uAuHDvX5D+VKozpuWpVoliwyY+PJaR7d95A1GMWr3BlPo8AAAACXBIWXMAABJ0AAASdAHeZh94AAAAPHRFWHRTb2Z0d2FyZQBDcmVhdGVkIHdpdGggdGhlIFdvbGZyYW0gTGFuZ3VhZ2UgOiB3d3cud29sZnJhbS5jb21coqaFAAAAIXRFWHRDcmVhdGlvbiBUaW1lADIwMjQ6MDY6MDYgMjA6MTc6MTWXNhoiAAACgklEQVRIie2XTcsxURjHr/vJVprsLCRWipSXlGwojazvxdjZefkAyF46vsAgCzujlLKQoSgkIVGWSBZWXj+BZ3Hue/J2e2bGXSye3+rMuc7853+uM+fqnI/T6QTvx59XG7jPf1tCeFNbEhHvLBaL9XqN21qtVi6X3w7o9/sURT0Q6XQ6uCGVSg0Gwy/YKhaLjUbD6XQCgEKhuLUVCoVYln1sq9vtAsByuVwsFtVq9Tp8Eg5CCCH0YABJkjyV2+02SZK3/RfZmkwmvV7veDyedyqVysfz5mAYZrVaAcBsNgOAZDJ5Hg2Hw3xErrMVDAbvDridzU/Zwkn654cEZCudTtM0TRAERVEqlWq5XNI0DQCxWEyv1/Ococ/nwz9cJpOZz+cIIQHpueTLVqlUAoByuWy323GPwWAIBAIymYznCgIAN7LRaMznc2GrdslF3ZJKpaKFfpevbDmdTpZlHQ7H1SLabLZX2iJJMhKJ7Pd77AaTz+e5NX2NrUgkotFoarVavV4/Ho8ymczlcqnV6mekt9vtbaUVZotlWbPZrFar/X7/M1bOqdfr/LfLfVsEQQyHQ4vFYrFYVCoV7tTpdFarVcSM8Z/q9XpbrRanJqacplKpu1GCIMbjMc9yyrHZbMxm890PCSin2+02m80CAEJIp9NNp1MshKtiIpFgGEZQtuRy+WAwqFQqnJRQJABQLBaHw2EwGMR59ng8OKZUKr1e7+FwECft8Xg4KTG2MDRN73Y7o9GIH0ejUaFQAACfzydO+hkkAPD5+dlsNgvfcDGCIKLRqOjd9Awfp+8LGT5S4pMJPNyGDMPkcjncRgjdni354Ha7ccNkMsXj8R9tvRVvesX4C/S/MBnRdX26AAAAAElFTkSuQmCC\"></div><div class=\"grid-item\"><img alt=\"Output\" src=\"data:image/png;base64,iVBORw0KGgoAAAANSUhEUgAAAAwAAAAaCAIAAAAMmCo2AAAAzXpUWHRSYXcgcHJvZmlsZSB0eXBlIGV4aWYAAHjabU9RrgMhCPz3FD0CAg56HHfXJu8G7/iF1fcam04iM4yAksbvzzM9ApwpabGKBpBDmzbuLipNTM7U7jhxLs67n3JffnervC8wln/svmEy149BxFNIvOBadDWsQcLT/3vwWPXca90HCW2w+v/1r7mKMQqyqUdlMkNzXZNLJxSmYnjiBLww42LS03nAzNtgUSE9GgM8bK8eCeLGFStIHJXujBl5ul2y2B0LH57LfRvrvACVR1rrDN79LQAAAAlwSFlzAAASdAAAEnQB3mYfeAAAADx0RVh0U29mdHdhcmUAQ3JlYXRlZCB3aXRoIHRoZSBXb2xmcmFtIExhbmd1YWdlIDogd3d3LndvbGZyYW0uY29tXKKmhQAAACF0RVh0Q3JlYXRpb24gVGltZQAyMDI0OjA2OjA2IDIwOjE3OjE1lzYaIgAAAUVJREFUKJHdUzGOgkAUfWy2NWa0J8R6bAzGxE4SAzeA0lKu4A04AcoFiEdQSxtCCMHEEoyxRgkn+FsMi666uvW+7s+8ef/9eTMSEeEdPt4y/j3p87bY7XZBEJRlebsoyzLoG7ZtP5XRdV0SN75YLKbTKWPMsixFUY7Ho+u6AGazWbfbrZR0XQew3W5r4fl8DsBxHCL6YbzRaLwyrmnaarUajUZ37YbDIYCqXZIkjwK+74vdyrhhGGmartfrzWZTlmWz2RyPx51Op6ILLgBVVekXVEqtVqsoClVV+/2+oijiPOd8MBi0223cDvwIxliSJBIRnc9nwzCiKHIch3O+3+8Fw/O8LMtM00QtY9v2nRXf90Us14Bd171cLr1eT5RxHC+XSwCTyQRElOe5aZpPDYlYpPpLHQ6HMAxPp9P9aMCV9AJ/eplfwBPoBwxBl4EAAAAASUVORK5CYII=\"></div></div></div>"
      ],
      "text/plain": [
       "f\n",
       "f\n",
       "g[t]\n",
       "g"
      ]
     },
     "execution_count": 16,
     "metadata": {
      "text/html": [],
      "text/plain": []
     },
     "output_type": "execute_result"
    }
   ],
   "source": [
    "Head[f[x, g[t]]]\n",
    "Head[f[]]\n",
    "\n",
    "Head[g[t][f[y]]] (* голова g[t], один аргумент, его применение *)\n",
    "Head[g[t, f[y]]] (* голова g, два аргумента *)"
   ]
  },
  {
   "cell_type": "markdown",
   "metadata": {},
   "source": [
    "У элементарных выражений, как и у сложных, есть голова. В некотором смысле, голова элементарного выражения - это тип данных."
   ]
  },
  {
   "cell_type": "code",
   "execution_count": 22,
   "metadata": {
    "vscode": {
     "languageId": "wolfram"
    }
   },
   "outputs": [
    {
     "data": {
      "text/html": [
       "<style>\n",
       "\t\t\t\t\t\t\t\t\t\t\t\t\t.grid-container {\n",
       "\t\t\t\t\t\t\t\t\t\t\t\t\t\tdisplay: inline-grid;\n",
       "\t\t\t\t\t\t\t\t\t\t\t\t\t\tgrid-template-columns: auto;\n",
       "\t\t\t\t\t\t\t\t\t\t\t\t\t}\n",
       "\t\t\t\t\t\t\t\t\t\t\t\t</style>\n",
       "\n",
       "\t\t\t\t\t\t\t\t\t\t\t\t<div><div class=\"grid-container\"><div class=\"grid-item\"><img alt=\"Output\" src=\"data:image/png;base64,iVBORw0KGgoAAAANSUhEUgAAAEgAAAAaCAIAAACbyY3sAAAAzHpUWHRSYXcgcHJvZmlsZSB0eXBlIGV4aWYAAHjabU9bDsMgDPvnFDtCSIIDx6EtlXaDHX+hUFVMs0RsnBeE9nmf4dXBkYImyygAObRo4eoi08DgSOWKF/TOxdUPsU6/upWeBNr0t9U3DOb8M4h4COkbXIvOhjlIePj3wm3Wc815HSS0wJ6n/72rGCMhmnpUJjMU1zm4dEJiSoYTO+CFEQeT7s4NZt4G6xVSe2MHN1urW4C4cfQvSD8q1Rkj8nCrRDGPSRJvfpcr27/zBVwkWsg7EfOrAAAACXBIWXMAABJ0AAASdAHeZh94AAAAPHRFWHRTb2Z0d2FyZQBDcmVhdGVkIHdpdGggdGhlIFdvbGZyYW0gTGFuZ3VhZ2UgOiB3d3cud29sZnJhbS5jb21coqaFAAAAIXRFWHRDcmVhdGlvbiBUaW1lADIwMjQ6MDY6MDYgMjA6MTc6NTXzWt8mAAAEOUlEQVRYhe1YMUsrWxD+vNhKOKQLEiSLYBFIs1VQCyE5om1gF6tU4oLYCAGjdWAVG0E0vZgVb2mCGohFQpC4SgTFxgQJkmqTIP6AfcV4z923Se7LU+593sv7qnNmZ8/Md2Z2ZpIh27bxJ+LLf+3Az8L/xH43DP96k5ubmwASicQHzzEMo9FoiG0sFgsEAmI75Cwe9Xq9UqmQdjAYnJub+6DtnhgaGgLw8aI1Ozt7dnYmtsVicXJyUmy/R2x9fT2VSjnfZIwdHBz8JHofRzwen5mZAVAoFJwMCW/EiBVjTFXVsbExADc3N0dHR3d3d5+WmKqqYt2XGMXq4uIiFAqJZ7u7u8/Pz7SmhA6Hw85wA6jX61+/fvX7/aqqGoZB9kiZkr5UKpXLZdeLkiQBaLVa+Xy+0WjQ692u397eXl5evry8eDyeSCTi/IT+GbZti3S3LMvug0wmA0BRFJc8mUwCyGQytm1zzjnnuq4L74vFojBUq9WELc55JpNhjImnsiw7rVuWpSiKy9VkMtnTN7JYLBadwjdidIWcc2HeBcuyyA8XeUmSGGMk5JzTOYqi0EKSJFmWOecAdF0XxOgoxlgymUwmk7QVCnSUUNB1XZB06gxErFqtivvTNM2lRNA0DcD+/r6QUEA0TXN6wzm3v0WSOGezWRcxV4iq1SopO4+VJMl5iZQyQmdQYrZtW5al67qgJ8tyNpt1qpJ5WZZdVEWQiRgZIGNEhhx1EXNFXpZlIXSmd7dOtVodhNj3ycPr9SYSiXa7nclkOOemac7Pz6fTaaEQCoVkWTZNs16vk8QwDM6565t2FolwOIw+8Hq93duHhwcA19fXAEZHR12vRKNRAK+vr/3OdKLHSKWq6unpKYV+aWlJ0ACwuroKIJ/PA8jlcp1OJx6PD2Lm16PvrKiqKqVWs9kUwkgkwhjb2toCcHJyIklSzzL9DlQqFXyLNqWA6DQC5+fnAHw+3yAHfgFQr9edYSG0Wi0yNjIyIoRer1dV1VqtlsvlDMNYXFx8NxMn0ul0p9MRpW96ehrA9vZ2q9USOoZhmKYpSdKA3WwYQLPZnJqakmU5Go16PB4AT09PhmF0Oh1Zlp0tG8DCwsLe3t7Kykqn04nFYu8mMzs7SwPR8fGxaZoA1tbW6JGqqhsbG6Zpjo+Pa5rm8XhoDAKws7NDOjQY0LpQKAA4PDwsl8sA3oYB27ZrtRq1HRcURenZskWzcskpdbsrlasqOvsygVq5qwJTDRRgjDnrpLP1u0CGhgEEAoHHx0cxvwAIBoMTExP9gq4oSiqVWl5edsnFVErXpus6fQ8+n0/XdVEh2+12qVS6v78XtrrH0VAodHV1ReMYAL/fH4lEnIWUzuzp3puh7oD8GHRV1IU/M/72e+wHoLmWcp0x5hqXPyMGvAD6fgAwxlwTyefEv4tYd65/WgxK7LfDH/sv1V88n3chdbsrOgAAAABJRU5ErkJggg==\"></div><div class=\"grid-item\"><img alt=\"Output\" src=\"data:image/png;base64,iVBORw0KGgoAAAANSUhEUgAAAEgAAAAaCAIAAACbyY3sAAAAzHpUWHRSYXcgcHJvZmlsZSB0eXBlIGV4aWYAAHjabU9bDsMgDPvnFDtCSIIDx6EtlXaDHX+hUFVMs0RsnBeE9nmf4dXBkYImyygAObRo4eoi08DgSOWKF/TOxdUPsU6/upWeBNr0t9U3DOb8M4h4COkbXIvOhjlIePj3wm3Wc815HSS0wJ6n/72rGCMhmnpUJjMU1zm4dEJiSoYTO+CFEQeT7s4NZt4G6xVSe2MHN1urW4C4cfQvSD8q1Rkj8nCrRDGPSRJvfpcr27/zBVwkWsg7EfOrAAAACXBIWXMAABJ0AAASdAHeZh94AAAAPHRFWHRTb2Z0d2FyZQBDcmVhdGVkIHdpdGggdGhlIFdvbGZyYW0gTGFuZ3VhZ2UgOiB3d3cud29sZnJhbS5jb21coqaFAAAAIXRFWHRDcmVhdGlvbiBUaW1lADIwMjQ6MDY6MDYgMjA6MTc6NTXzWt8mAAADyElEQVRYhe1YP0vrXBh/+tLVauzWoUiyCBa6RJFiBzMY6FxpxA5uWnB20MlFOP0Apjg5CGk/QIuh4GCKaBRJoJtNCSqdEkI/Qe7w1JCbNOXKbd++9/L+ppxznvPkOfk9/05iruvC34h/5m3ArPD/wWYAXder1Wq/35+F8tgcY2x5edlxHIZher3e1JXH/YN+v6+q6vv7OwBkMplCoRDegDKCIEzdlCnD/cLp6WlgiaKoZrPp/gye5/27fgeaphFCDMOYirYARoydnZ1dXFxQFCUIwsrKCgC8vr42Go1utzuWt6kgm81ms9kZKR/FWCwWAwBN0/xvsm378/MTZ+r1Orro1dWVYRiEEL+Wk5MTfOh0Og8PD8VikaZpXddlWQYAnuf9alHGG+Zyua2trYBZ1Wo1nU4LgtDv99vt9nA4xGFAzLbtp6enbrcbmC8WiyOnwrFlWVHMogdGwRPDAzebzVKp5Beo1WoBGQ+EkPDr8HNIkuSXZFnWL6NpGkVRY+1RFGXkigzDGIaxv79/eXlJ03RY9ODggOM4iGAsgHK57DgOz/Mcx5mmKYri0dFRsVhMJpMAkMvlcDsuRSlRVVWWZYqiKpUKAIii+PLyUq/XPd62t7cdx2FZdnd31zMMh6lUCsKnr1QqiqJMpi5qFS0OZB1kL6xTUZQJjCFFnhPVajW0zb+X53lvi2VZDMN4to0KdDabfXt7I4RQFCWKYj6fX19fb7VaE2iZgJubG3/KOT4+JoSkUqnv6rm9vUWSAWBtbQ0AAtV8aWkpcnP4a0mS5EWUPzZ+nbEJhH+LsbCwR5FlWehiLMsSQgghSJcnEGmiF7iBOvMfOZj75eF++F03DhEQBOH6+lqW5cFgEE4ntm17TjIXdDqdRqMhSVIikcB0H2iV4vDluAHrbdtWVRUAFhYWwnrb7fZ8uyqshIlEolAojG0h4gAwGAzy+TzLsjs7O4uLiwBgmma9XsdkGmgOOI6TZXlvb+/+/h57FPAV6F9BtVrFB9M0AeDu7g6HY0twFNDOcrm8sbGBdQgnNzc3Rwa7rmsYBkZeAKVSKVyyLctiWTYg+a0Yi7LVHz8BteEY85J7GFgS4gBA03Sv19N1/fHxcTgcAkAmk1ldXR1bqZPJ5PPzc6vVCjcy8FV8J2f2qOKeTqcnyKRSKUKIJ9Nut7Ecn5+ff3x8oNlY8UVRPDw8nE6f/u8Dc334ZoA0Kooyz4vm78C7pJZKJYy34XDYaDQwrHq93p/KWLPZHNsB8zyvaZrrun8qYwj/DeinlDjffx4zxV/7++0Hq9M9d77Z5xAAAAAASUVORK5CYII=\"></div><div class=\"grid-item\"><img alt=\"Output\" src=\"data:image/png;base64,iVBORw0KGgoAAAANSUhEUgAAAFQAAAAaCAIAAACmW+yKAAAAzHpUWHRSYXcgcHJvZmlsZSB0eXBlIGV4aWYAAHjabU9bDgIhDPznFB6h9DGF47CKiTfw+JYFNRgnoTNMX5D683FPlwHOlNS8oAIU0KqVW4hCE5Mz1TOeMF25vPspt+W3sOybQF/+sfuOyVx+BhFPIWNDaFkbfQ0Snv574bHquZWyDxLa4OXz9L93FWcYsmtEZXJHDV1SyCAYkznuuAJRmHFj0mtwh3u0wUeFtNE4wN336p4gYdzGF2QclRaMGXm6TbJ4RBPjI+5yZsd3Xle6WsW2hwQqAAAACXBIWXMAABJ0AAASdAHeZh94AAAAPHRFWHRTb2Z0d2FyZQBDcmVhdGVkIHdpdGggdGhlIFdvbGZyYW0gTGFuZ3VhZ2UgOiB3d3cud29sZnJhbS5jb21coqaFAAAAIXRFWHRDcmVhdGlvbiBUaW1lADIwMjQ6MDY6MDYgMjA6MTc6NTXzWt8mAAAEPklEQVRYhe1Yz0s6WxQ/38fb5nBz12IIhxZBMJGDgkSgIAPRJrDGaNMqmVq1sWzTTlBaOxF8d0EjBa36MQkGGVE4hgNCixoJod2I+BfMW9zevPvu6EP7Wn2h91nozPWcc8+Ze875HOeHbdvwXfHHVzvwlfg/+O+Kbx38n/hLVdVGo+H+mWXZeDzer1HDMF5fX2dnZ3/Vu4+Gbdu2bYui2PFXURTt/vFuxU/G28mvrKxEIhEAKBaLmqaJoohvWZb9rFP4ArwFT+a2pmmRSCSZTFKiuDSSyWSz2SwUCo1Gg2GYWCzm9XqxQDabdYSfn5/JW3f51Ov1QqHQbrdZlg0EAj6fz+3czc3N7e0ttRgKhaanp51bwzA0TQOAiYmJYDDoOEP5DABnZ2e1Wo1hmGg0+rYdlQmZTAYAMpmMO0lwaVSrVYSQYx0hZJomFujwbP8GVQXb29uUwOHhISlgWZYgCB1NOb5ZlkVVK0KoWq129Jm0hhAqlUr/pH3vCIfDrVZLluXR0dH9/X3TNHd3d3O5HHYLy2xubnIct7q66miR5ZPNZtPpNMdxkiQxDPPy8qKq6tLSksfjcXrk+vq6ruuODC5GhNDW1lYoFMIyy8vLmqYJgrCwsAAADw8P+Xw+HA7ruk7lEekzNrWxsVEul/s+efLpVqtVAOA4jpKE7g3PsiyEkCAIlmU5i9iOJEmkBYQQKSNJEgDgE7Ntu1QqAYAsy6Txvb09ANjb26N8FgSBzAicue85+YODA57n8TW+ME2zd/X7+/tWq+X1en/+/EmuI4Ty+byqqs7K8PDwf9g5Pz/HF2RnabfbAHBycpJIJEjhi4sLshfkcjnM630H7/F4+lUhUavVAEDTNNylukEURU3TgsEglfbj4+NYoFKpAICiKL1sSnVBp/X2HfxA4FBpN8zPz2uaZppmOp3GKwihq6srKgxcxpRu7/T8UcE3m82O69gzv9/vplJSN5VKybKcSCRwgrAsG41GychxS5ubm/uVOfKjgtd1vV6vu9k7EAgAgKIoi4uLTu+g8Pj42Gq1EEI8z3eTmZmZURRlZ2fHze29g57ti8Wi8wnvne1xxQqCIMsywzCkHZ/PJ0lSPp+fnJyUJGlqasrRcqaXoaEhAEin05VKxe/3Ywvw7/EmGo1yHKfr+tjYWDweJ5M/Fot1HJk6gKSEjmFQtOGQjcNJ4JqUqEGIsmNZFuYtCiS/dhQAAJIjqdHFAekh9rkj6dru2Z4C2TywzMjICOWxW4vn+aenJzwCu+14vV5VVVOp1N3dHSYnDGd6MQzj8vISIYRnJ2yk3W4riqLr+vHxMWYynufL5bJ7BCY97BbXG7o9lS8EPnZq4LVtW5Zl6DKAvQ9fQ3W9YG1t7fr62inmo6MjXdcBIBaLDWyPQT3FAaJbMXMcd3p6OsCNfti/66trwzDIpkD9kx0Ift/gPwHf+gXmXxxMw883CB9rAAAAAElFTkSuQmCC\"></div><div class=\"grid-item\"><img alt=\"Output\" src=\"data:image/png;base64,iVBORw0KGgoAAAANSUhEUgAAADAAAAAaCAIAAAB+V0iAAAAAznpUWHRSYXcgcHJvZmlsZSB0eXBlIGV4aWYAAHjabU/bDcMgDPxnio4AtjnDOCQhUjfo+DXBTUXVk/DZ5yehv55neAxQikGyFlQgGqRKpWZOiROTU6yXvcCesnjRQ2quN5PyN4Hu+rbqislUfgZF8k1jg/ks3uCDmKb+Wbh5PbVS1kH3rT6g3Kf/jYWVkJFUzApFVVTzSzDXCJliVpzYAStMOCjKbtyham3QUcFtNA5Q17W6B7AJx/gCjyfcjDEtTbVxYjWbOdNmMV/Z8Z03TuJav/0jPcoAAAAJcEhZcwAAEnQAABJ0Ad5mH3gAAAA8dEVYdFNvZnR3YXJlAENyZWF0ZWQgd2l0aCB0aGUgV29sZnJhbSBMYW5ndWFnZSA6IHd3dy53b2xmcmFtLmNvbVyipoUAAAAhdEVYdENyZWF0aW9uIFRpbWUAMjAyNDowNjowNiAyMDoxNzo1NfNa3yYAAALOSURBVEiJ7VY9SytBFL0+Xr8M6VIskmkFmwiypFqQUVuVmFSBgLo/wA0slhqcgLYRKytNQLBKMQTSZEkhIWxAsBoJqRPQX7CvuM9hslnjB8+nhaeavTNz58y5Z2Z2LgxD+E749dUEovgh9Bp+//8lfd/vdDrq07KsTCYTJVSr1YbDoYoahrGyspJKpT6DUKfTKZVK6pNzHkPo4uJCCBGZ6Xne0dHRPydkWRbnHAAGg0G1Wo12h2EYhiFjDAAcx+Gcc87xEwDOzs7CT0O73UaF9OCEh/L5PKrnum6lUimVSjc3N7u7u/qY8XjcbDaHw6FhGMvLy4uLi9MaKJd8pPS6Qu12O0KfMabTv7q6IoTo0x3H0Qc0Gg1KaWQJz/M+qJCOy8tLANA35/t+LpcjhDiOMz8///T0VK/Xq9UqIURZ7e7uTkrJGLNtG55dUi6X19bWdOe+VSHloXQ6DQCEECml4s4YI4QEQaAio9GIUkoIUZEgCPQpKOq0DG9VSPd8Npstl8tKofF4LISglAoh9POIpH3fRwHQUvpNMxgM3iTMMyYIYS3Oz8+llI+Pj4ZhqK77+3sAkFLqV8g0+v3+xsaGlPJdJF4khKfMdd2lpSUhxOnpaeQeopTu7OxMZ0kmk9hANpTSbDaL+4m/bGYg9pRhdQFAGQI3nU6nY8+LPotSOhqNZhtlRlf845rJZJDi9fU1RlKpFKW02+3WarXZOySEJBIJbD88PBweHr5DnhmP68HBgRDi+Pi4WCziAvv7+3t7e7lc7uTkZGtrS400TXN7exueC9ftdldXV23b7vV69Xp9OnOlUsEG+r3Vak3kiS2ZHtRfD3yDItAvz8gAQojneTBZl5ckwDx/FSoUCrZtK28iOOe2betnzXXdzc3N29tb/dfANE19AGMM74WFhYX19XUAMAzDsiw9bSwhzDM3g/KX4Nv9Mf4Qeg0/hF7DH5BAxNlSZZgmAAAAAElFTkSuQmCC\"></div></div></div>"
      ],
      "text/plain": [
       "Symbol\n",
       "String\n",
       "Integer\n",
       "Real"
      ]
     },
     "execution_count": 22,
     "metadata": {
      "text/html": [],
      "text/plain": []
     },
     "output_type": "execute_result"
    }
   ],
   "source": [
    "Head[f]\n",
    "Head[\"x\"]\n",
    "Head[1]\n",
    "Head[1.]"
   ]
  },
  {
   "cell_type": "code",
   "execution_count": 30,
   "metadata": {
    "vscode": {
     "languageId": "wolfram"
    }
   },
   "outputs": [
    {
     "data": {
      "text/html": [
       "<div><img alt=\"Output\" src=\"data:image/png;base64,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\"></div>"
      ],
      "text/plain": [
       "{f[][4][g[x]], f[][4], f[], f, Symbol, Symbol}"
      ]
     },
     "execution_count": 30,
     "metadata": {
      "text/html": [],
      "text/plain": []
     },
     "output_type": "execute_result"
    }
   ],
   "source": [
    "NestList[Head, f[][2 + 2][g[x]], 5]\n",
    "(* NestList[f, expr, n]\n",
    "  gives a list of the results of applying f to expr 0 through n times. *)"
   ]
  }
 ],
 "metadata": {
  "kernelspec": {
   "display_name": "Wolfram Language 14",
   "language": "Wolfram Language",
   "name": "wolframlanguage14"
  },
  "language_info": {
   "codemirror_mode": "mathematica",
   "file_extension": ".m",
   "mimetype": "application/vnd.wolfram.m",
   "name": "Wolfram Language",
   "pygments_lexer": "mathematica",
   "version": "12.0"
  }
 },
 "nbformat": 4,
 "nbformat_minor": 2
}
