{
 "cells": [
  {
   "cell_type": "markdown",
   "metadata": {},
   "source": [
    "# Символы"
   ]
  },
  {
   "cell_type": "markdown",
   "metadata": {},
   "source": [
    "## Классификация"
   ]
  },
  {
   "cell_type": "markdown",
   "metadata": {},
   "source": [
    "Системные символы начинаются с прописной (заглавной) буквы, значка доллара $ или некоторых спецсимволов (Table, Plot, N, $Assumptions, \\[Pi], E). Для удобства рекомендуем в качестве своих символов использовать те, которые начинаются со строчной буквы (f, x1, tN0). Таким образом, по нашей неофициальной классификации есть два вида символов: системные и пользовательские."
   ]
  },
  {
   "cell_type": "code",
   "execution_count": 1,
   "metadata": {
    "vscode": {
     "languageId": "wolfram"
    }
   },
   "outputs": [
    {
     "name": "stdout",
     "output_type": "stream",
     "text": [
      "a\n"
     ]
    }
   ],
   "source": [
    "Print[a]"
   ]
  },
  {
   "cell_type": "markdown",
   "metadata": {},
   "source": [
    "## Системные символы (Plus и Times)"
   ]
  },
  {
   "cell_type": "code",
   "execution_count": 2,
   "metadata": {
    "vscode": {
     "languageId": "wolfram"
    }
   },
   "outputs": [
    {
     "data": {
      "text/html": [
       "<div><img alt=\"Output\" src=\"data:image/png;base64,iVBORw0KGgoAAAANSUhEUgAAAEAAAAAaCAIAAACIHs0YAAAAy3pUWHRSYXcgcHJvZmlsZSB0eXBlIGV4aWYAAHjabU9RDkIhDPvnFB5hbKMbx+EpJt7A4zseqMHYhLaUsUHqz8c9XQY4U9JijgpQQKtWbmGcJqZmqief0HUU+y1Pua28RVS+B+grP/bcMJX9pxHxNDImhJc10lYj4Zm/Bx6rnpv73khog/nn6X/3KsYoyKbBymSGGt5T2BAUpmK44wpEYcaNSa+hHWZxDTYqpI2LA9xtr+4JEsFtfEHGUmmhmMwzbcF+Js5HsJx+fOcFUGBawI2pYPsAAAAJcEhZcwAAEnQAABJ0Ad5mH3gAAAA8dEVYdFNvZnR3YXJlAENyZWF0ZWQgd2l0aCB0aGUgV29sZnJhbSBMYW5ndWFnZSA6IHd3dy53b2xmcmFtLmNvbVyipoUAAAAhdEVYdENyZWF0aW9uIFRpbWUAMjAyNDowNjowNiAyMDoyODowOO9fPVgAAALPSURBVFiF7Vc/aypBEJ88UudYbEMQL32aw0CwSZGcH0BRSWMVOFOlMSDYJmwIKRMRBAvBuw9gYBHS2FhIuAXBakIQYuVx+An2Fes77hk9fUaeBvx1u7OzO39+czO3I4SAn4xf6zbgu9g6sG7srtuA+TBNs9/vJxKJSCTyVfqXA5xzxhgAHBwcnJ2dhUKh/2RjIKrVKmPs5ORkqgMghBBCIKKu6/59Qki9XhcbAGlYq9WaKh1n4OHhgTGmaVoymQSAcrmMiJlMJhqNTvd7Y7AjhAAAx3F6vV4sFvMEh4eHiEgpzefzq32Sc95ut0ejEQDoun50dBR8Ph6PM8YQMRKJvLy8dLtdRVESicSY4bMSRykFAErpCsmAiJqmTdin6/pwOAzQkhSybVtVVU+LEGLbthBi5mdURkhRlEUiaprm3GMAMBgMOp2OpmmFQoFSWigUCCGMsUqlMlf39PQUEQ3DoJSqquq67s3NDcCMDAyHQ0IIACDi3Li2Wq0FE4WIMmz+HQDQdX1uBryQS/NkNmzbnt4HisWi67qU0tVWsLzNXwOLo1aredUSCoVSqdTt7e3n5+cUB3K53PPzs2EYKy9fx3EuLi5kq/lX7O3t+ZeS291ud9IBz/qnp6eA6zjnYwoCOI7juu7r66tcZrPZdDo9VatYLDLGCCHpdDocDstN754l4WebYRgAYBjGIoReogbkixNlAIvVwEQjS6VScnPXi+LV1ZVlWXNj/33s7+97jz4+Pi5xA+fcsixCSCwWGzsQj8c7nQ4hJBwO39/f+0/PmqKWgKqqiHh8fHx5efnx8WGapuu6C+peX1+fn58rivL29mZZFgDc3d0B/KFQgOasIWQJCjUaDfl19iDbZTCFJFv8IISUSiUpHY8SE1H3Y4UZAID39/dmszkajbyBVzbBWXUvwTnv9Xr9fh++TMo7weHffPz4P7KtA+vG1oF14zeVA9/eJdM7FAAAAABJRU5ErkJggg==\"></div>"
      ],
      "text/plain": [
       "2 + a b"
      ]
     },
     "execution_count": 2,
     "metadata": {
      "text/html": [],
      "text/plain": []
     },
     "output_type": "execute_result"
    }
   ],
   "source": [
    "2 + a*b"
   ]
  },
  {
   "cell_type": "markdown",
   "metadata": {},
   "source": [
    "При желании можно посмотреть полную форму вычисленного выражения с помощью функции FullForm (посмотрите документацию!) и убедиться в том, что это действительно краткая запись применения Plus и Times:"
   ]
  },
  {
   "cell_type": "code",
   "execution_count": 3,
   "metadata": {
    "vscode": {
     "languageId": "wolfram"
    }
   },
   "outputs": [
    {
     "data": {
      "text/html": [
       "<div><img alt=\"Output\" src=\"data:image/png;base64,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\"></div>"
      ],
      "text/plain": [
       "Plus[2, Times[a, b]]"
      ]
     },
     "execution_count": 3,
     "metadata": {
      "text/html": [],
      "text/plain": []
     },
     "output_type": "execute_result"
    }
   ],
   "source": [
    "FullForm[2 + a*b]"
   ]
  },
  {
   "cell_type": "code",
   "execution_count": 4,
   "metadata": {
    "vscode": {
     "languageId": "wolfram"
    }
   },
   "outputs": [
    {
     "data": {
      "text/html": [
       "<div><img alt=\"Output\" src=\"data:image/png;base64,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\"></div>"
      ],
      "text/plain": [
       "-Graphics-"
      ]
     },
     "execution_count": 4,
     "metadata": {
      "text/html": [],
      "text/plain": []
     },
     "output_type": "execute_result"
    }
   ],
   "source": [
    "Plot[x, {x, 0, 1}] (* тоже выражение с системным символом *)"
   ]
  },
  {
   "cell_type": "markdown",
   "metadata": {},
   "source": [
    "## Способы применения функции"
   ]
  },
  {
   "cell_type": "code",
   "execution_count": 5,
   "metadata": {
    "vscode": {
     "languageId": "wolfram"
    }
   },
   "outputs": [
    {
     "data": {
      "text/html": [
       "<style>\n",
       "\t\t\t\t\t\t\t\t\t\t\t\t\t.grid-container {\n",
       "\t\t\t\t\t\t\t\t\t\t\t\t\t\tdisplay: inline-grid;\n",
       "\t\t\t\t\t\t\t\t\t\t\t\t\t\tgrid-template-columns: auto;\n",
       "\t\t\t\t\t\t\t\t\t\t\t\t\t}\n",
       "\t\t\t\t\t\t\t\t\t\t\t\t</style>\n",
       "\n",
       "\t\t\t\t\t\t\t\t\t\t\t\t<div><div class=\"grid-container\"><div class=\"grid-item\"><img alt=\"Output\" src=\"data:image/png;base64,iVBORw0KGgoAAAANSUhEUgAAAFEAAAAaCAIAAABAcifOAAAAzHpUWHRSYXcgcHJvZmlsZSB0eXBlIGV4aWYAAHjabU9bDgMhCPz3FD0CAg56HLfrJr1Bj198tI1NJ5EZRkAJ7fm4wq2DIwVNllEAcmjRwtVFponJkcqIA2mx55sfYl1+dSt9L9CWf+y+YTLnn0HEU0h/wbXoaliDhKf/fvBY9Vxz3gcJbbD8+frfXMUYCdHUozKZobjOwaUTElMyXLgDXhhxMunducHM22C9Qmpv7OBme3ULEDfOvoL0o1KdMSNPt4qMmET4cCXjtq/zAlLFWrvDFfGtAAAACXBIWXMAABJ0AAASdAHeZh94AAAAPHRFWHRTb2Z0d2FyZQBDcmVhdGVkIHdpdGggdGhlIFdvbGZyYW0gTGFuZ3VhZ2UgOiB3d3cud29sZnJhbS5jb21coqaFAAAAIXRFWHRDcmVhdGlvbiBUaW1lADIwMjQ6MDY6MDYgMjA6MzA6NTP9LhHKAAADp0lEQVRYhe1Yv0vrXhQ/78tbRS7dMmTwughCBoOD1EUoEYcuCknp0qGoATfBSHcLiaCTtoNCh0JbyKjFInRpEMQiyeSgN4QOTqn5E/KGCyWmP15aqz7w+xnC5eTk3HPuPfdzz8kv3/fhh+G/73bgG/B/zD8DvwdKDcO4u7ujY5ZlJUn6Qpc+Hb9CHGZZ1ubmJiGkJxEE4ebmJqhj2/br6ysdLywsxGKxL3B0LBiGQQczMzMcx4XehvdZURRCCMZ4e3ubSliWDenout5sNtfW1gCAYZh/MGaapI7j2LYd2jAAAP89AABj7LquPxyqqqqqOkLhH0Gr1RIEoV/+bp9t2waA+fn5ybbOsqxGowEABwcHQXm1Wu10OouLixsbGxOYDRpZWVmJx+Mhn3VdH4t0fvfMAYDjOADw8vKiaVpPY2tra25uLootjuOy2Wy73YZA2IZhpFIphNDz83NEn4ZBURRRFEMxX15e5vP5SqUyhiHf9wVBGKHQarVCuTEit03TRAgBgGmavu+7rosxBoDr6+sPJqrrutRy6NxhjBFCAw/jqNzOZDKUkBzHKRQKQQIDAIZhoq8gx3Hn5+epVCqbzT48PJycnBBCcrncR7KaIhaLSZJUKBR0Xd/Z2aFCwzAIIbIsj3cYQwsDAAPXJoi/cpgoigBAnzzPj7YWHaZphgzKsgwAhJCB+sP2+VPqsLOzM4xxrVZDCNVqtWmZ5TiO5/l2u025FgCq1aogCBHppofPqj3f3t4AwPO8XvUyFezv7wPA7e0tANTrdc/zMpnMuEY+JeZ0Ou15HuXSZDLZ7XanZTmRSCCEjo+PAeDq6gpjPEFdPP2YNU1rNBqyLEuSpKqq53npdHqgpmEYmqb1EjUKKJMRQur1erVaDXLtGAgdevgYh1ELwcuD53kAKBaL/crUAYTQMBIaMQW9Akd/+BUc1u12k8kkAJTL5d7lcXFxAQC7u7uWZYX06XJ4nkfPZ0TE43GMMSFEFMVx2YviXe3JMIyqqv1NRUTc398fHh7Ozs4Gb2OO4yqVSqfTeXp6CrU4p6enq6urE0wkimI+n9/b25vMz3CPEQXT6jGKxSL1gRZtERHxAPoRe4wvg6Zpj4+P9OqWZbm/xe0HbQroVwghVVUnnv17YlYUhQ5yudzR0VGUT0qlEm3aEELlcjnKMg3DJDGzLFsqlZrNJgCoqjrB9JQ1lpeXo5MQbQpYlk0kEn+trtfX1+lgaWmp/23439BPwE/87/kHEZdJoCwpttcAAAAASUVORK5CYII=\"></div><div class=\"grid-item\"><img alt=\"Output\" src=\"data:image/png;base64,iVBORw0KGgoAAAANSUhEUgAAAFEAAAAaCAIAAABAcifOAAAAzHpUWHRSYXcgcHJvZmlsZSB0eXBlIGV4aWYAAHjabU9bDgMhCPz3FD0CAg56HLfrJr1Bj198tI1NJ5EZRkAJ7fm4wq2DIwVNllEAcmjRwtVFponJkcqIA2mx55sfYl1+dSt9L9CWf+y+YTLnn0HEU0h/wbXoaliDhKf/fvBY9Vxz3gcJbbD8+frfXMUYCdHUozKZobjOwaUTElMyXLgDXhhxMunducHM22C9Qmpv7OBme3ULEDfOvoL0o1KdMSNPt4qMmET4cCXjtq/zAlLFWrvDFfGtAAAACXBIWXMAABJ0AAASdAHeZh94AAAAPHRFWHRTb2Z0d2FyZQBDcmVhdGVkIHdpdGggdGhlIFdvbGZyYW0gTGFuZ3VhZ2UgOiB3d3cud29sZnJhbS5jb21coqaFAAAAIXRFWHRDcmVhdGlvbiBUaW1lADIwMjQ6MDY6MDYgMjA6MzA6NTP9LhHKAAADp0lEQVRYhe1Yv0vrXhQ/78tbRS7dMmTwughCBoOD1EUoEYcuCknp0qGoATfBSHcLiaCTtoNCh0JbyKjFInRpEMQiyeSgN4QOTqn5E/KGCyWmP15aqz7w+xnC5eTk3HPuPfdzz8kv3/fhh+G/73bgG/B/zD8DvwdKDcO4u7ujY5ZlJUn6Qpc+Hb9CHGZZ1ubmJiGkJxEE4ebmJqhj2/br6ysdLywsxGKxL3B0LBiGQQczMzMcx4XehvdZURRCCMZ4e3ubSliWDenout5sNtfW1gCAYZh/MGaapI7j2LYd2jAAAP89AABj7LquPxyqqqqqOkLhH0Gr1RIEoV/+bp9t2waA+fn5ybbOsqxGowEABwcHQXm1Wu10OouLixsbGxOYDRpZWVmJx+Mhn3VdH4t0fvfMAYDjOADw8vKiaVpPY2tra25uLootjuOy2Wy73YZA2IZhpFIphNDz83NEn4ZBURRRFEMxX15e5vP5SqUyhiHf9wVBGKHQarVCuTEit03TRAgBgGmavu+7rosxBoDr6+sPJqrrutRy6NxhjBFCAw/jqNzOZDKUkBzHKRQKQQIDAIZhoq8gx3Hn5+epVCqbzT48PJycnBBCcrncR7KaIhaLSZJUKBR0Xd/Z2aFCwzAIIbIsj3cYQwsDAAPXJoi/cpgoigBAnzzPj7YWHaZphgzKsgwAhJCB+sP2+VPqsLOzM4xxrVZDCNVqtWmZ5TiO5/l2u025FgCq1aogCBHppofPqj3f3t4AwPO8XvUyFezv7wPA7e0tANTrdc/zMpnMuEY+JeZ0Ou15HuXSZDLZ7XanZTmRSCCEjo+PAeDq6gpjPEFdPP2YNU1rNBqyLEuSpKqq53npdHqgpmEYmqb1EjUKKJMRQur1erVaDXLtGAgdevgYh1ELwcuD53kAKBaL/crUAYTQMBIaMQW9Akd/+BUc1u12k8kkAJTL5d7lcXFxAQC7u7uWZYX06XJ4nkfPZ0TE43GMMSFEFMVx2YviXe3JMIyqqv1NRUTc398fHh7Ozs4Gb2OO4yqVSqfTeXp6CrU4p6enq6urE0wkimI+n9/b25vMz3CPEQXT6jGKxSL1gRZtERHxAPoRe4wvg6Zpj4+P9OqWZbm/xe0HbQroVwghVVUnnv17YlYUhQ5yudzR0VGUT0qlEm3aEELlcjnKMg3DJDGzLFsqlZrNJgCoqjrB9JQ1lpeXo5MQbQpYlk0kEn+trtfX1+lgaWmp/23439BPwE/87/kHEZdJoCwpttcAAAAASUVORK5CYII=\"></div><div class=\"grid-item\"><img alt=\"Output\" src=\"data:image/png;base64,iVBORw0KGgoAAAANSUhEUgAAADIAAAAaCAIAAAB6opi9AAAAzHpUWHRSYXcgcHJvZmlsZSB0eXBlIGV4aWYAAHjabU/bDQMhDPtnio4QkuDAONyVSt2g4zc8ehVVLREb5wWhvZ6PcOvgSEGTZRSAHFq0cHWRaWJypDLigPDKxd0PsS6/upW+CbTlH7tvmMz5ZxCtDdI3uBZdDe16wfA/C49VzzXnfZDQBsvX0//eVYyREE09KpMZiuscXDohMSXDAyfghRF3Jj2dG8y8DdYrpPbGDm62V7cAcePevyD9qFRnzMjTrSIjJhE+XMnI9u+8AVFKWrqOYS4uAAAACXBIWXMAABJ0AAASdAHeZh94AAAAPHRFWHRTb2Z0d2FyZQBDcmVhdGVkIHdpdGggdGhlIFdvbGZyYW0gTGFuZ3VhZ2UgOiB3d3cud29sZnJhbS5jb21coqaFAAAAIXRFWHRDcmVhdGlvbiBUaW1lADIwMjQ6MDY6MDYgMjA6MzA6NTP9LhHKAAACaklEQVRIie1WMc/pYBR+vptvFWlsHTqoRSLpwC+wVAwWEsRiEOEPIFbTa7AhEoNBgsQq0cWikQhDOxloIwYT+hN6hyZulU9Krstwn6E5Oe/peZ/3nJNzzpeu6/g8/Ho3gdv4T+sRfN/UiqI4m80MmWGYRCLxDykBwJel5GVZjkajiqKcNTzPj8djs42qqvv93pC9Xq/L5XriYlEUDcHhcHAcZzm1RqtYLCqKwrJsNps1NAzDWGyGw+FkMgkGgwBomn6OlpGN7Xarqqrl2QCgXwIAy7KHw0H/GYQQQsgdA/uYTqc8z1/rL6KlqioAj8fzXABkWRYEAUChUDDr+/3+brfz+XzhcNimq+/zb0ZIAWw2m2q1eraIxWJut9uOL47jMpnMcrk0MxNFMZlMUhS1Xq9tcgIAXdd5nr9jMJ1O7SdRkiSKogBIkqTr+uFwYFkWwGg0ejiJ6XTaqN/tdttsNs31DoCmafuP5Diu0Wgkk8lMJrNYLGq1mqIo5XLZfvr+RMvMHcBN+jajZSAejwMwvoFA4I7lT9F6SZev1+ssyw4GA4qiBoPBEx5eNXxOpxMATdPOjfchvIRWKpXSNK3X6wGIRCLH4/FRD3+fVrVaFQQhn88nEglCiKZpqVTqzbREUSwWixRFVSoVAIVCIRAICILQarXeRut4PEYiEQDdbvc8J9rtNoBcLifLsn1XF8OHpmlCyPVston5fF4qlZxOp7lLcRzX6/V2u91qtbreFGzRcrvdlnH2EMLh8M22+cS69qHb6YfSur003wfDMJ1OZzKZACCE2K8YM0KhkCH4/f7rU+vS/CH40CT+BjlBNjc5ZphDAAAAAElFTkSuQmCC\"></div><div class=\"grid-item\"><img alt=\"Output\" src=\"data:image/png;base64,iVBORw0KGgoAAAANSUhEUgAAADIAAAAaCAIAAAB6opi9AAAAzHpUWHRSYXcgcHJvZmlsZSB0eXBlIGV4aWYAAHjabU/bDQMhDPtnio4QkuDAONyVSt2g4zc8ehVVLREb5wWhvZ6PcOvgSEGTZRSAHFq0cHWRaWJypDLigPDKxd0PsS6/upW+CbTlH7tvmMz5ZxCtDdI3uBZdDe16wfA/C49VzzXnfZDQBsvX0//eVYyREE09KpMZiuscXDohMSXDAyfghRF3Jj2dG8y8DdYrpPbGDm62V7cAcePevyD9qFRnzMjTrSIjJhE+XMnI9u+8AVFKWrqOYS4uAAAACXBIWXMAABJ0AAASdAHeZh94AAAAPHRFWHRTb2Z0d2FyZQBDcmVhdGVkIHdpdGggdGhlIFdvbGZyYW0gTGFuZ3VhZ2UgOiB3d3cud29sZnJhbS5jb21coqaFAAAAIXRFWHRDcmVhdGlvbiBUaW1lADIwMjQ6MDY6MDYgMjA6MzA6NTP9LhHKAAACaklEQVRIie1WMc/pYBR+vptvFWlsHTqoRSLpwC+wVAwWEsRiEOEPIFbTa7AhEoNBgsQq0cWikQhDOxloIwYT+hN6hyZulU9Krstwn6E5Oe/peZ/3nJNzzpeu6/g8/Ho3gdv4T+sRfN/UiqI4m80MmWGYRCLxDykBwJel5GVZjkajiqKcNTzPj8djs42qqvv93pC9Xq/L5XriYlEUDcHhcHAcZzm1RqtYLCqKwrJsNps1NAzDWGyGw+FkMgkGgwBomn6OlpGN7Xarqqrl2QCgXwIAy7KHw0H/GYQQQsgdA/uYTqc8z1/rL6KlqioAj8fzXABkWRYEAUChUDDr+/3+brfz+XzhcNimq+/zb0ZIAWw2m2q1eraIxWJut9uOL47jMpnMcrk0MxNFMZlMUhS1Xq9tcgIAXdd5nr9jMJ1O7SdRkiSKogBIkqTr+uFwYFkWwGg0ejiJ6XTaqN/tdttsNs31DoCmafuP5Diu0Wgkk8lMJrNYLGq1mqIo5XLZfvr+RMvMHcBN+jajZSAejwMwvoFA4I7lT9F6SZev1+ssyw4GA4qiBoPBEx5eNXxOpxMATdPOjfchvIRWKpXSNK3X6wGIRCLH4/FRD3+fVrVaFQQhn88nEglCiKZpqVTqzbREUSwWixRFVSoVAIVCIRAICILQarXeRut4PEYiEQDdbvc8J9rtNoBcLifLsn1XF8OHpmlCyPVston5fF4qlZxOp7lLcRzX6/V2u91qtbreFGzRcrvdlnH2EMLh8M22+cS69qHb6YfSur003wfDMJ1OZzKZACCE2K8YM0KhkCH4/f7rU+vS/CH40CT+BjlBNjc5ZphDAAAAAElFTkSuQmCC\"></div><div class=\"grid-item\"><img alt=\"Output\" src=\"data:image/png;base64,iVBORw0KGgoAAAANSUhEUgAAADIAAAAaCAIAAAB6opi9AAAAzHpUWHRSYXcgcHJvZmlsZSB0eXBlIGV4aWYAAHjabU/bDQMhDPtnio4QkuDAONyVSt2g4zc8ehVVLREb5wWhvZ6PcOvgSEGTZRSAHFq0cHWRaWJypDLigPDKxd0PsS6/upW+CbTlH7tvmMz5ZxCtDdI3uBZdDe16wfA/C49VzzXnfZDQBsvX0//eVYyREE09KpMZiuscXDohMSXDAyfghRF3Jj2dG8y8DdYrpPbGDm62V7cAcePevyD9qFRnzMjTrSIjJhE+XMnI9u+8AVFKWrqOYS4uAAAACXBIWXMAABJ0AAASdAHeZh94AAAAPHRFWHRTb2Z0d2FyZQBDcmVhdGVkIHdpdGggdGhlIFdvbGZyYW0gTGFuZ3VhZ2UgOiB3d3cud29sZnJhbS5jb21coqaFAAAAIXRFWHRDcmVhdGlvbiBUaW1lADIwMjQ6MDY6MDYgMjA6MzA6NTP9LhHKAAACaklEQVRIie1WMc/pYBR+vptvFWlsHTqoRSLpwC+wVAwWEsRiEOEPIFbTa7AhEoNBgsQq0cWikQhDOxloIwYT+hN6hyZulU9Krstwn6E5Oe/peZ/3nJNzzpeu6/g8/Ho3gdv4T+sRfN/UiqI4m80MmWGYRCLxDykBwJel5GVZjkajiqKcNTzPj8djs42qqvv93pC9Xq/L5XriYlEUDcHhcHAcZzm1RqtYLCqKwrJsNps1NAzDWGyGw+FkMgkGgwBomn6OlpGN7Xarqqrl2QCgXwIAy7KHw0H/GYQQQsgdA/uYTqc8z1/rL6KlqioAj8fzXABkWRYEAUChUDDr+/3+brfz+XzhcNimq+/zb0ZIAWw2m2q1eraIxWJut9uOL47jMpnMcrk0MxNFMZlMUhS1Xq9tcgIAXdd5nr9jMJ1O7SdRkiSKogBIkqTr+uFwYFkWwGg0ejiJ6XTaqN/tdttsNs31DoCmafuP5Diu0Wgkk8lMJrNYLGq1mqIo5XLZfvr+RMvMHcBN+jajZSAejwMwvoFA4I7lT9F6SZev1+ssyw4GA4qiBoPBEx5eNXxOpxMATdPOjfchvIRWKpXSNK3X6wGIRCLH4/FRD3+fVrVaFQQhn88nEglCiKZpqVTqzbREUSwWixRFVSoVAIVCIRAICILQarXeRut4PEYiEQDdbvc8J9rtNoBcLifLsn1XF8OHpmlCyPVston5fF4qlZxOp7lLcRzX6/V2u91qtbreFGzRcrvdlnH2EMLh8M22+cS69qHb6YfSur003wfDMJ1OZzKZACCE2K8YM0KhkCH4/f7rU+vS/CH40CT+BjlBNjc5ZphDAAAAAElFTkSuQmCC\"></div></div></div>"
      ],
      "text/plain": [
       "f[x, y]\n",
       "f[x, y]\n",
       "f[x]\n",
       "f[x]\n",
       "f[x]"
      ]
     },
     "execution_count": 5,
     "metadata": {
      "text/html": [],
      "text/plain": []
     },
     "output_type": "execute_result"
    }
   ],
   "source": [
    "f[x, y]\n",
    "x~f~y\n",
    "\n",
    "f @ x (* очень высокий приоритет *)\n",
    "x // f (* очень низкий приоритет *)\n",
    "f[x]"
   ]
  },
  {
   "cell_type": "markdown",
   "metadata": {},
   "source": [
    "## Вычисление выражений"
   ]
  },
  {
   "cell_type": "markdown",
   "metadata": {},
   "source": [
    "Цель алгоритма - замена выражений. Работа алгоритма заключается в том, чтобы, постепенно заменяя выражения в определённом порядке, прийти к итоговому выражению, которое мы называем результатом вычисления. Суть ячейки вывода в том, что она повторяет написанное в ячейке ввода, только с учётом всех замен, сделанных алгоритмом."
   ]
  },
  {
   "cell_type": "code",
   "execution_count": 11,
   "metadata": {
    "vscode": {
     "languageId": "wolfram"
    }
   },
   "outputs": [
    {
     "data": {
      "text/html": [
       "<div><img alt=\"Output\" src=\"data:image/png;base64,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\"></div>"
      ],
      "text/plain": [
       "f[5][g[5], 7]"
      ]
     },
     "execution_count": 11,
     "metadata": {
      "text/html": [],
      "text/plain": []
     },
     "output_type": "execute_result"
    }
   ],
   "source": [
    "f[x][g[x], 7] (* сначала вычислится f, x, f[x], g, x, g[x], f[x][g[x], 7] *)"
   ]
  },
  {
   "cell_type": "code",
   "execution_count": 10,
   "metadata": {
    "vscode": {
     "languageId": "wolfram"
    }
   },
   "outputs": [
    {
     "data": {
      "text/html": [
       "<div><pre style=\"&#102;&#111;&#110;&#116;&#45;&#102;&#97;&#109;&#105;&#108;&#121;&#58;&#32;&#34;&#67;&#111;&#117;&#114;&#105;&#101;&#114;&#32;&#78;&#101;&#119;&#34;&#44;&#67;&#111;&#117;&#114;&#105;&#101;&#114;&#44;&#109;&#111;&#110;&#111;&#115;&#112;&#97;&#99;&#101;&#59;\">&#53;</pre></div>"
      ],
      "text/plain": [
       "5"
      ]
     },
     "execution_count": 10,
     "metadata": {
      "text/html": [],
      "text/plain": []
     },
     "output_type": "execute_result"
    }
   ],
   "source": [
    "x = 5"
   ]
  },
  {
   "cell_type": "code",
   "execution_count": 2,
   "metadata": {
    "vscode": {
     "languageId": "wolfram"
    }
   },
   "outputs": [],
   "source": [
    "x = 5;"
   ]
  },
  {
   "cell_type": "markdown",
   "metadata": {},
   "source": [
    "В исключительных случаях бывает так, что ячейка вывода даже не образуется. Это происходит тогда и только тогда, когда итоговым результатом вычисления выражения является символ Null"
   ]
  },
  {
   "cell_type": "code",
   "execution_count": 3,
   "metadata": {
    "vscode": {
     "languageId": "wolfram"
    }
   },
   "outputs": [
    {
     "data": {
      "text/html": [
       "<div><img alt=\"Output\" src=\"data:image/png;base64,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\"></div>"
      ],
      "text/plain": [
       "CompoundExpression[Set[x, 5], Null]"
      ]
     },
     "execution_count": 3,
     "metadata": {
      "text/html": [],
      "text/plain": []
     },
     "output_type": "execute_result"
    }
   ],
   "source": [
    "HoldForm[FullForm[x = 5;]]"
   ]
  },
  {
   "cell_type": "code",
   "execution_count": 4,
   "metadata": {
    "vscode": {
     "languageId": "wolfram"
    }
   },
   "outputs": [],
   "source": [
    "Null"
   ]
  },
  {
   "cell_type": "markdown",
   "metadata": {},
   "source": [
    "## Алгоритм вычисления выражения"
   ]
  },
  {
   "cell_type": "code",
   "execution_count": null,
   "metadata": {
    "vscode": {
     "languageId": "plaintext"
    }
   },
   "outputs": [],
   "source": [
    "|                                     [--------------]                                     |\n",
    "|                 /------------------→|    НАЧАЛО    |                                     |\n",
    "|                 |                   [--------------]                                     |\n",
    "|                 |                          🠗                                             |\n",
    "|                 |                   /--------------\\                                     |\n",
    "|                 |                   | Элементарное |                                     |\n",
    "|                 |        да /-------|  выражение ? |-------\\ нет                         |\n",
    "|                 |           |       \\--------------/       |                             |\n",
    "|\t\t\t\t\t        |           🠗 \t\t\t\t\t                    🠗                             |\n",
    "|                 |     /--------------\\             (--------------)                      |\n",
    "|                 |     |   Символ ?   |-----\\ нет   |  Вычисление  |                      |\n",
    "|                 |     \\--------------/     |       |    головы    |                      |\n",
    "|                 |         да /     \\ нет   |       | и аргументов |                      |\n",
    "|                 |            |      \\------|       | от атрибутов |                      |\n",
    "|                 |            🠗             |       (--------------)                      |\n",
    "|                 |     /--------------\\     |              |                              |\n",
    "|                 |     |   Правила ?  |←----+--------------/                              |\n",
    "|                 |     \\--------------/     |                                             |\n",
    "|                 |    подошли /     \\ нет   |                                             |\n",
    "|                 |            |      \\------|                                             |\n",
    "|                 |            🠗             |                                             |\n",
    "|                 |     (--------------)     |                                             |\n",
    "|                 \\-----|  Применение  |     |                                             |\n",
    "|                       |    правил    |     |                                             |\n",
    "|                       (--------------)     |                                             |\n",
    "|                                            🠗                                             |\n",
    "|                                     [--------------]                                     |\n",
    "|                                     |    КОНЕЦ     |                                     |\n",
    "|                                     [--------------]                                     |"
   ]
  },
  {
   "cell_type": "markdown",
   "metadata": {},
   "source": [
    "## Изменение порядка вычисления. Аттрибуты символов"
   ]
  },
  {
   "cell_type": "code",
   "execution_count": 5,
   "metadata": {
    "vscode": {
     "languageId": "wolfram"
    }
   },
   "outputs": [
    {
     "data": {
      "text/html": [
       "<div><img alt=\"Output\" src=\"data:image/png;base64,iVBORw0KGgoAAAANSUhEUgAAAHkAAAAaCAIAAAAc+GTqAAAAzXpUWHRSYXcgcHJvZmlsZSB0eXBlIGV4aWYAAHjabU/tbUQhDPvPFB0hJMGBcXh3nNQNOn7Ng7aiOkvExvmApPH1+UofE5oleYmKBgjhzZt2iioLi7O0O96ItnP59FPu2++0yl8CY/vX6QcWa/03SHQJmy9Qm++GPch0+T8PXrtee63nIJMDUX+//vbuFoqCHM7oKhFo1DVRklBUSuCFB8DCjKeKP8gDEWxDzArrs3FCR5zVI8FoPOcKNo9bJ+OOwVauTJ3NtnMxLj3X+QZhe1rFJX5AwAAAAAlwSFlzAAASdAAAEnQB3mYfeAAAADx0RVh0U29mdHdhcmUAQ3JlYXRlZCB3aXRoIHRoZSBXb2xmcmFtIExhbmd1YWdlIDogd3d3LndvbGZyYW0uY29tXKKmhQAAACF0RVh0Q3JlYXRpb24gVGltZQAyMDI0OjA2OjA3IDAxOjEzOjA35NG67wAABDtJREFUaIHtmr9L80AYx5/3xVVL6NYhhOoiCBUsHWodLJRUZ6VVFycl/QNarDgpxRTnFp1chAwFJ8Eo1CGx1NLBgOLUEBw6GULwD+g7HO81b9LWpL237/vy9jOl9+u5+97d81wu/dbpdGDCWPj+pzvwHzHRenxMtB4fU2Sbk2W5Vqvhn9FoNBaLfVlLVdVKpeKy8L/LFPQfKhLOkwS1Wi2Xy+GfPM+7qdtut3O5XM/Cqqq22230PD8/7/f7bQUURRFFEQBomk4kEs4CpHBjSJZl9DA9PR0KhWy5U9B/qEg4l3ohotEoz/MAoGlauVz2OJweVCqVarUaj8cBIBAIWEeoqmomk0HjR1AUVSqV0un06HatuDeE9rSmaaqq3t7e2nIJ+5BYLIYmRpZlIloDQDwez2azzvSzszNRFMPh8ObmJgBcXFy0Wq2tra1IJBIMBomY9moI9VOW5ZOTE2c7nrVWVbXRaLy/vwMAy7LOnTJEOz6fb4gWjo+Pt7e38Z7LZrNzc3OtVqtSqfScm6EhZcib1sVi0eqOc7kcy7JXV1deveTh4WGhUPBUxYnf77c5t729PWv3SEHKkAetsdAcxzEMo2maIAiiKO7s7Dh90wCQ0BRFpdNphmFM07y7u2s2m1677sQ0TXC9SxRFeXt7G865ezKE6WpdrVZtedYUXddPT08B4Pn5GfuN/f391dVVURQVRXHpTFRVRUI/PDzgKmtraysrK5767UTXdRQhEomEm/Kfn5/Ig/1uQ5iu1qIoWkOtjaenJ8MwOI6zahoKhTiOKxQK9XrdpdaNRgMAbO0Q4ejoyDAMnufJBkaChrpasyyLjlaYarWK1X95eQEAhmFs9ZeXl+HnnnIDWkqoFkEymUy5XOY4jmxUJGuoq3XPo9WAlT4KMzMzBFvD4y+VSoNLKoqCY5qu64ZhYD+5u7v7pe92b6gnbmMjTdMAoGmaLf3x8RHnuuf19dUa2a2v9V7xNP5QKITDOHordr88RxQa3N89RSIRABAEQVEUnKgoCooSKNcNCwsLAHB9fY1Tzs/Phzuo6bqeTqdHHP84Dbld18FgkOO4crm8uLhoPfMZhpHP53GUKBaL6AHtALxDaZpGO3R9fX12dlYUxWQyGY/HUUgIh8NDnPmSyWSz2aQoimEYbBexsbFBMEISM9TpdCRJAgCe5zu/gm42cPrHx0cqlbJVz+fz1ir9rLAsi8tIkkRRFM5KpVI3Nzc9O4D60DN98OckSZJ6VrEiSVK/lkc0JEmSdbyYKQAIBAI8z0ejUVtD6CIJp/v9fkEQDg4O6vW6aZo+ny+RSNhmFU2PE6tDj8VizWbz/v7eNE18idizA4PpZwuN6Mvq+Ormdxvq4mZi/yAD1vVfS791PfkuMz4mWo8PwvfXxKFp+vLyEp1neJ4n/mZPlmQyiR6Wlpacud86k/+HjIuJDxkfPwDPJ17AZZygmwAAAABJRU5ErkJggg==\"></div>"
      ],
      "text/plain": [
       "Hold[2 + 2]"
      ]
     },
     "execution_count": 5,
     "metadata": {
      "text/html": [],
      "text/plain": []
     },
     "output_type": "execute_result"
    }
   ],
   "source": [
    "Hold[2+2]"
   ]
  },
  {
   "cell_type": "code",
   "execution_count": 6,
   "metadata": {
    "vscode": {
     "languageId": "wolfram"
    }
   },
   "outputs": [
    {
     "data": {
      "text/html": [
       "<div><img alt=\"Output\" src=\"data:image/png;base64,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\"></div>"
      ],
      "text/plain": [
       "{HoldAll, Protected}"
      ]
     },
     "execution_count": 6,
     "metadata": {
      "text/html": [],
      "text/plain": []
     },
     "output_type": "execute_result"
    }
   ],
   "source": [
    "Attributes[Hold]"
   ]
  },
  {
   "cell_type": "code",
   "execution_count": 8,
   "metadata": {
    "vscode": {
     "languageId": "wolfram"
    }
   },
   "outputs": [
    {
     "data": {
      "text/html": [
       "<style>\n",
       "\t\t\t\t\t\t\t\t\t\t\t\t\t.grid-container {\n",
       "\t\t\t\t\t\t\t\t\t\t\t\t\t\tdisplay: inline-grid;\n",
       "\t\t\t\t\t\t\t\t\t\t\t\t\t\tgrid-template-columns: auto;\n",
       "\t\t\t\t\t\t\t\t\t\t\t\t\t}\n",
       "\t\t\t\t\t\t\t\t\t\t\t\t</style>\n",
       "\n",
       "\t\t\t\t\t\t\t\t\t\t\t\t<div><div class=\"grid-container\"><div class=\"grid-item\"><img alt=\"Output\" src=\"data:image/png;base64,iVBORw0KGgoAAAANSUhEUgAAAIYAAAAaCAIAAAD9v7P+AAAA0HpUWHRSYXcgcHJvZmlsZSB0eXBlIGV4aWYAAHjabY/bbUQhDET/qSIlGNuMoRzuLiulg5Sf4UISEa0l7OH4AU7j6/OVPqZpluQlKhogNG/etFNUWbZilnb7hbBz+eQp9807UflLYGx+nTz2IK3/BokuYfMFavPdsAeZLv7z4LXrtdd6DjI5LOrv19/e3UJRkMPpXSUCjbomSgYUlRJ44QGwMOOp4g/GgQi2IWaF9dk4TUec1SPBCJ5zBZvHrTPi9sFWrkydb66W9SKxOzvX+QZeZFrA/u0vpAAAAAlwSFlzAAASdAAAEnQB3mYfeAAAADx0RVh0U29mdHdhcmUAQ3JlYXRlZCB3aXRoIHRoZSBXb2xmcmFtIExhbmd1YWdlIDogd3d3LndvbGZyYW0uY29tXKKmhQAAACF0RVh0Q3JlYXRpb24gVGltZQAyMDI0OjA2OjA3IDAxOjE0OjIxolNF4QAAA8xJREFUaIHtmrFL60Acx3/v8Xap3RxCMdkcChoUpC6FEnEWrA7ipMQ/QEFwsoMXBDcTnESEtNBVoQgOJrhYSoodvSLOCRL9A/KG4NHXXOI1bdo+6Gdqc3e/fHvf313yO/rL8zyYME78HrWACd1MLBk7JpaMHX9GLeD/wDTNp6cn/zPHccViMcGbeSHYtm0YBrUJY6zretjAfrAsCyGEENJ13bZtliHJiSGSeJ7vnDFJkvrUY1kWxjislW6JLMuSJCGEqK2SJEV4GQ+MsR+WkEqlWOY6CTHB+DzPo2+iVbHo0XV9Y2NDkiRq2lEG397eyrLc5117RZZlABBF0f/ZJDEjsik5MZ34fjAu2Z70aJqmaVrwOuVZ0mq1MplM8Hq5XH5/fweA19dXAFAUpbP14OAgzr75zcnJydbWVi6XI9EEQcAYV6tVauRExRDa7TYACIKQTqeje8bQMzc3VyqV9vb2uhuCLvl5GuZ/GIxJxA5CCACiN8+ExOi67k+Cv3Y7dy2EEHXhxtBjGAb1sdTDG9fOzk4+nweAy8tLjLE/Zcnhui4ATE1NDV/M1dVVrVYjXzHGh4eH5Ovy8vLs7GxyenqwhLz5PTw8YIwHtTlQcRxHVVUAKBQKwxdD5vft7U1VVZ7nd3d3SevMzEyieuiWhOXm0Dg+Pv74+EAIBfNxCJD5NU1TVVVBEBLNvy4o1Xuj0QjLzeGwv7+vqqosy8OciOGTy+Ucx3Ecp+v6P5Y0m83p6ent7e2R5KYP8ePi4mJUGoZGpVJZWloql8udF/+xJJvN3tzcXF9fB60LwtKnV2L7kYSYfmDUc3Z2ViqVuo5nujeutbW1+fn5+/v7H8NF9zFNU1EU/72eBcdxisVi7PXxo+Be9fQJywQ2m812ux08LqM/3v2qJ4x8Pl+r1TY3Nx8fH0lR2bXvr6ysAMDp6Wm9XmfZBldXV+v1eiqVymQyXXXW+vp6RAQWMTH0xIZRDwB8fX3RQwRLlbBSkWDbtiiK0XFIB+qZQZCIHxl2+skuJoYeH8Mw4Kdzxnh6vIGUioR0Ov38/Hx3d9dqtcL6nJ+f+4nJSERtRa0DehITQw+5NUKI4zj2IYx6ogi69OMqYUHTND++ZVl9hhoI46bH62mVcBz38vIS02EARVEajUalUgEAWZaz2WzsUANh3PQQPj8/FxYWKA1Bl2zbliRJ07ToTTwMEvno6CjG8IEzbno8z7MsS9d1URSpS/aXR3u0Oo5TrVZd141RPyuKwnHc4uLiCOvNTsZNDwCUy2XXdQuFAlUS3ZIJI2TyD5Wx4y/yEsfjSbi/bgAAAABJRU5ErkJggg==\"></div><div class=\"grid-item\"><img alt=\"Output\" src=\"data:image/png;base64,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\"></div></div></div>"
      ],
      "text/plain": [
       "{t, 2 t, f t}\n",
       "{Flat, Listable, NumericFunction, OneIdentity, Orderless, Protected}"
      ]
     },
     "execution_count": 8,
     "metadata": {
      "text/html": [],
      "text/plain": []
     },
     "output_type": "execute_result"
    }
   ],
   "source": [
    "{1, 2, f}*t\n",
    "1*f[u]\n",
    "Attributes[Times] (* всё из-за OneIdentity *)"
   ]
  },
  {
   "cell_type": "code",
   "execution_count": 11,
   "metadata": {
    "vscode": {
     "languageId": "wolfram"
    }
   },
   "outputs": [
    {
     "data": {
      "text/html": [
       "<style>\n",
       "\t\t\t\t\t\t\t\t\t\t\t\t\t.grid-container {\n",
       "\t\t\t\t\t\t\t\t\t\t\t\t\t\tdisplay: inline-grid;\n",
       "\t\t\t\t\t\t\t\t\t\t\t\t\t\tgrid-template-columns: auto;\n",
       "\t\t\t\t\t\t\t\t\t\t\t\t\t}\n",
       "\t\t\t\t\t\t\t\t\t\t\t\t</style>\n",
       "\n",
       "\t\t\t\t\t\t\t\t\t\t\t\t<div><div class=\"grid-container\"><div class=\"grid-item\"><img alt=\"Output\" src=\"data:image/png;base64,iVBORw0KGgoAAAANSUhEUgAAAFYAAAAaCAIAAACirjy3AAAAznpUWHRSYXcgcHJvZmlsZSB0eXBlIGV4aWYAAHjabU9bjgMhDPvnFHuEkAQHjsO0VNob7PHXzNBWVLVEbJwHJI2/30f6mdAsyUtUNEAIb960U1S5cHGWdsYTBSuXdz/lvvxOq7wTGMs/dj/WIK0fg0QvYfMFavPVsAaZXv7zwWPVa691H2SyIerr61/vbqEoyOGMrhKBRl0TJQlFpQQeuAEszLir+I08EME2xKywPhsndMRePRKMxn2uYPO4dTLOGGzlytS6outBx87sXOcfWfxavh2nM9UAAAAJcEhZcwAAEnQAABJ0Ad5mH3gAAAA8dEVYdFNvZnR3YXJlAENyZWF0ZWQgd2l0aCB0aGUgV29sZnJhbSBMYW5ndWFnZSA6IHd3dy53b2xmcmFtLmNvbVyipoUAAAAhdEVYdENyZWF0aW9uIFRpbWUAMjAyNDowNjowNyAwMToyMToyNKJHO4wAAAOtSURBVFiF7VkxS+tQFD7v4apFunUIoXERhAqKQ4yDAUlVcLVgcTSEbg4G4yRqMf0DxUHoIiRQEBzEKMTBWGrpYEE3DcGhWwz5BX3DhWtI2rykBnzw+k0399xzes93z7nnJP3V6/Xg/8bvn97Az2NEwYgCgLFkzRmG0Wg08CNN0wzD/FXLNM16vR5xceIYC9kB8ifWzhqNhiiK+FGW5Si63W5XFMW+i03T7Ha7aDw9PZ1Op/tasG37/PwcAAiCKBQKPqlhGGgwPj6ey+V80rGQHSB/IrqBQNO0LMsAYFlWtVqNqBWCer2u6zrLsgCQyWQGUVAqlVRVBQCO44IUoMC0LMs0zZubG5804URgGAbxZRhGIhQAAMuye3t7IQuur69VVZ2fn2+3230XIHXDMI6Pj4PS2BSYptlqtT4+PgCA47hgXA1hJ5VKDWcEAGzbLhaLFEUdHh6ur68PYSEeBZVKxZvqoihyHHdxcTEoPgfh4OCgXC7HUhmEUqnkOM7V1dXQFmJQgP0XBIEkScuyFEXRNG1rayuYYCFA/k9OThYKBZIkXde9vb0dFMPhQCkgSRLDMPjOi4svCnRd98m8M7Ztn56eAsDz8zMOfp7nl5eXNU3rdDoRM8I0TeT//f09VlldXV1aWoq7dZwCu7u7cXW9+KJA0zRN0wate3p6chxHEASvq7lcThCEcrncbDYjUtBqtQDAZ2c44BSIm4Y+fFHAcRyqPRi6rmNSXl5eAIAkSZ/+4uIiALiuG/H30P2HtL4DlAKxCvYgfFHQt/aExMV3MDEx8U0LxWIRDSqVChpYlgUAb29vaCa8jnoR9TokCAL/jBePj49YGh2vr6/e0/P21BHhOA4AeMsTwvv7O5pMnoKFhQUAUBSF53mcxp1OB/U/SBoFMzMzAHB5ecnzPJo5OzsLevJXoB7UC9SPUhS1s7MTy1RUCrLZrCAI1Wp1dnbWWxQdx5EkKZvNomW+sMQ1Bbfua2trFEVpmpbP51mWRddNSGM3CMFDRv3o1NRU9PNHiNEXHB0dfX5+qqrq7XwlSTo5OcGPvvPEVcbbutdqtY2NDSza3Nzc3t4errFLBGMAkMlkZFmmadonQ+88eD6dTiuKsr+/32w2XddNpVIrKyv4/BGC8YngvSwYhmm323d3d67r4tfQvhuIBeRF3FsJAKD3b0OWZVmWEzH18PDAcVxwfvTVaPThLPHvBYmDIIharYYqiyzLw7XV+XweDebm5oLSX73R/wg/vYGfxx+3OLoAg/l3AQAAAABJRU5ErkJggg==\"></div><div class=\"grid-item\"><img alt=\"Output\" src=\"data:image/png;base64,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\"></div></div></div>"
      ],
      "text/plain": [
       "Hold[4]\n",
       "HoldComplete[Evaluate[2 + 2]]"
      ]
     },
     "execution_count": 11,
     "metadata": {
      "text/html": [],
      "text/plain": []
     },
     "output_type": "execute_result"
    }
   ],
   "source": [
    "Hold[Evaluate[2+2]]\n",
    "HoldComplete[Evaluate[2+2]]"
   ]
  },
  {
   "cell_type": "code",
   "execution_count": 21,
   "metadata": {
    "vscode": {
     "languageId": "wolfram"
    }
   },
   "outputs": [
    {
     "data": {
      "text/html": [
       "<style>\n",
       "\t\t\t\t\t\t\t\t\t\t\t\t\t.grid-container {\n",
       "\t\t\t\t\t\t\t\t\t\t\t\t\t\tdisplay: inline-grid;\n",
       "\t\t\t\t\t\t\t\t\t\t\t\t\t\tgrid-template-columns: auto;\n",
       "\t\t\t\t\t\t\t\t\t\t\t\t\t}\n",
       "\t\t\t\t\t\t\t\t\t\t\t\t</style>\n",
       "\n",
       "\t\t\t\t\t\t\t\t\t\t\t\t<div><div class=\"grid-container\"><div class=\"grid-item\"><img alt=\"Output\" src=\"data:image/png;base64,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\"></div><div class=\"grid-item\"><img alt=\"Output\" src=\"data:image/png;base64,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\"></div></div></div>"
      ],
      "text/plain": [
       "-Graphics-\n",
       "{HoldAll, Protected, ReadProtected}"
      ]
     },
     "execution_count": 21,
     "metadata": {
      "text/html": [],
      "text/plain": []
     },
     "output_type": "execute_result"
    }
   ],
   "source": [
    "Plot[x Boole[OddQ[Floor[15 x]]] + Sin[x], {x, 0, Pi}]\n",
    "Attributes[Plot]"
   ]
  }
 ],
 "metadata": {
  "kernelspec": {
   "display_name": "Wolfram Language 14",
   "language": "Wolfram Language",
   "name": "wolframlanguage14"
  },
  "language_info": {
   "codemirror_mode": "mathematica",
   "file_extension": ".m",
   "mimetype": "application/vnd.wolfram.m",
   "name": "Wolfram Language",
   "pygments_lexer": "mathematica",
   "version": "12.0"
  }
 },
 "nbformat": 4,
 "nbformat_minor": 2
}
