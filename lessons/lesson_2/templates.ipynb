{
 "cells": [
  {
   "cell_type": "markdown",
   "metadata": {
    "vscode": {
     "languageId": "wolfram"
    }
   },
   "source": [
    "# Шаблоны"
   ]
  },
  {
   "cell_type": "markdown",
   "metadata": {},
   "source": [
    "Шаблон - выражение определённой формы, задающее правило, по которому про любое выражение можно сказать, соответствует ли оно этому шаблону или нет."
   ]
  },
  {
   "cell_type": "markdown",
   "metadata": {},
   "source": [
    "## Точные шаблоны"
   ]
  },
  {
   "cell_type": "markdown",
   "metadata": {},
   "source": [
    "Это шаблоны, состоящие только из обычных выражений, и не используют собственно шаблонные конструкции. Т.е. любое обычное выражение может быть шаблоном, но это будет точный шаблон."
   ]
  },
  {
   "cell_type": "code",
   "execution_count": 1,
   "metadata": {
    "vscode": {
     "languageId": "wolfram"
    }
   },
   "outputs": [
    {
     "data": {
      "text/html": [
       "<style>\n",
       "\t\t\t\t\t\t\t\t\t\t\t\t\t.grid-container {\n",
       "\t\t\t\t\t\t\t\t\t\t\t\t\t\tdisplay: inline-grid;\n",
       "\t\t\t\t\t\t\t\t\t\t\t\t\t\tgrid-template-columns: auto;\n",
       "\t\t\t\t\t\t\t\t\t\t\t\t\t}\n",
       "\t\t\t\t\t\t\t\t\t\t\t\t</style>\n",
       "\n",
       "\t\t\t\t\t\t\t\t\t\t\t\t<div><div class=\"grid-container\"><div class=\"grid-item\"><img alt=\"Output\" src=\"data:image/png;base64,iVBORw0KGgoAAAANSUhEUgAAAGwAAAAaCAIAAADdfy5GAAAAzHpUWHRSYXcgcHJvZmlsZSB0eXBlIGV4aWYAAHjabU9BjgMhDLvzij4hJMGB5zAzVNof7PObDOyqVLVEbEwcII3fn2d6BDhT0mIVDSCHNm3cXVSamJyp3fUGznWWdz/lvvzuVnkLjOUfu2+YzPVjEPEUEje4Fl2BNUh4+n8XHqufe637IKENVv+f/nWvYoyCbOpVmczQXNfk0gmFqRieOAFvzLiY9HQeMPMYLDqkRzDAw/bukSBuXPEFiaXSnXFX82h4odtyDq9y6/jOC55jWvQQ4AZJAAAACXBIWXMAABJ0AAASdAHeZh94AAAAPHRFWHRTb2Z0d2FyZQBDcmVhdGVkIHdpdGggdGhlIFdvbGZyYW0gTGFuZ3VhZ2UgOiB3d3cud29sZnJhbS5jb21coqaFAAAAIXRFWHRDcmVhdGlvbiBUaW1lADIwMjQ6MDY6MDcgMDI6MDk6MDeH5GmmAAAC70lEQVRoge2ZPWvqUBzG/724igS3DEESF8Ei1IogXSqUFNc6xM1JrR+gKf0AldMvEFo6ZGsEoeBkKujQICKhIDiaEDp00rZ+Au9wuLkae/uSph69+JtOHg4nD0/Oe7am0yls+B6/SBv4H9iE6AGbED3A96aqaVqn08FlhmEEQViipfVjy7Gw9Pv9o6MjwzBshef5RqMxW8c0zaenJ1yORCLBYNDduzVNwwW/3x+Lxdw18j7LsersiaIoGobBcVyhUMAKwzCOOrVardVqpdNpAKBp2rUz3NktyzJN0/GdvGJJVqfzAADHcaPRaPpvEEIIoXcqfIn7+3ue571qzcFyrM71RNM0ASAcDrv+Ysuh3+93u93JZDIrEpy7fQCgKMrj4yMAWJYFAMPh8OLiwq6RzWZZliVi7k3K5bIkSYs6z/MkQ5RlWVVVWzIMQxRF+zGVSq1OiJeXl5IkURQlCEIoFLIsCwd6dna2vb1NypUPAPL5PJ56safZVQUAaJomZW6R29tbAKjX63t7e1iJxWKlUikQCBDch/kAwH69pmmSJIXD4ZOTE1KGPoPf7ydtYY63N9srSzqdVlV1f3/fMZxTqRRBV2sWIs/zoii+vLzMri03Nzf26CbCmoUoiiLHcXd3d81mczKZBAKBg4MD4uvemoWoquru7i7LssVikbSXv6xZiBRF6bqeSCQSiUQoFMJiNBpNJpMEDwhrFmKlUimVSrqu67o+q1MU1W63f+gW40PmQqRpGiG0eOOwIozH4+vrawBACEWj0cFggPWrqyvDMCqViqIoRIzNhciy7CrvEGu1mq7rx8fH2GQmk8E6wzC5XO719ZWUMS+Hs6Iosiy/UyGfz3//XCFJ0vPz887ODn58eHioVqu48c834q1VL0MUBOFHz17ZbLbdblf/YOsURZ2enn7p1d5adRMiwzCyLLdaLQBACLmezg8PD3EhHo9/pn4wGFQU5fz8vNfr4Wsn+GhpXo5V5++BDS7Y/O3zgN9cjF7kXOMTAAAAAABJRU5ErkJggg==\"></div><div class=\"grid-item\"><img alt=\"Output\" src=\"data:image/png;base64,iVBORw0KGgoAAAANSUhEUgAAADwAAAAaCAIAAABka6gOAAAAy3pUWHRSYXcgcHJvZmlsZSB0eXBlIGV4aWYAAHjabU9bDsMgDPvnFDtCSIIDx6Etk3aDHX9JyzYxzRKxcV6QxvNxT7cAZ0parKIB5NCmjbuLShcuztTOeEL2mcurn3KffnerfBMY099W33Ax159BxHNTbHAtOhvmIOHLfy/cZj33WtdBQgusfp7+965ijIJs6lGZzNBc1+TSCYWpGO7YAS/MOJh0dx4w8zZYVEiPxgAPW6tHgrhxxBckjkp3xhnNW8ML3aazeZRTx3demfVa8c7UdbcAAAAJcEhZcwAAEnQAABJ0Ad5mH3gAAAA8dEVYdFNvZnR3YXJlAENyZWF0ZWQgd2l0aCB0aGUgV29sZnJhbSBMYW5ndWFnZSA6IHd3dy53b2xmcmFtLmNvbVyipoUAAAAhdEVYdENyZWF0aW9uIFRpbWUAMjAyNDowNjowNyAwMjowOTowN4fkaaYAAAMVSURBVFiF7VdBS+NAFH4ue7YMuYkEaa+CIqGFUC+BdqA/wKl4FIQevahUvEkgvXgzeOjVJuC14CDk0lC0eGjBa0Lw0FNKyS/IHmZ3HBOtRtzuCn6nmcn33rx88/LmZSGOY/hq+PGvA/gIvoOeF35+rjvXdfv9Pp+qqloulz93C+BB+75/dXWVfizLcr1ef7+7fr9/eHjIp4Zh/MWgx+OxuBkHxjhT0KqqGoYBAEEQmKb5KSGm8Sw9MMaapokrsixnclcul5m0ruvOKWhN0w4ODmYbjEaj29vbKIoAAGO8trb2sY1937+5uYmiKJfLVSqVfD4/gyPLcrFYfOLEcRzHca/XAwDDMOLX4XmeoigJvxjjMAzT5NkOG41Gwk+a2Ww2E5xOp8MeZage4/H4/v5eUZRqtZrL5aIoMk2TUtput988HxEXFxemaRYKBUII82PbtuM4opNWq6XrOucEQWBZ1vb29uLiYq1We6Y0xth4Ds/zRKWHw2FCe2aVSWmMMQD0er0En4/DMEQIKYoinuFwOAQAQkhSaUoppVRcUVWVZxIbiDn9MWiaRind398/OzvjBVGsjHd3d9PpVJKkdrstGiKEbNu2LOuN6rG0tMTHk8lkZ2cn8VYfwO7uruM4lNLNzU2WAFtbW+IH/fDwAC8pyJGhepycnFBKEUL1en1lZYUtvljdZ0OSpOvra9d1Ly8vLcvSdV3X9UajcX5+LtLSCj7hPR87A+Mn0hqy53QC3W4XIQQA3W6XrXQ6HQBoNpuvmWRumJaXl9lgMpkcHx9nNQcA13XFaa1WOzo6gj9ZAQDFYhEATNMcjUYveshQ8gqFgud5pVJpb2+P1aDpdJrgtFotNgiCAAAcx2FTsYc5PT0dDAbVanVjY4MxLcsCAFZVACCfzxNCbNteX18nhDAaw+8O7P2nyc+Rg7UZYnq89sIih1mJQAjxi4MhDENCSNoPi3CB7cS6vDc7SfFerVQqkiQxkbiKXOkEEt2i7/uDweDx8REAVldXS6WSJElpq3R5ZREuzJDnv8WX/HP5Dnpe+A56XvgFQ6ID74xuuNYAAAAASUVORK5CYII=\"></div><div class=\"grid-item\"><img alt=\"Output\" src=\"data:image/png;base64,iVBORw0KGgoAAAANSUhEUgAAADAAAAAaCAIAAAB+V0iAAAAAzXpUWHRSYXcgcHJvZmlsZSB0eXBlIGV4aWYAAHjabU9bDsMgDPvnFDsCJMGB49CWSrvBjr+kzTp1miVi47wgzddzTw8HlZykakMHskG6dBomWj5xcsn9iAc4Una/+amM8IdZ9ZvADH+5+4qTqf0MyhSbfINplmiIQUyn/1m4RD2N1u6DrrfGgHY9/e9dWAkVRcWiUFZFN92SSSNUylWxYwWssGCjLKvxhKq1Qb2Chzc6aOq9eiawGZt/gf0ID2McUa3VPdc9nMUiH9q/8wZO2lq+gfJEPQAAAAlwSFlzAAASdAAAEnQB3mYfeAAAADx0RVh0U29mdHdhcmUAQ3JlYXRlZCB3aXRoIHRoZSBXb2xmcmFtIExhbmd1YWdlIDogd3d3LndvbGZyYW0uY29tXKKmhQAAACF0RVh0Q3JlYXRpb24gVGltZQAyMDI0OjA2OjA3IDAyOjA5OjA3h+RppgAAAhhJREFUSIntVrGOqkAUvbuxlhB6CmgtjBoKYkWCJPzAaGOsKPwACz7ACD+AjbWQ+AMTExuJ0U4Sa0KMJQnhC9hiNrxZ2NXHZt218FTM3HOHM2dm7sxLlmXwSHj9awFFPAXdwsMJqgGA67rn8/krBs/z/X7/9xRlWaZp2hWCpmnZL6IGAKPRSFEU8vvNZoMx1jQt7+F5/t6m0KgBQGFFMMaKokwmkwI1DMPVaiXLcrfbDcNwvV6nadpoNHRdzzm2bQMAnUuyyuuej8DzvCRJgiC8BwqOWZYFAJZllc3cbrckRDg5EEI5pzwmySqsu2mahdkul8t/S1YJs9ksSRJRFA3DSNPUcRzP84bDIe3Tddi2PZ1ORVFECDEME0WR67qDwaBer+u6XtmhQnQ+n9M9Nx2K45hl2U6nE8dxzjkej7nTlR0yTZPeIqqqWpYly/J/ph8OhyRJOI5bLBZ0P8uynue5rltZEMMwdFMQhPL2v4LT6QQAGGOM8aeEyoJ+BHRZKeDugi6XC90kVa3dbn/l613usjAMyYfv++PxmA5JkgQAjuMEQfBp7g87hBDyPK/X6xmGEUWR4zgsy9IEQRAIp9lsIoRarVYeIiX3O4WxHKIPMK1AFEVypOnCGMcxQqg8GTLyS/bxCev7/m63exf7EfTVccUk+k5QVZXjONu2y1dHEAT7/T5N04JDRUF/jod7oD0F3cJT0C28AZb7PPHULbKeAAAAAElFTkSuQmCC\"></div><div class=\"grid-item\"><img alt=\"Output\" src=\"data:image/png;base64,iVBORw0KGgoAAAANSUhEUgAAADwAAAAaCAIAAABka6gOAAAAy3pUWHRSYXcgcHJvZmlsZSB0eXBlIGV4aWYAAHjabU9bDsMgDPvnFDtCSIIDx6Etk3aDHX9JyzYxzRKxcV6QxvNxT7cAZ0parKIB5NCmjbuLShcuztTOeEL2mcurn3KffnerfBMY099W33Ax159BxHNTbHAtOhvmIOHLfy/cZj33WtdBQgusfp7+965ijIJs6lGZzNBc1+TSCYWpGO7YAS/MOJh0dx4w8zZYVEiPxgAPW6tHgrhxxBckjkp3xhnNW8ML3aazeZRTx3demfVa8c7UdbcAAAAJcEhZcwAAEnQAABJ0Ad5mH3gAAAA8dEVYdFNvZnR3YXJlAENyZWF0ZWQgd2l0aCB0aGUgV29sZnJhbSBMYW5ndWFnZSA6IHd3dy53b2xmcmFtLmNvbVyipoUAAAAhdEVYdENyZWF0aW9uIFRpbWUAMjAyNDowNjowNyAwMjowOTowN4fkaaYAAAMVSURBVFiF7VdBS+NAFH4ue7YMuYkEaa+CIqGFUC+BdqA/wKl4FIQevahUvEkgvXgzeOjVJuC14CDk0lC0eGjBa0Lw0FNKyS/IHmZ3HBOtRtzuCn6nmcn33rx88/LmZSGOY/hq+PGvA/gIvoOeF35+rjvXdfv9Pp+qqloulz93C+BB+75/dXWVfizLcr1ef7+7fr9/eHjIp4Zh/MWgx+OxuBkHxjhT0KqqGoYBAEEQmKb5KSGm8Sw9MMaapokrsixnclcul5m0ruvOKWhN0w4ODmYbjEaj29vbKIoAAGO8trb2sY1937+5uYmiKJfLVSqVfD4/gyPLcrFYfOLEcRzHca/XAwDDMOLX4XmeoigJvxjjMAzT5NkOG41Gwk+a2Ww2E5xOp8MeZage4/H4/v5eUZRqtZrL5aIoMk2TUtput988HxEXFxemaRYKBUII82PbtuM4opNWq6XrOucEQWBZ1vb29uLiYq1We6Y0xth4Ds/zRKWHw2FCe2aVSWmMMQD0er0En4/DMEQIKYoinuFwOAQAQkhSaUoppVRcUVWVZxIbiDn9MWiaRind398/OzvjBVGsjHd3d9PpVJKkdrstGiKEbNu2LOuN6rG0tMTHk8lkZ2cn8VYfwO7uruM4lNLNzU2WAFtbW+IH/fDwAC8pyJGhepycnFBKEUL1en1lZYUtvljdZ0OSpOvra9d1Ly8vLcvSdV3X9UajcX5+LtLSCj7hPR87A+Mn0hqy53QC3W4XIQQA3W6XrXQ6HQBoNpuvmWRumJaXl9lgMpkcHx9nNQcA13XFaa1WOzo6gj9ZAQDFYhEATNMcjUYveshQ8gqFgud5pVJpb2+P1aDpdJrgtFotNgiCAAAcx2FTsYc5PT0dDAbVanVjY4MxLcsCAFZVACCfzxNCbNteX18nhDAaw+8O7P2nyc+Rg7UZYnq89sIih1mJQAjxi4MhDENCSNoPi3CB7cS6vDc7SfFerVQqkiQxkbiKXOkEEt2i7/uDweDx8REAVldXS6WSJElpq3R5ZREuzJDnv8WX/HP5Dnpe+A56XvgFQ6ID74xuuNYAAAAASUVORK5CYII=\"></div><div class=\"grid-item\"><img alt=\"Output\" src=\"data:image/png;base64,iVBORw0KGgoAAAANSUhEUgAAADAAAAAaCAIAAAB+V0iAAAAAzXpUWHRSYXcgcHJvZmlsZSB0eXBlIGV4aWYAAHjabU9bDsMgDPvnFDsCJMGB49CWSrvBjr+kzTp1miVi47wgzddzTw8HlZykakMHskG6dBomWj5xcsn9iAc4Una/+amM8IdZ9ZvADH+5+4qTqf0MyhSbfINplmiIQUyn/1m4RD2N1u6DrrfGgHY9/e9dWAkVRcWiUFZFN92SSSNUylWxYwWssGCjLKvxhKq1Qb2Chzc6aOq9eiawGZt/gf0ID2McUa3VPdc9nMUiH9q/8wZO2lq+gfJEPQAAAAlwSFlzAAASdAAAEnQB3mYfeAAAADx0RVh0U29mdHdhcmUAQ3JlYXRlZCB3aXRoIHRoZSBXb2xmcmFtIExhbmd1YWdlIDogd3d3LndvbGZyYW0uY29tXKKmhQAAACF0RVh0Q3JlYXRpb24gVGltZQAyMDI0OjA2OjA3IDAyOjA5OjA3h+RppgAAAhhJREFUSIntVrGOqkAUvbuxlhB6CmgtjBoKYkWCJPzAaGOsKPwACz7ACD+AjbWQ+AMTExuJ0U4Sa0KMJQnhC9hiNrxZ2NXHZt218FTM3HOHM2dm7sxLlmXwSHj9awFFPAXdwsMJqgGA67rn8/krBs/z/X7/9xRlWaZp2hWCpmnZL6IGAKPRSFEU8vvNZoMx1jQt7+F5/t6m0KgBQGFFMMaKokwmkwI1DMPVaiXLcrfbDcNwvV6nadpoNHRdzzm2bQMAnUuyyuuej8DzvCRJgiC8BwqOWZYFAJZllc3cbrckRDg5EEI5pzwmySqsu2mahdkul8t/S1YJs9ksSRJRFA3DSNPUcRzP84bDIe3Tddi2PZ1ORVFECDEME0WR67qDwaBer+u6XtmhQnQ+n9M9Nx2K45hl2U6nE8dxzjkej7nTlR0yTZPeIqqqWpYly/J/ph8OhyRJOI5bLBZ0P8uynue5rltZEMMwdFMQhPL2v4LT6QQAGGOM8aeEyoJ+BHRZKeDugi6XC90kVa3dbn/l613usjAMyYfv++PxmA5JkgQAjuMEQfBp7g87hBDyPK/X6xmGEUWR4zgsy9IEQRAIp9lsIoRarVYeIiX3O4WxHKIPMK1AFEVypOnCGMcxQqg8GTLyS/bxCev7/m63exf7EfTVccUk+k5QVZXjONu2y1dHEAT7/T5N04JDRUF/jod7oD0F3cJT0C28AZb7PPHULbKeAAAAAElFTkSuQmCC\"></div></div></div>"
      ],
      "text/plain": [
       "f[_] g[_]\n",
       "False\n",
       "True\n",
       "False\n",
       "True"
      ]
     },
     "execution_count": 1,
     "metadata": {
      "text/html": [],
      "text/plain": []
     },
     "output_type": "execute_result"
    }
   ],
   "source": [
    "f[_]*g[_]\n",
    "\n",
    "MatchQ[45, f[_]*g[_]]\n",
    "MatchQ[f[2]*g[7], f[_]*g[_]]\n",
    "MatchQ[f[2, 7]*g[7], f[_]*g[_]]\n",
    "MatchQ[f[2, 7]*g[7], f[__]*g[_]] (* __ - любая послед. ненулевых выражений *)"
   ]
  },
  {
   "cell_type": "markdown",
   "metadata": {},
   "source": [
    "Проверить, соответствует ли выражение шаблону, можно с помощью функции MatchQ. Первым аргументом у неё должно стоять выражение, для которого проверяется соответствие шаблону, а вторым - сам шаблон. MatchQ выдаёт символ True, если выражение подходит под шаблон, и символ False в противном случае."
   ]
  },
  {
   "cell_type": "code",
   "execution_count": 6,
   "metadata": {
    "vscode": {
     "languageId": "wolfram"
    }
   },
   "outputs": [
    {
     "data": {
      "text/html": [
       "<style>\n",
       "\t\t\t\t\t\t\t\t\t\t\t\t\t.grid-container {\n",
       "\t\t\t\t\t\t\t\t\t\t\t\t\t\tdisplay: inline-grid;\n",
       "\t\t\t\t\t\t\t\t\t\t\t\t\t\tgrid-template-columns: auto;\n",
       "\t\t\t\t\t\t\t\t\t\t\t\t\t}\n",
       "\t\t\t\t\t\t\t\t\t\t\t\t</style>\n",
       "\n",
       "\t\t\t\t\t\t\t\t\t\t\t\t<div><div class=\"grid-container\"><div class=\"grid-item\"><img alt=\"Output\" src=\"data:image/png;base64,iVBORw0KGgoAAAANSUhEUgAAADAAAAAaCAIAAAB+V0iAAAAAzXpUWHRSYXcgcHJvZmlsZSB0eXBlIGV4aWYAAHjabU9bDsMgDPvnFDsCJMGB49CWSrvBjr8EWKdOs0RsnBeE/nqe4eGgFINkLahANEiVSs1EiROTU6wjDvBK2f3mh9SW38zK3wT68re7r5hM5WdQpLXJN5hmWQ1rENP0Pwu3VU+tlPug661rQLme/vcurISMpGJRKKqimi7BpBEyxaw4sQNWmHBQlN24Q9XaoF7BzRsd1PVe3QPYjMO/wH6EmzFGVGt1z3WdkTaLPLR/5w1O+lrA3xuKhAAAAAlwSFlzAAASdAAAEnQB3mYfeAAAADx0RVh0U29mdHdhcmUAQ3JlYXRlZCB3aXRoIHRoZSBXb2xmcmFtIExhbmd1YWdlIDogd3d3LndvbGZyYW0uY29tXKKmhQAAACF0RVh0Q3JlYXRpb24gVGltZQAyMDI0OjA2OjA3IDAyOjA5OjA5YFxEoQAAAhhJREFUSIntVrGOqkAUvbuxlhB6CmgtjBoKYkWCJPzAaGOsKPwACz7ACD+AjbWQ+AMTExuJ0U4Sa0KMJQnhC9hiNrxZ2NXHZt218FTM3HOHM2dm7sxLlmXwSHj9awFFPAXdwsMJqgGA67rn8/krBs/z/X7/9xRlWaZp2hWCpmnZL6IGAKPRSFEU8vvNZoMx1jQt7+F5/t6m0KgBQGFFMMaKokwmkwI1DMPVaiXLcrfbDcNwvV6nadpoNHRdzzm2bQMAnUuyyuuej8DzvCRJgiC8BwqOWZYFAJZllc3cbrckRDg5EEI5pzwmySqsu2mahdkul8t/S1YJs9ksSRJRFA3DSNPUcRzP84bDIe3Tddi2PZ1ORVFECDEME0WR67qDwaBer+u6XtmhQnQ+n9M9Nx2K45hl2U6nE8dxzjkej7nTlR0yTZPeIqqqWpYly/J/ph8OhyRJOI5bLBZ0P8uynue5rltZEMMwdFMQhPL2v4LT6QQAGGOM8aeEyoJ+BHRZKeDugi6XC90kVa3dbn/l613usjAMyYfv++PxmA5JkgQAjuMEQfBp7g87hBDyPK/X6xmGEUWR4zgsy9IEQRAIp9lsIoRarVYeIiX3O4WxHKIPMK1AFEVypOnCGMcxQqg8GTLyS/bxCev7/m63exf7EfTVccUk+k5QVZXjONu2y1dHEAT7/T5N04JDRUF/jod7oD0F3cJT0C28AZb7PPHULbKeAAAAAElFTkSuQmCC\"></div><div class=\"grid-item\"><img alt=\"Output\" src=\"data:image/png;base64,iVBORw0KGgoAAAANSUhEUgAAADAAAAAaCAIAAAB+V0iAAAAAzXpUWHRSYXcgcHJvZmlsZSB0eXBlIGV4aWYAAHjabU9bDsMgDPvnFDsCJMGB49CWSrvBjr8EWKdOs0RsnBeE/nqe4eGgFINkLahANEiVSs1EiROTU6wjDvBK2f3mh9SW38zK3wT68re7r5hM5WdQpLXJN5hmWQ1rENP0Pwu3VU+tlPug661rQLme/vcurISMpGJRKKqimi7BpBEyxaw4sQNWmHBQlN24Q9XaoF7BzRsd1PVe3QPYjMO/wH6EmzFGVGt1z3WdkTaLPLR/5w1O+lrA3xuKhAAAAAlwSFlzAAASdAAAEnQB3mYfeAAAADx0RVh0U29mdHdhcmUAQ3JlYXRlZCB3aXRoIHRoZSBXb2xmcmFtIExhbmd1YWdlIDogd3d3LndvbGZyYW0uY29tXKKmhQAAACF0RVh0Q3JlYXRpb24gVGltZQAyMDI0OjA2OjA3IDAyOjA5OjA5YFxEoQAAAhhJREFUSIntVrGOqkAUvbuxlhB6CmgtjBoKYkWCJPzAaGOsKPwACz7ACD+AjbWQ+AMTExuJ0U4Sa0KMJQnhC9hiNrxZ2NXHZt218FTM3HOHM2dm7sxLlmXwSHj9awFFPAXdwsMJqgGA67rn8/krBs/z/X7/9xRlWaZp2hWCpmnZL6IGAKPRSFEU8vvNZoMx1jQt7+F5/t6m0KgBQGFFMMaKokwmkwI1DMPVaiXLcrfbDcNwvV6nadpoNHRdzzm2bQMAnUuyyuuej8DzvCRJgiC8BwqOWZYFAJZllc3cbrckRDg5EEI5pzwmySqsu2mahdkul8t/S1YJs9ksSRJRFA3DSNPUcRzP84bDIe3Tddi2PZ1ORVFECDEME0WR67qDwaBer+u6XtmhQnQ+n9M9Nx2K45hl2U6nE8dxzjkej7nTlR0yTZPeIqqqWpYly/J/ph8OhyRJOI5bLBZ0P8uynue5rltZEMMwdFMQhPL2v4LT6QQAGGOM8aeEyoJ+BHRZKeDugi6XC90kVa3dbn/l613usjAMyYfv++PxmA5JkgQAjuMEQfBp7g87hBDyPK/X6xmGEUWR4zgsy9IEQRAIp9lsIoRarVYeIiX3O4WxHKIPMK1AFEVypOnCGMcxQqg8GTLyS/bxCev7/m63exf7EfTVccUk+k5QVZXjONu2y1dHEAT7/T5N04JDRUF/jod7oD0F3cJT0C28AZb7PPHULbKeAAAAAElFTkSuQmCC\"></div><div class=\"grid-item\"><img alt=\"Output\" src=\"data:image/png;base64,iVBORw0KGgoAAAANSUhEUgAAADAAAAAaCAIAAAB+V0iAAAAAzXpUWHRSYXcgcHJvZmlsZSB0eXBlIGV4aWYAAHjabU9bDsMgDPvnFDsCJMGB49CWSrvBjr8EWKdOs0RsnBeE/nqe4eGgFINkLahANEiVSs1EiROTU6wjDvBK2f3mh9SW38zK3wT68re7r5hM5WdQpLXJN5hmWQ1rENP0Pwu3VU+tlPug661rQLme/vcurISMpGJRKKqimi7BpBEyxaw4sQNWmHBQlN24Q9XaoF7BzRsd1PVe3QPYjMO/wH6EmzFGVGt1z3WdkTaLPLR/5w1O+lrA3xuKhAAAAAlwSFlzAAASdAAAEnQB3mYfeAAAADx0RVh0U29mdHdhcmUAQ3JlYXRlZCB3aXRoIHRoZSBXb2xmcmFtIExhbmd1YWdlIDogd3d3LndvbGZyYW0uY29tXKKmhQAAACF0RVh0Q3JlYXRpb24gVGltZQAyMDI0OjA2OjA3IDAyOjA5OjA5YFxEoQAAAhhJREFUSIntVrGOqkAUvbuxlhB6CmgtjBoKYkWCJPzAaGOsKPwACz7ACD+AjbWQ+AMTExuJ0U4Sa0KMJQnhC9hiNrxZ2NXHZt218FTM3HOHM2dm7sxLlmXwSHj9awFFPAXdwsMJqgGA67rn8/krBs/z/X7/9xRlWaZp2hWCpmnZL6IGAKPRSFEU8vvNZoMx1jQt7+F5/t6m0KgBQGFFMMaKokwmkwI1DMPVaiXLcrfbDcNwvV6nadpoNHRdzzm2bQMAnUuyyuuej8DzvCRJgiC8BwqOWZYFAJZllc3cbrckRDg5EEI5pzwmySqsu2mahdkul8t/S1YJs9ksSRJRFA3DSNPUcRzP84bDIe3Tddi2PZ1ORVFECDEME0WR67qDwaBer+u6XtmhQnQ+n9M9Nx2K45hl2U6nE8dxzjkej7nTlR0yTZPeIqqqWpYly/J/ph8OhyRJOI5bLBZ0P8uynue5rltZEMMwdFMQhPL2v4LT6QQAGGOM8aeEyoJ+BHRZKeDugi6XC90kVa3dbn/l613usjAMyYfv++PxmA5JkgQAjuMEQfBp7g87hBDyPK/X6xmGEUWR4zgsy9IEQRAIp9lsIoRarVYeIiX3O4WxHKIPMK1AFEVypOnCGMcxQqg8GTLyS/bxCev7/m63exf7EfTVccUk+k5QVZXjONu2y1dHEAT7/T5N04JDRUF/jod7oD0F3cJT0C28AZb7PPHULbKeAAAAAElFTkSuQmCC\"></div><div class=\"grid-item\"><img alt=\"Output\" src=\"data:image/png;base64,iVBORw0KGgoAAAANSUhEUgAAADAAAAAaCAIAAAB+V0iAAAAAzXpUWHRSYXcgcHJvZmlsZSB0eXBlIGV4aWYAAHjabU9bDsMgDPvnFDsCJMGB49CWSrvBjr8EWKdOs0RsnBeE/nqe4eGgFINkLahANEiVSs1EiROTU6wjDvBK2f3mh9SW38zK3wT68re7r5hM5WdQpLXJN5hmWQ1rENP0Pwu3VU+tlPug661rQLme/vcurISMpGJRKKqimi7BpBEyxaw4sQNWmHBQlN24Q9XaoF7BzRsd1PVe3QPYjMO/wH6EmzFGVGt1z3WdkTaLPLR/5w1O+lrA3xuKhAAAAAlwSFlzAAASdAAAEnQB3mYfeAAAADx0RVh0U29mdHdhcmUAQ3JlYXRlZCB3aXRoIHRoZSBXb2xmcmFtIExhbmd1YWdlIDogd3d3LndvbGZyYW0uY29tXKKmhQAAACF0RVh0Q3JlYXRpb24gVGltZQAyMDI0OjA2OjA3IDAyOjA5OjA5YFxEoQAAAhhJREFUSIntVrGOqkAUvbuxlhB6CmgtjBoKYkWCJPzAaGOsKPwACz7ACD+AjbWQ+AMTExuJ0U4Sa0KMJQnhC9hiNrxZ2NXHZt218FTM3HOHM2dm7sxLlmXwSHj9awFFPAXdwsMJqgGA67rn8/krBs/z/X7/9xRlWaZp2hWCpmnZL6IGAKPRSFEU8vvNZoMx1jQt7+F5/t6m0KgBQGFFMMaKokwmkwI1DMPVaiXLcrfbDcNwvV6nadpoNHRdzzm2bQMAnUuyyuuej8DzvCRJgiC8BwqOWZYFAJZllc3cbrckRDg5EEI5pzwmySqsu2mahdkul8t/S1YJs9ksSRJRFA3DSNPUcRzP84bDIe3Tddi2PZ1ORVFECDEME0WR67qDwaBer+u6XtmhQnQ+n9M9Nx2K45hl2U6nE8dxzjkej7nTlR0yTZPeIqqqWpYly/J/ph8OhyRJOI5bLBZ0P8uynue5rltZEMMwdFMQhPL2v4LT6QQAGGOM8aeEyoJ+BHRZKeDugi6XC90kVa3dbn/l613usjAMyYfv++PxmA5JkgQAjuMEQfBp7g87hBDyPK/X6xmGEUWR4zgsy9IEQRAIp9lsIoRarVYeIiX3O4WxHKIPMK1AFEVypOnCGMcxQqg8GTLyS/bxCev7/m63exf7EfTVccUk+k5QVZXjONu2y1dHEAT7/T5N04JDRUF/jod7oD0F3cJT0C28AZb7PPHULbKeAAAAAElFTkSuQmCC\"></div></div></div>"
      ],
      "text/plain": [
       "True\n",
       "True\n",
       "True\n",
       "True"
      ]
     },
     "execution_count": 6,
     "metadata": {
      "text/html": [],
      "text/plain": []
     },
     "output_type": "execute_result"
    }
   ],
   "source": [
    "MatchQ[4*8, _]\n",
    "MatchQ[f, _]\n",
    "\n",
    "MatchQ[h[5], _[_]]\n",
    "MatchQ[h[5], _]"
   ]
  },
  {
   "cell_type": "code",
   "execution_count": 10,
   "metadata": {
    "vscode": {
     "languageId": "wolfram"
    }
   },
   "outputs": [
    {
     "data": {
      "text/html": [
       "<style>\n",
       "\t\t\t\t\t\t\t\t\t\t\t\t\t.grid-container {\n",
       "\t\t\t\t\t\t\t\t\t\t\t\t\t\tdisplay: inline-grid;\n",
       "\t\t\t\t\t\t\t\t\t\t\t\t\t\tgrid-template-columns: auto;\n",
       "\t\t\t\t\t\t\t\t\t\t\t\t\t}\n",
       "\t\t\t\t\t\t\t\t\t\t\t\t</style>\n",
       "\n",
       "\t\t\t\t\t\t\t\t\t\t\t\t<div><div class=\"grid-container\"><div class=\"grid-item\"><img alt=\"Output\" src=\"data:image/png;base64,iVBORw0KGgoAAAANSUhEUgAAADAAAAAaCAIAAAB+V0iAAAAAz3pUWHRSYXcgcHJvZmlsZSB0eXBlIGV4aWYAAHjabU9bEgIhDPvnFB4B2pLCcVjFGW/g8U13UWcdM0MT0hek+Xzc0yUgJSer3tCBTFi3LoOi5QMHl9z3uENXiveTn8pY/qBVvwnM5W9n33GwtJ9BWdam2ECtthrWIJXDfy/cVr2M1s6DPm9dA9rn6X/vpi6oKG6MJtkdnbolShKq5Oq44wqwsOAm2a7kCXe2waNCRzQGZPq5eiYojVt8QeOYDjL26GwNL3RnLFpko9bdie+8AE6MWrmYrpq/AAAACXBIWXMAABJ0AAASdAHeZh94AAAAPHRFWHRTb2Z0d2FyZQBDcmVhdGVkIHdpdGggdGhlIFdvbGZyYW0gTGFuZ3VhZ2UgOiB3d3cud29sZnJhbS5jb21coqaFAAAAIXRFWHRDcmVhdGlvbiBUaW1lADIwMjQ6MDY6MDcgMDI6MDk6MTF3nP3SAAACGElEQVRIie1WsY6qQBS9u7GWEHoKaC2MGgpiRYIk/MBoY6wo/AALPsAIP4CNtZD4AxMTG4nRThJrQowlCeEL2GI2vFnY1cdm3bXwVMzcc4czZ2buzEuWZfBIeP1rAUU8Bd3CwwmqAYDruufz+SsGz/P9fv/3FGVZpmnaFYKmadkvogYAo9FIURTy+81mgzHWNC3v4Xn+3qbQqAFAYUUwxoqiTCaTAjUMw9VqJctyt9sNw3C9Xqdp2mg0dF3PObZtAwCdS7LK656PwPO8JEmCILwHCo5ZlgUAlmWVzdxutyREODkQQjmnPCbJKqy7aZqF2S6Xy39LVgmz2SxJElEUDcNI09RxHM/zhsMh7dN12LY9nU5FUUQIMQwTRZHruoPBoF6v67pe2aFCdD6f0z03HYrjmGXZTqcTx3HOOR6PudOVHTJNk94iqqpaliXL8n+mHw6HJEk4jlssFnQ/y7Ke57muW1kQwzB0UxCE8va/gtPpBAAYY4zxp4TKgn4EdFkp4O6CLpcL3SRVrd1uf+XrXe6yMAzJh+/74/GYDkmSBACO4wRB8GnuDzuEEPI8r9frGYYRRZHjOCzL0gRBEAin2WwihFqtVh4iJfc7hbEcog8wrUAURXKk6cIYxzFCqDwZMvJL9vEJ6/v+brd7F/sR9NVxxST6TlBVleM427bLV0cQBPv9Pk3TgkNFQX+Oh3ugPQXdwlPQLbwBlvs88dQtsp4AAAAASUVORK5CYII=\"></div><div class=\"grid-item\"><img alt=\"Output\" src=\"data:image/png;base64,iVBORw0KGgoAAAANSUhEUgAAADwAAAAaCAIAAABka6gOAAAAznpUWHRSYXcgcHJvZmlsZSB0eXBlIGV4aWYAAHjabU9bDsMgDPvnFDtCSIIDx6Etk3aDHX9JyzYxzRKxcV6QxvNxT7cAZ0parKIB5NCmjbuLShcuztTOeEL2mcurn3KffnerfBMY099W33Ax159BxHNTbHAtOhvmIOHLfy/cZj33WtdBQgusfp7+965ijIJs6lGZzNBc1+TSCYWpGO7YAS/MOJh0dx4w8zZYVEiPxgAPW6tHgrhxxBckjkp3xhnNW8ML3Txmyby5ltOJ77wAmada7CBkyxIAAAAJcEhZcwAAEnQAABJ0Ad5mH3gAAAA8dEVYdFNvZnR3YXJlAENyZWF0ZWQgd2l0aCB0aGUgV29sZnJhbSBMYW5ndWFnZSA6IHd3dy53b2xmcmFtLmNvbVyipoUAAAAhdEVYdENyZWF0aW9uIFRpbWUAMjAyNDowNjowNyAwMjowOToxMXec/dIAAAMVSURBVFiF7VdBS+NAFH4ue7YMuYkEaa+CIqGFUC+BdqA/wKl4FIQevahUvEkgvXgzeOjVJuC14CDk0lC0eGjBa0Lw0FNKyS/IHmZ3HBOtRtzuCn6nmcn33rx88/LmZSGOY/hq+PGvA/gIvoOeF35+rjvXdfv9Pp+qqloulz93C+BB+75/dXWVfizLcr1ef7+7fr9/eHjIp4Zh/MWgx+OxuBkHxjhT0KqqGoYBAEEQmKb5KSGm8Sw9MMaapokrsixnclcul5m0ruvOKWhN0w4ODmYbjEaj29vbKIoAAGO8trb2sY1937+5uYmiKJfLVSqVfD4/gyPLcrFYfOLEcRzHca/XAwDDMOLX4XmeoigJvxjjMAzT5NkOG41Gwk+a2Ww2E5xOp8MeZage4/H4/v5eUZRqtZrL5aIoMk2TUtput988HxEXFxemaRYKBUII82PbtuM4opNWq6XrOucEQWBZ1vb29uLiYq1We6Y0xth4Ds/zRKWHw2FCe2aVSWmMMQD0er0En4/DMEQIKYoinuFwOAQAQkhSaUoppVRcUVWVZxIbiDn9MWiaRind398/OzvjBVGsjHd3d9PpVJKkdrstGiKEbNu2LOuN6rG0tMTHk8lkZ2cn8VYfwO7uruM4lNLNzU2WAFtbW+IH/fDwAC8pyJGhepycnFBKEUL1en1lZYUtvljdZ0OSpOvra9d1Ly8vLcvSdV3X9UajcX5+LtLSCj7hPR87A+Mn0hqy53QC3W4XIQQA3W6XrXQ6HQBoNpuvmWRumJaXl9lgMpkcHx9nNQcA13XFaa1WOzo6gj9ZAQDFYhEATNMcjUYveshQ8gqFgud5pVJpb2+P1aDpdJrgtFotNgiCAAAcx2FTsYc5PT0dDAbVanVjY4MxLcsCAFZVACCfzxNCbNteX18nhDAaw+8O7P2nyc+Rg7UZYnq89sIih1mJQAjxi4MhDENCSNoPi3CB7cS6vDc7SfFerVQqkiQxkbiKXOkEEt2i7/uDweDx8REAVldXS6WSJElpq3R5ZREuzJDnv8WX/HP5Dnpe+A56XvgFQ6ID74xuuNYAAAAASUVORK5CYII=\"></div><div class=\"grid-item\"><img alt=\"Output\" src=\"data:image/png;base64,iVBORw0KGgoAAAANSUhEUgAAADwAAAAaCAIAAABka6gOAAAAznpUWHRSYXcgcHJvZmlsZSB0eXBlIGV4aWYAAHjabU9bDsMgDPvnFDtCSIIDx6Etk3aDHX9JyzYxzRKxcV6QxvNxT7cAZ0parKIB5NCmjbuLShcuztTOeEL2mcurn3KffnerfBMY099W33Ax159BxHNTbHAtOhvmIOHLfy/cZj33WtdBQgusfp7+965ijIJs6lGZzNBc1+TSCYWpGO7YAS/MOJh0dx4w8zZYVEiPxgAPW6tHgrhxxBckjkp3xhnNW8ML3Txmyby5ltOJ77wAmada7CBkyxIAAAAJcEhZcwAAEnQAABJ0Ad5mH3gAAAA8dEVYdFNvZnR3YXJlAENyZWF0ZWQgd2l0aCB0aGUgV29sZnJhbSBMYW5ndWFnZSA6IHd3dy53b2xmcmFtLmNvbVyipoUAAAAhdEVYdENyZWF0aW9uIFRpbWUAMjAyNDowNjowNyAwMjowOToxMXec/dIAAAMVSURBVFiF7VdBS+NAFH4ue7YMuYkEaa+CIqGFUC+BdqA/wKl4FIQevahUvEkgvXgzeOjVJuC14CDk0lC0eGjBa0Lw0FNKyS/IHmZ3HBOtRtzuCn6nmcn33rx88/LmZSGOY/hq+PGvA/gIvoOeF35+rjvXdfv9Pp+qqloulz93C+BB+75/dXWVfizLcr1ef7+7fr9/eHjIp4Zh/MWgx+OxuBkHxjhT0KqqGoYBAEEQmKb5KSGm8Sw9MMaapokrsixnclcul5m0ruvOKWhN0w4ODmYbjEaj29vbKIoAAGO8trb2sY1937+5uYmiKJfLVSqVfD4/gyPLcrFYfOLEcRzHca/XAwDDMOLX4XmeoigJvxjjMAzT5NkOG41Gwk+a2Ww2E5xOp8MeZage4/H4/v5eUZRqtZrL5aIoMk2TUtput988HxEXFxemaRYKBUII82PbtuM4opNWq6XrOucEQWBZ1vb29uLiYq1We6Y0xth4Ds/zRKWHw2FCe2aVSWmMMQD0er0En4/DMEQIKYoinuFwOAQAQkhSaUoppVRcUVWVZxIbiDn9MWiaRind398/OzvjBVGsjHd3d9PpVJKkdrstGiKEbNu2LOuN6rG0tMTHk8lkZ2cn8VYfwO7uruM4lNLNzU2WAFtbW+IH/fDwAC8pyJGhepycnFBKEUL1en1lZYUtvljdZ0OSpOvra9d1Ly8vLcvSdV3X9UajcX5+LtLSCj7hPR87A+Mn0hqy53QC3W4XIQQA3W6XrXQ6HQBoNpuvmWRumJaXl9lgMpkcHx9nNQcA13XFaa1WOzo6gj9ZAQDFYhEATNMcjUYveshQ8gqFgud5pVJpb2+P1aDpdJrgtFotNgiCAAAcx2FTsYc5PT0dDAbVanVjY4MxLcsCAFZVACCfzxNCbNteX18nhDAaw+8O7P2nyc+Rg7UZYnq89sIih1mJQAjxi4MhDENCSNoPi3CB7cS6vDc7SfFerVQqkiQxkbiKXOkEEt2i7/uDweDx8REAVldXS6WSJElpq3R5ZREuzJDnv8WX/HP5Dnpe+A56XvgFQ6ID74xuuNYAAAAASUVORK5CYII=\"></div></div></div>"
      ],
      "text/plain": [
       "True\n",
       "False\n",
       "False"
      ]
     },
     "execution_count": 10,
     "metadata": {
      "text/html": [],
      "text/plain": []
     },
     "output_type": "execute_result"
    }
   ],
   "source": [
    "MatchQ[2, 2]\n",
    "MatchQ[2, 2.]\n",
    "MatchQ[2, \"2\"]"
   ]
  },
  {
   "cell_type": "code",
   "execution_count": 13,
   "metadata": {
    "vscode": {
     "languageId": "wolfram"
    }
   },
   "outputs": [
    {
     "data": {
      "text/html": [
       "<style>\n",
       "\t\t\t\t\t\t\t\t\t\t\t\t\t.grid-container {\n",
       "\t\t\t\t\t\t\t\t\t\t\t\t\t\tdisplay: inline-grid;\n",
       "\t\t\t\t\t\t\t\t\t\t\t\t\t\tgrid-template-columns: auto;\n",
       "\t\t\t\t\t\t\t\t\t\t\t\t\t}\n",
       "\t\t\t\t\t\t\t\t\t\t\t\t</style>\n",
       "\n",
       "\t\t\t\t\t\t\t\t\t\t\t\t<div><div class=\"grid-container\"><div class=\"grid-item\"><img alt=\"Output\" src=\"data:image/png;base64,iVBORw0KGgoAAAANSUhEUgAAADAAAAAaCAIAAAB+V0iAAAAAznpUWHRSYXcgcHJvZmlsZSB0eXBlIGV4aWYAAHjabU9bEgIhDPvnFB4B2pLCcVjFGW/g8U13UWcdM0MT0hek+Xzc0yUgJSer3tCBTFi3LoOi5QMHl9z3uENXiveTn8pY/qBVvwnM5W9n33GwtJ9BWdam2ECtthrWIJXDfy/cVr2M1s6DPm9dA9rn6X/vpi6oKG6MJtkdnbolShKq5Oq44wqwsOAm2a7kCXe2waNCRzQGZPq5eiYojVt8QeOYDjL26GwNL3RnLCqyUevuxHdeTpxaunSmpfcAAAAJcEhZcwAAEnQAABJ0Ad5mH3gAAAA8dEVYdFNvZnR3YXJlAENyZWF0ZWQgd2l0aCB0aGUgV29sZnJhbSBMYW5ndWFnZSA6IHd3dy53b2xmcmFtLmNvbVyipoUAAAAhdEVYdENyZWF0aW9uIFRpbWUAMjAyNDowNjowNyAwMjowOToxMu6VrGgAAAIYSURBVEiJ7VaxjqpAFL27sZYQegpoLYwaCmJFgiT8wGhjrCj8AAs+wAg/gI21kPgDExMbidFOEmtCjCUJ4QvYYja8WdjVx2bdtfBUzNxzhzNnZu7MS5Zl8Eh4/WsBRTwF3cLDCaoBgOu65/P5KwbP8/1+//cUZVmmadoVgqZp2S+iBgCj0UhRFPL7zWaDMdY0Le/hef7eptCoAUBhRTDGiqJMJpMCNQzD1Woly3K32w3DcL1ep2naaDR0Xc85tm0DAJ1Lssrrno/A87wkSYIgvAcKjlmWBQCWZZXN3G63JEQ4ORBCOac8JskqrLtpmoXZLpfLf0tWCbPZLEkSURQNw0jT1HEcz/OGwyHt03XYtj2dTkVRRAgxDBNFkeu6g8GgXq/rul7ZoUJ0Pp/TPTcdiuOYZdlOpxPHcc45Ho+505UdMk2T3iKqqlqWJcvyf6YfDockSTiOWywWdD/Lsp7nua5bWRDDMHRTEITy9r+C0+kEABhjjPGnhMqCfgR0WSng7oIulwvdJFWt3W5/5etd7rIwDMmH7/vj8ZgOSZIEAI7jBEHwae4PO4QQ8jyv1+sZhhFFkeM4LMvSBEEQCKfZbCKEWq1WHiIl9zuFsRyiDzCtQBRFcqTpwhjHMUKoPBky8kv28Qnr+/5ut3sX+xH01XHFJPpOUFWV4zjbtstXRxAE+/0+TdOCQ0VBf46He6A9Bd3CU9AtvAGW+zzx1C2yngAAAABJRU5ErkJggg==\"></div><div class=\"grid-item\"><img alt=\"Output\" src=\"data:image/png;base64,iVBORw0KGgoAAAANSUhEUgAAADwAAAAaCAIAAABka6gOAAAAzXpUWHRSYXcgcHJvZmlsZSB0eXBlIGV4aWYAAHjabU9bDsMgDPvnFDtCSIIDx6Etk3aDHX9JyzYxzRKxcV6QxvNxT7cAZ0parKIB5NCmjbuLShcuztTOeEL2mcurn3KffnerfBMY099W33Ax159BxHNTbHAtOhvmIOHLfy/cZj33WtdBQgusfp7+965ijIJs6lGZzNBc1+TSCYWpGO7YAS/MOJh0dx4w8zZYVEiPxgAPW6tHgrhxxBckjkp3xhnNW8ML3TxmYd5cy+nEd16Zt1rttMx7MgAAAAlwSFlzAAASdAAAEnQB3mYfeAAAADx0RVh0U29mdHdhcmUAQ3JlYXRlZCB3aXRoIHRoZSBXb2xmcmFtIExhbmd1YWdlIDogd3d3LndvbGZyYW0uY29tXKKmhQAAACF0RVh0Q3JlYXRpb24gVGltZQAyMDI0OjA2OjA3IDAyOjA5OjEy7pWsaAAAAxVJREFUWIXtV0FL40AUfi57tgy5iQRpr4IioYVQL4F2oD/AqXgUhB69qFS8SSC9eDN46NUm4LXgIOTSULR4aMFrQvDQU0rJL8geZnccE61G3O4KfqeZyffevHzz8uZlIY5j+Gr48a8D+Ai+g54Xfn6uO9d1+/0+n6qqWi6XP3cL4EH7vn91dZV+LMtyvV5/v7t+v394eMinhmH8xaDH47G4GQfGOFPQqqoahgEAQRCYpvkpIabxLD0wxpqmiSuyLGdyVy6XmbSu684paE3TDg4OZhuMRqPb29soigAAY7y2tvaxjX3fv7m5iaIol8tVKpV8Pj+DI8tysVh84sRxHMdxr9cDAMMw4tfheZ6iKAm/GOMwDNPk2Q4bjUbCT5rZbDYTnE6nwx5lqB7j8fj+/l5RlGq1msvloigyTZNS2m633zwfERcXF6ZpFgoFQgjzY9u24ziik1arpes65wRBYFnW9vb24uJirVZ7pjTG2HgOz/NEpYfDYUJ7ZpVJaYwxAPR6vQSfj8MwRAgpiiKe4XA4BABCSFJpSimlVFxRVZVnEhuIOf0xaJpGKd3f3z87O+MFUayMd3d30+lUkqR2uy0aIoRs27Ys643qsbS0xMeTyWRnZyfxVh/A7u6u4ziU0s3NTZYAW1tb4gf98PAALynIkaF6nJycUEoRQvV6fWVlhS2+WN1nQ5Kk6+tr13UvLy8ty9J1Xdf1RqNxfn4u0tIKPuE9HzsD4yfSGrLndALdbhchBADdbpetdDodAGg2m6+ZZG6YlpeX2WAymRwfH2c1BwDXdcVprVY7OjqCP1kBAMViEQBM0xyNRi96yFDyCoWC53mlUmlvb4/VoOl0muC0Wi02CIIAABzHYVOxhzk9PR0MBtVqdWNjgzEtywIAVlUAIJ/PE0Js215fXyeEMBrD7w7s/afJz5GDtRlierz2wiKHWYlACPGLgyEMQ0JI2g+LcIHtxLq8NztJ8V6tVCqSJDGRuIpc6QQS3aLv+4PB4PHxEQBWV1dLpZIkSWmrdHllES7MkOe/xZf8c/kOel74Dnpe+AVDogPvjG641gAAAABJRU5ErkJggg==\"></div></div></div>"
      ],
      "text/plain": [
       "True\n",
       "False"
      ]
     },
     "execution_count": 13,
     "metadata": {
      "text/html": [],
      "text/plain": []
     },
     "output_type": "execute_result"
    }
   ],
   "source": [
    "2 === 2\n",
    "f === _"
   ]
  },
  {
   "cell_type": "markdown",
   "metadata": {},
   "source": [
    "## Универсальный шаблон: Blank"
   ]
  },
  {
   "cell_type": "markdown",
   "metadata": {},
   "source": [
    "Кроме точных шаблонов есть специальные шаблонные выражения. Например, Blank[].\n",
    "Любое выражение удовлетворяет этому шаблону."
   ]
  },
  {
   "cell_type": "code",
   "execution_count": 15,
   "metadata": {
    "vscode": {
     "languageId": "wolfram"
    }
   },
   "outputs": [
    {
     "data": {
      "text/html": [
       "<div><img alt=\"Output\" src=\"data:image/png;base64,iVBORw0KGgoAAAANSUhEUgAAAFYAAAAaCAIAAACirjy3AAAAznpUWHRSYXcgcHJvZmlsZSB0eXBlIGV4aWYAAHjabY9RDgMhCET/PUWPgICDHsftuklv0OMXdm0bm04ijE9ATeP5ONItxJmSFqtoALm0aePuptKlK2dqZzxVMM/yylPuk3dH5XuAMfm2cpuDuP4MIr6MxA3uRWfDHCR88feF26znXus6SGiR1c/T/+5VjFGQTT0qkxma+5rcekJhKoYDd8ALM3YmvXseMPM2WFRIj8YQD1urR4I42OMLEkule8YZzVuDhW8eswhv7uUk8Z0XWnZaw/FdNDMAAAAJcEhZcwAAEnQAABJ0Ad5mH3gAAAA8dEVYdFNvZnR3YXJlAENyZWF0ZWQgd2l0aCB0aGUgV29sZnJhbSBMYW5ndWFnZSA6IHd3dy53b2xmcmFtLmNvbVyipoUAAAAhdEVYdENyZWF0aW9uIFRpbWUAMjAyNDowNjowNyAwMjowOToxM5mSnP4AAAPOSURBVFiF7Vi/S+teFD/vy1slhGxBMqiDYsHBgiIqWJBEJ8VCGlwCDprFSVrI6g9owdV0UOhmhIKbJAgZaiioQQjo1lyCQ6eG4F+Q73C/hpimvtba73vw+pnuzT05Oedz7/3cc/MjCAL4u/HP7w7g92NIwZACgJ/dmyKEqtVq2GUYJpfLDSAkAABVVV9fX/P5/ID8R/EDyyH+ZPiUIIj5+fmZmZmoqWmaS0tLYZdlWU3TBhQWx3G6rncp1QihZrOJ21NTUxRFxQxM08SNkZGRWFIQroJKpaLremyM53lVVcMuTdPFYhG3C4VCN8H9P6hWq4ZhZDIZAKBpup2Cer0OAK7rIoQSpi0IgiAIWJYFgOI7eJ7Ho+VyOUgCALAsmzj0LcDxdGmMY/6l2d3dXWLMH7Qguvc2NjYEQbi+vt7d3e11WkzTxMQTBLG6ujo2NhYdLZVKWEcQQre3t29vb93Iim3beJ3u7Oy0z3M/6CiHo6OjX3B3c3Ozv7/vOE70oSzLx8fHYbdQKOBJFgQhfHh6evr4+NjJrW3bKysrvu9fXl5+b/7wCQUvLy8AsLm52ZO75+dnx3FYlsU703VdRVFOTk7W1tYWFxdDs4eHB13XSZKUJAkAFEWxLEtV1cS1gBAK8x/EGfSBglKphBuGYei6zrJsNpvtyR1+Jbryl5eXBUGo1+tRCnzfT6fTmqbhKWUYZm9vr1artWfoeR7P84PLH2IURHWeJElRFHtddfjICbUAAFzXTbQM8weA6elpAEAIxWw8z+M4zrKsweUPMQrCM891XVVVBUGo1WpnZ2fdu7Nte2trK6YFieiG3O3tbcuyyuXy4PKHGAXRE+Hw8HBubk5RlIODg5ikfwKc//j4OM/zBEHAuxx8LThRFHVdPz8/z2az366CITrKIUVRExMTjuM0m80uKTBNE+d/f38fRmya5pcpwJMvCALHcdGN873oeE3yPK/RaAAATdM9eSRJMowVIXR0dNRPfLlcTpIky7I4jvM8rx9XnZB8ImAt8H2f5/lwCcTuEY1GI7THOwiThcPNZDJPT09XV1f9h4jFSFEUjuM+qR2+jmhBGoMsy61WK1a0fuIE16rR5yRJyrIMANECNvYKLl3hY8UdK5BbrVY6nQYASZIGVSCLooiLGYxUKjU5ORmTgJhNIvL5PMuyuJJNpVLr6+sAQBDEwsJCaBOjCd4vYAzDdPoWRVGapl1cXACAbdvtt72+8Evy/nz0uQqGf42GP856+nH2x4JhmEqlYhgGABSLxXal4DgON2ZnZ9tf/+/H2d+M4UaAfwGz/vp7K2vRdAAAAABJRU5ErkJggg==\"></div>"
      ],
      "text/plain": [
       "Blank[]"
      ]
     },
     "execution_count": 15,
     "metadata": {
      "text/html": [],
      "text/plain": []
     },
     "output_type": "execute_result"
    }
   ],
   "source": [
    "FullForm[_]"
   ]
  },
  {
   "cell_type": "code",
   "execution_count": 16,
   "metadata": {
    "vscode": {
     "languageId": "wolfram"
    }
   },
   "outputs": [
    {
     "data": {
      "text/html": [
       "<style>\n",
       "\t\t\t\t\t\t\t\t\t\t\t\t\t.grid-container {\n",
       "\t\t\t\t\t\t\t\t\t\t\t\t\t\tdisplay: inline-grid;\n",
       "\t\t\t\t\t\t\t\t\t\t\t\t\t\tgrid-template-columns: auto;\n",
       "\t\t\t\t\t\t\t\t\t\t\t\t\t}\n",
       "\t\t\t\t\t\t\t\t\t\t\t\t</style>\n",
       "\n",
       "\t\t\t\t\t\t\t\t\t\t\t\t<div><div class=\"grid-container\"><div class=\"grid-item\"><img alt=\"Output\" src=\"data:image/png;base64,iVBORw0KGgoAAAANSUhEUgAAADwAAAAaCAIAAABka6gOAAAAznpUWHRSYXcgcHJvZmlsZSB0eXBlIGV4aWYAAHjabU9bDsMgDPvnFDtCSIIDx6Etk3aDHX9JyzYxzRKxcV6QxvNxT7cAZ0parKIB5NCmjbuLShcuztTOeEL2mcurn3KffnerfBMY099W33Ax159BxHNTbHAtOhvmIOHLfy/cZj33WtdBQgusfp7+965ijIJs6lGZzNBc1+TSCYWpGO7YAS/MOJh0dx4w8zZYVEiPxgAPW6tHgrhxxBckjkp3xhnNW8ML3TxmKby5ltOJ77wAmeda8Opm5dQAAAAJcEhZcwAAEnQAABJ0Ad5mH3gAAAA8dEVYdFNvZnR3YXJlAENyZWF0ZWQgd2l0aCB0aGUgV29sZnJhbSBMYW5ndWFnZSA6IHd3dy53b2xmcmFtLmNvbVyipoUAAAAhdEVYdENyZWF0aW9uIFRpbWUAMjAyNDowNjowNyAwMjowOToxNXDxOcsAAAMVSURBVFiF7VdBS+NAFH4ue7YMuYkEaa+CIqGFUC+BdqA/wKl4FIQevahUvEkgvXgzeOjVJuC14CDk0lC0eGjBa0Lw0FNKyS/IHmZ3HBOtRtzuCn6nmcn33rx88/LmZSGOY/hq+PGvA/gIvoOeF35+rjvXdfv9Pp+qqloulz93C+BB+75/dXWVfizLcr1ef7+7fr9/eHjIp4Zh/MWgx+OxuBkHxjhT0KqqGoYBAEEQmKb5KSGm8Sw9MMaapokrsixnclcul5m0ruvOKWhN0w4ODmYbjEaj29vbKIoAAGO8trb2sY1937+5uYmiKJfLVSqVfD4/gyPLcrFYfOLEcRzHca/XAwDDMOLX4XmeoigJvxjjMAzT5NkOG41Gwk+a2Ww2E5xOp8MeZage4/H4/v5eUZRqtZrL5aIoMk2TUtput988HxEXFxemaRYKBUII82PbtuM4opNWq6XrOucEQWBZ1vb29uLiYq1We6Y0xth4Ds/zRKWHw2FCe2aVSWmMMQD0er0En4/DMEQIKYoinuFwOAQAQkhSaUoppVRcUVWVZxIbiDn9MWiaRind398/OzvjBVGsjHd3d9PpVJKkdrstGiKEbNu2LOuN6rG0tMTHk8lkZ2cn8VYfwO7uruM4lNLNzU2WAFtbW+IH/fDwAC8pyJGhepycnFBKEUL1en1lZYUtvljdZ0OSpOvra9d1Ly8vLcvSdV3X9UajcX5+LtLSCj7hPR87A+Mn0hqy53QC3W4XIQQA3W6XrXQ6HQBoNpuvmWRumJaXl9lgMpkcHx9nNQcA13XFaa1WOzo6gj9ZAQDFYhEATNMcjUYveshQ8gqFgud5pVJpb2+P1aDpdJrgtFotNgiCAAAcx2FTsYc5PT0dDAbVanVjY4MxLcsCAFZVACCfzxNCbNteX18nhDAaw+8O7P2nyc+Rg7UZYnq89sIih1mJQAjxi4MhDENCSNoPi3CB7cS6vDc7SfFerVQqkiQxkbiKXOkEEt2i7/uDweDx8REAVldXS6WSJElpq3R5ZREuzJDnv8WX/HP5Dnpe+A56XvgFQ6ID74xuuNYAAAAASUVORK5CYII=\"></div><div class=\"grid-item\"><img alt=\"Output\" src=\"data:image/png;base64,iVBORw0KGgoAAAANSUhEUgAAAB8AAAAaCAIAAADAARDdAAAAznpUWHRSYXcgcHJvZmlsZSB0eXBlIGV4aWYAAHjabU9RrgMhCPz3FD0CAg56HLfrJu8G7/iF1fcam04iM4yAksbvz5UeAc6UtFhFA8ihTRt3F5UmJmdqd5zJte7y7qfcl9/dKu8LjOUfu2+YzPVjEPEUEi+4Fl0Na5Dw9P8ePFY991r3QUIbrP5//WuuYoyCbOpRmczQXNfk0gmFqRguPAEvzDiZ9Ok8YOZtsKiQHo0BHrZXjwRx44wVJI5Kd8YdzVvDC908Zil8uJbbiXVem15a8ecUcNsAAAAJcEhZcwAAEnQAABJ0Ad5mH3gAAAA8dEVYdFNvZnR3YXJlAENyZWF0ZWQgd2l0aCB0aGUgV29sZnJhbSBMYW5ndWFnZSA6IHd3dy53b2xmcmFtLmNvbVyipoUAAAAhdEVYdENyZWF0aW9uIFRpbWUAMjAyNDowNjowNyAwMjowOToxNXDxOcsAAAEMSURBVEiJ7ZUxjoUgEIbHF3tD6Cws9Ara2RovYKKllQk38ApzCzu9grWtjQfgBjSeYLbQghiXl7dgscn7O2DyMfwzgEdE8Jhez6G/dIN8fbBt2zzPABBFUVEUnHNbPBERkZSyLEt9njE2jiPZ6aQLIQAgTVNERMQkSY49pJQO6EqpZVn0hWMDRLShn1XlnOd5rjvTdZ2t6Yae2fcdAIIgsMLfnkgpxRgDV75fdBTZ0vR7+oEWQliib+gO0Ve6WzTp/V7XtVs0EXlEBABZlq3ryhjr+/7SVFVVxXFs1ZGGgMsd/kjnG4mIv9HDMPxj4gCeOXFL+e9D7jRN0zAMhoC2bZumeTb3//yvPkv/AXQtVAtTkhwWAAAAAElFTkSuQmCC\"></div></div></div>"
      ],
      "text/plain": [
       "False\n",
       "2 _"
      ]
     },
     "execution_count": 16,
     "metadata": {
      "text/html": [],
      "text/plain": []
     },
     "output_type": "execute_result"
    }
   ],
   "source": [
    "MatchQ[a + b, _ + _]\n",
    "_ + _ (* идентичные выражения *)"
   ]
  },
  {
   "cell_type": "code",
   "execution_count": 18,
   "metadata": {
    "vscode": {
     "languageId": "wolfram"
    }
   },
   "outputs": [
    {
     "data": {
      "text/html": [
       "<style>\n",
       "\t\t\t\t\t\t\t\t\t\t\t\t\t.grid-container {\n",
       "\t\t\t\t\t\t\t\t\t\t\t\t\t\tdisplay: inline-grid;\n",
       "\t\t\t\t\t\t\t\t\t\t\t\t\t\tgrid-template-columns: auto;\n",
       "\t\t\t\t\t\t\t\t\t\t\t\t\t}\n",
       "\t\t\t\t\t\t\t\t\t\t\t\t</style>\n",
       "\n",
       "\t\t\t\t\t\t\t\t\t\t\t\t<div><div class=\"grid-container\"><div class=\"grid-item\"><img alt=\"Output\" src=\"data:image/png;base64,iVBORw0KGgoAAAANSUhEUgAAADwAAAAaCAIAAABka6gOAAAAzXpUWHRSYXcgcHJvZmlsZSB0eXBlIGV4aWYAAHjabU9bDsMgDPvnFDtCSIIDx6Etk3aDHX9JyzYxzRKxcV6QxvNxT7cAZ0parKIB5NCmjbuLShcuztTOeEL2mcurn3KffnerfBMY099W33Ax159BxHNTbHAtOhvmIOHLfy/cZj33WtdBQgusfp7+965ijIJs6lGZzNBc1+TSCYWpGO7YAS/MOJh0dx4w8zZYVEiPxgAPW6tHgrhxxBckjkp3xhnNW8ML3TxmAW+u5XTiOy+Z91rxnErMjQAAAAlwSFlzAAASdAAAEnQB3mYfeAAAADx0RVh0U29mdHdhcmUAQ3JlYXRlZCB3aXRoIHRoZSBXb2xmcmFtIExhbmd1YWdlIDogd3d3LndvbGZyYW0uY29tXKKmhQAAACF0RVh0Q3JlYXRpb24gVGltZQAyMDI0OjA2OjA3IDAyOjA5OjE26fhocQAAAxVJREFUWIXtV0FL40AUfi57tgy5iQRpr4IioYVQL4F2oD/AqXgUhB69qFS8SSC9eDN46NUm4LXgIOTSULR4aMFrQvDQU0rJL8geZnccE61G3O4KfqeZyffevHzz8uZlIY5j+Gr48a8D+Ai+g54Xfn6uO9d1+/0+n6qqWi6XP3cL4EH7vn91dZV+LMtyvV5/v7t+v394eMinhmH8xaDH47G4GQfGOFPQqqoahgEAQRCYpvkpIabxLD0wxpqmiSuyLGdyVy6XmbSu684paE3TDg4OZhuMRqPb29soigAAY7y2tvaxjX3fv7m5iaIol8tVKpV8Pj+DI8tysVh84sRxHMdxr9cDAMMw4tfheZ6iKAm/GOMwDNPk2Q4bjUbCT5rZbDYTnE6nwx5lqB7j8fj+/l5RlGq1msvloigyTZNS2m633zwfERcXF6ZpFgoFQgjzY9u24ziik1arpes65wRBYFnW9vb24uJirVZ7pjTG2HgOz/NEpYfDYUJ7ZpVJaYwxAPR6vQSfj8MwRAgpiiKe4XA4BABCSFJpSimlVFxRVZVnEhuIOf0xaJpGKd3f3z87O+MFUayMd3d30+lUkqR2uy0aIoRs27Ys643qsbS0xMeTyWRnZyfxVh/A7u6u4ziU0s3NTZYAW1tb4gf98PAALynIkaF6nJycUEoRQvV6fWVlhS2+WN1nQ5Kk6+tr13UvLy8ty9J1Xdf1RqNxfn4u0tIKPuE9HzsD4yfSGrLndALdbhchBADdbpetdDodAGg2m6+ZZG6YlpeX2WAymRwfH2c1BwDXdcVprVY7OjqCP1kBAMViEQBM0xyNRi96yFDyCoWC53mlUmlvb4/VoOl0muC0Wi02CIIAABzHYVOxhzk9PR0MBtVqdWNjgzEtywIAVlUAIJ/PE0Js215fXyeEMBrD7w7s/afJz5GDtRlierz2wiKHWYlACPGLgyEMQ0JI2g+LcIHtxLq8NztJ8V6tVCqSJDGRuIpc6QQS3aLv+4PB4PHxEQBWV1dLpZIkSWmrdHllES7MkOe/xZf8c/kOel74Dnpe+AVDogPvjG641gAAAABJRU5ErkJggg==\"></div><div class=\"grid-item\"><img alt=\"Output\" src=\"data:image/png;base64,iVBORw0KGgoAAAANSUhEUgAAADAAAAAaCAIAAAB+V0iAAAAAznpUWHRSYXcgcHJvZmlsZSB0eXBlIGV4aWYAAHjabU9bEgIhDPvnFB4B2pLCcVjFGW/g8U13UWcdM0MT0hek+Xzc0yUgJSer3tCBTFi3LoOi5QMHl9z3uENXiveTn8pY/qBVvwnM5W9n33GwtJ9BWdam2ECtthrWIJXDfy/cVr2M1s6DPm9dA9rn6X/vpi6oKG6MJtkdnbolShKq5Oq44wqwsOAm2a7kCXe2waNCRzQGZPq5eiYojVt8QeOYDjL26GwNL3RnLArZqHV34jsvTtxavqYRuEEAAAAJcEhZcwAAEnQAABJ0Ad5mH3gAAAA8dEVYdFNvZnR3YXJlAENyZWF0ZWQgd2l0aCB0aGUgV29sZnJhbSBMYW5ndWFnZSA6IHd3dy53b2xmcmFtLmNvbVyipoUAAAAhdEVYdENyZWF0aW9uIFRpbWUAMjAyNDowNjowNyAwMjowOToxNun4aHEAAAIYSURBVEiJ7VaxjqpAFL27sZYQegpoLYwaCmJFgiT8wGhjrCj8AAs+wAg/gI21kPgDExMbidFOEmtCjCUJ4QvYYja8WdjVx2bdtfBUzNxzhzNnZu7MS5Zl8Eh4/WsBRTwF3cLDCaoBgOu65/P5KwbP8/1+//cUZVmmadoVgqZp2S+iBgCj0UhRFPL7zWaDMdY0Le/hef7eptCoAUBhRTDGiqJMJpMCNQzD1Woly3K32w3DcL1ep2naaDR0Xc85tm0DAJ1Lssrrno/A87wkSYIgvAcKjlmWBQCWZZXN3G63JEQ4ORBCOac8JskqrLtpmoXZLpfLf0tWCbPZLEkSURQNw0jT1HEcz/OGwyHt03XYtj2dTkVRRAgxDBNFkeu6g8GgXq/rul7ZoUJ0Pp/TPTcdiuOYZdlOpxPHcc45Ho+505UdMk2T3iKqqlqWJcvyf6YfDockSTiOWywWdD/Lsp7nua5bWRDDMHRTEITy9r+C0+kEABhjjPGnhMqCfgR0WSng7oIulwvdJFWt3W5/5etd7rIwDMmH7/vj8ZgOSZIEAI7jBEHwae4PO4QQ8jyv1+sZhhFFkeM4LMvSBEEQCKfZbCKEWq1WHiIl9zuFsRyiDzCtQBRFcqTpwhjHMUKoPBky8kv28Qnr+/5ut3sX+xH01XHFJPpOUFWV4zjbtstXRxAE+/0+TdOCQ0VBf46He6A9Bd3CU9AtvAGW+zzx1C2yngAAAABJRU5ErkJggg==\"></div></div></div>"
      ],
      "text/plain": [
       "False\n",
       "True"
      ]
     },
     "execution_count": 18,
     "metadata": {
      "text/html": [],
      "text/plain": []
     },
     "output_type": "execute_result"
    }
   ],
   "source": [
    "MatchQ[a + b, Hold[_ + _]]\n",
    "MatchQ[a + b, HoldPattern[_ + _]] (* блокировка внутреннего вычисления *)"
   ]
  },
  {
   "cell_type": "markdown",
   "metadata": {
    "vscode": {
     "languageId": "wolfram"
    }
   },
   "source": [
    "## Указание головы выражения в шаблоне"
   ]
  },
  {
   "cell_type": "markdown",
   "metadata": {},
   "source": [
    "Шаблону удовлетворяет любое выражение с заданной головой."
   ]
  },
  {
   "cell_type": "code",
   "execution_count": 20,
   "metadata": {
    "vscode": {
     "languageId": "wolfram"
    }
   },
   "outputs": [
    {
     "data": {
      "text/html": [
       "<style>\n",
       "\t\t\t\t\t\t\t\t\t\t\t\t\t.grid-container {\n",
       "\t\t\t\t\t\t\t\t\t\t\t\t\t\tdisplay: inline-grid;\n",
       "\t\t\t\t\t\t\t\t\t\t\t\t\t\tgrid-template-columns: auto;\n",
       "\t\t\t\t\t\t\t\t\t\t\t\t\t}\n",
       "\t\t\t\t\t\t\t\t\t\t\t\t</style>\n",
       "\n",
       "\t\t\t\t\t\t\t\t\t\t\t\t<div><div class=\"grid-container\"><div class=\"grid-item\"><img alt=\"Output\" src=\"data:image/png;base64,iVBORw0KGgoAAAANSUhEUgAAADAAAAAaCAIAAAB+V0iAAAAAznpUWHRSYXcgcHJvZmlsZSB0eXBlIGV4aWYAAHjabU9bEgIhDPvnFB4B2pLCcVjFGW/g8U13UWcdM0MT0hek+Xzc0yUgJSer3tCBTFi3LoOi5QMHl9z3uENXiveTn8pY/qBVvwnM5W9n33GwtJ9BWdam2ECtthrWIJXDfy/cVr2M1s6DPm9dA9rn6X/vpi6oKG6MJtkdnbolShKq5Oq44wqwsOAm2a7kCXe2waNCRzQGZPq5eiYojVt8QeOYDjL26GwNL3RnLHQ2at2d+M4LTuxavw9dbeMAAAAJcEhZcwAAEnQAABJ0Ad5mH3gAAAA8dEVYdFNvZnR3YXJlAENyZWF0ZWQgd2l0aCB0aGUgV29sZnJhbSBMYW5ndWFnZSA6IHd3dy53b2xmcmFtLmNvbVyipoUAAAAhdEVYdENyZWF0aW9uIFRpbWUAMjAyNDowNjowNyAwMjowOToxN57/WOcAAAIYSURBVEiJ7VaxjqpAFL27sZYQegpoLYwaCmJFgiT8wGhjrCj8AAs+wAg/gI21kPgDExMbidFOEmtCjCUJ4QvYYja8WdjVx2bdtfBUzNxzhzNnZu7MS5Zl8Eh4/WsBRTwF3cLDCaoBgOu65/P5KwbP8/1+//cUZVmmadoVgqZp2S+iBgCj0UhRFPL7zWaDMdY0Le/hef7eptCoAUBhRTDGiqJMJpMCNQzD1Woly3K32w3DcL1ep2naaDR0Xc85tm0DAJ1Lssrrno/A87wkSYIgvAcKjlmWBQCWZZXN3G63JEQ4ORBCOac8JskqrLtpmoXZLpfLf0tWCbPZLEkSURQNw0jT1HEcz/OGwyHt03XYtj2dTkVRRAgxDBNFkeu6g8GgXq/rul7ZoUJ0Pp/TPTcdiuOYZdlOpxPHcc45Ho+505UdMk2T3iKqqlqWJcvyf6YfDockSTiOWywWdD/Lsp7nua5bWRDDMHRTEITy9r+C0+kEABhjjPGnhMqCfgR0WSng7oIulwvdJFWt3W5/5etd7rIwDMmH7/vj8ZgOSZIEAI7jBEHwae4PO4QQ8jyv1+sZhhFFkeM4LMvSBEEQCKfZbCKEWq1WHiIl9zuFsRyiDzCtQBRFcqTpwhjHMUKoPBky8kv28Qnr+/5ut3sX+xH01XHFJPpOUFWV4zjbtstXRxAE+/0+TdOCQ0VBf46He6A9Bd3CU9AtvAGW+zzx1C2yngAAAABJRU5ErkJggg==\"></div><div class=\"grid-item\"><img alt=\"Output\" src=\"data:image/png;base64,iVBORw0KGgoAAAANSUhEUgAAAKkAAAAaCAIAAABD6eujAAAAzXpUWHRSYXcgcHJvZmlsZSB0eXBlIGV4aWYAAHjabY9hEkIhCIT/e4qOgICLHsdXNtMNOn7wtBqbdkZYPwE1jefjni4hzpS0WEUDyKVNG3c3laZmztTOeKq3dZZ3nnJfvDsq3wOMxY+dG2bm+jOIeBqJG9yLroY1SHjy94XHqude6z5IaJPVz9P/7lWMUZBNPSqTGZr7mtx6QmEqhjuugBdm3Jj06nnAzNtgUSE9GkM8bK8eCeLgFl+QWCrdM85o3hosfPOYnRzu5STxnRegGVr25EG4EwAAAAlwSFlzAAASdAAAEnQB3mYfeAAAADx0RVh0U29mdHdhcmUAQ3JlYXRlZCB3aXRoIHRoZSBXb2xmcmFtIExhbmd1YWdlIDogd3d3LndvbGZyYW0uY29tXKKmhQAAACF0RVh0Q3JlYXRpb24gVGltZQAyMDI0OjA2OjA3IDAyOjA5OjE3nv9Y5wAABypJREFUaIHtWs1rE10XP8/Ls23DNbssgiQKFgspZmikqJBAmFFcWIxMQjcBwTK6EiQ12bhQAgmuXDRBFLoQkmDAlZqxEKEZxNqpZCDiws4QCnaVEPIX5F2ct5fbmUmd9jGtz9v8FmE+zj33nHvuuedj8tdgMIAxTiT+c9wCjHFsGNv+5GJs+5OLv52TGoZRrVbprdfrjcfjIxAJAKBcLm9vb6dSqRHxHwMA/sJcD9eaPnW5XBcvXgwEAiypoiiXL1+mtzzP12q1EYklCIIsyw7zUMMwdnZ28HpqasrtdtNXJr0oDrdxNU37+fPntWvXDjrwuKAoCl5MTEyYrAnU71dWVmRZNr0TRbFcLtNbj8eTy+XwemlpaSTCHgrVarVer0ciEQDweDys7W31AgCe5w9h+5mZGZ7n/0W2//TpEwC0223DMKyOuufMp6b9+vVrpVKpVCrhcHhxcREf+nw+egj/UbYHgEgkYhsgkskk7ol6vS7LMs/zeOv1eo9axOMAromiKE+ePLG+/dtKirhx40YikXjz5g21vXMoioI7zuVyRaNRn8/Hvs3n83jkGoaxurra7/ednMCapqEH3759m/Xs/cGylWXZdovQ3KLb7a6urm5vb7tcrlgsRmfJ5/OUeGtri721Ss4qNTs7a9IdQdeHxdzc3KVLl6z6Tk9Ph0Ihk8psPvTu3btWq2W71L/AYDAYDAY8z9NrRKPRAACe5wd2GPbq7du3fr/fNEUmk7GOLZVKLA3HcSyNSZ5ms0kIAYBSqWSdNJfL5XI5WzlZGgCwJcO56BQIQoiu61TgYTAtQiaTMRGYBO50OhzH2bKisnU6HRSJFabZbNrKzHIjhDQaDauCjUbD1lhD8/xv374BwPz8/D6aW9FqtXRdp0dru90uFArZbPbq1avspv7y5Yssy4QQSZIAoFAoqKpaLpdtvd8wjHA43Ov1SqXS6CoLnEKSpNOnTz9//lzX9adPny4vLwMTCpeWlvx+/507d+goNnbk8/lsNuv3+0VRdLlc7Xa7XC4nEonJyUmaIty7d09VVUqDkYgQ8vDhw7m5OaRZWFiQZZnjuFu3bsFu/A2Hw6qqmtyalRlZ3b9/f2Njw6nO7D7K7QJveZ7vdDq2bgRD/L7ZbFJ3QaB/sw6H83IcR5kXi0UAkCTJtK9ZR7H1eMRv8XvWt5rNJgD4/X6HWqOchBBWKcpHFEWWAyGEpRFFEQCov+Jxyy7FYHd9isWiSWaO49jzAM8tq2yO/J7N4AghyWTSeWRFYCHBxrN2u21LWavVKPPz588DgGEYJpputysIgqqqI/V4xKtXr2gVhBe6rjsfvr6+3uv13G73y5cv2eeEkEqlwpZLp06d2ofP+/fv8YLNKvr9PgBYcy92DQFgeXnZtqAdBvs8n55Xa2treO45hKZpN2/edLJqTnbVwsKCqqrFYnHUhgeAycnJfzK81WoBgCzLtiUlBc/zsiyHQiHTmT81NYUEm5ubAFAoFJxMalrDg67S0Dz/8ePHoVCoUCg8ePDAefaIhqfxDHZD/oFkokgmk7Isv3jxgs26/2TQRGcY5ufnZVnWdT2bzeITQsjHjx9N2mEIN4397XXp0FzP7XafOXNG1/WdnR2HtlcUBQ2/vr5OlVEU5dC2x42cSCQEQTCdb8eFbrdr+xwNEwwG9+lDd7vddDotSdLi4iIeD16vNxqNsnrhUl+/fv0IOkhDv+V0u92trS0A8Hg8B+JICKHKGIZh21Vwjng8LkmSqqqCIAxb96OEqqrWvAQAZmdnAaBQKGiaNmzs9+/fe70eISQQCKRSqVQqFY/HTRv6ypUrAPDo0aMjUHaP39P8AuN9r9cTRZE6vak3znY5cLPjLkE7RSIRLE7+uYiYcBQKBUEQDlDA7JW5Xq/TXzhsPx+jNcdxkiRhRKN8fD6fKIqVSmVmZkYUxQsXLtBRtGkzMTEBANlsdnNzMxgMIgfY29WJRqN+v19V1bNnz8bjcfbkj8ViB2vd/BJszWBCJpNhqxFbGpbJYLeUoiCEYLvDWuOZihDYWz6Zeju00jMVP3TSYTXeMJmtc5m6IlYhB0yLyZZPp9PBgs0EVjZbAthb8Zo6NhSshNZe3D74RY1H+96I6enpc+fOmXaZicYWqVQKnQOZYNByuVy0cQFMNUGBX4nYXMY0l9vtrtVqWD5pmmb9JDUMw2S2zmUKbVYhASAQCPz48QP7vlY+bre7XC6n0+nPnz9jVYagumua9uHDB0IInmTIpN/vY2urWq1iCRcIBDY2Nqx9X1ZCJ7b4NRzunT8ZTno7fwLQ6a1NKmxujk6FA/d0xxgR7t69u7a2RgP569evVVUFgFgsdsSSjG1/dEin07quq6pqKnr9fv+zZ89+cx7nAP8Ptvd6vSsrK5jD53I559nAEQMDuaZpbEJg+nT7eyEIAl4Eg0Hr2//9Z2uME4jx/3RPLv4LDNl4qugzY1wAAAAASUVORK5CYII=\"></div></div></div>"
      ],
      "text/plain": [
       "True\n",
       "Blank[Integer]"
      ]
     },
     "execution_count": 20,
     "metadata": {
      "text/html": [],
      "text/plain": []
     },
     "output_type": "execute_result"
    }
   ],
   "source": [
    "MatchQ[Integer[I], _Integer]\n",
    "FullForm[_Integer] "
   ]
  },
  {
   "cell_type": "markdown",
   "metadata": {},
   "source": [
    "## Именованные шаблоны «name:»"
   ]
  },
  {
   "cell_type": "markdown",
   "metadata": {},
   "source": [
    "Шаблоны можно локально именовать, чтобы использовать в дополнительных условиях шаблона и некоторых других связанных объектах (об этом ниже). Именование шаблона не меняет его сути."
   ]
  },
  {
   "cell_type": "code",
   "execution_count": 22,
   "metadata": {
    "vscode": {
     "languageId": "wolfram"
    }
   },
   "outputs": [
    {
     "data": {
      "text/html": [
       "<style>\n",
       "\t\t\t\t\t\t\t\t\t\t\t\t\t.grid-container {\n",
       "\t\t\t\t\t\t\t\t\t\t\t\t\t\tdisplay: inline-grid;\n",
       "\t\t\t\t\t\t\t\t\t\t\t\t\t\tgrid-template-columns: auto;\n",
       "\t\t\t\t\t\t\t\t\t\t\t\t\t}\n",
       "\t\t\t\t\t\t\t\t\t\t\t\t</style>\n",
       "\n",
       "\t\t\t\t\t\t\t\t\t\t\t\t<div><div class=\"grid-container\"><div class=\"grid-item\"><img alt=\"Output\" src=\"data:image/png;base64,iVBORw0KGgoAAAANSUhEUgAAADAAAAAaCAIAAAB+V0iAAAAAz3pUWHRSYXcgcHJvZmlsZSB0eXBlIGV4aWYAAHjabU9bEgIhDPvnFB4B2pLCcVjFGW/g8U13UWcdM0MT0hek+Xzc0yUgJSer3tCBTFi3LoOi5QMHl9z3uENXiveTn8pY/qBVvwnM5W9n33GwtJ9BWdam2ECtthrWIJXDfy/cVr2M1s6DPm9dA9rn6X/vpi6oKG6MJtkdnbolShKq5Oq44wqwsOAm2a7kCXe2waNCRzQGZPq5eiYojVt8QeOYDjL26GwNL3RnLNpko9bdie+8AE78WsBF7B5gAAAACXBIWXMAABJ0AAASdAHeZh94AAAAPHRFWHRTb2Z0d2FyZQBDcmVhdGVkIHdpdGggdGhlIFdvbGZyYW0gTGFuZ3VhZ2UgOiB3d3cud29sZnJhbS5jb21coqaFAAAAIXRFWHRDcmVhdGlvbiBUaW1lADIwMjQ6MDY6MDcgMDI6MDk6MTgOQEV2AAACGElEQVRIie1WsY6qQBS9u7GWEHoKaC2MGgpiRYIk/MBoY6wo/AALPsAIP4CNtZD4AxMTG4nRThJrQowlCeEL2GI2vFnY1cdm3bXwVMzcc4czZ2buzEuWZfBIeP1rAUU8Bd3CwwmqAYDruufz+SsGz/P9fv/3FGVZpmnaFYKmadkvogYAo9FIURTy+81mgzHWNC3v4Xn+3qbQqAFAYUUwxoqiTCaTAjUMw9VqJctyt9sNw3C9Xqdp2mg0dF3PObZtAwCdS7LK656PwPO8JEmCILwHCo5ZlgUAlmWVzdxutyREODkQQjmnPCbJKqy7aZqF2S6Xy39LVgmz2SxJElEUDcNI09RxHM/zhsMh7dN12LY9nU5FUUQIMQwTRZHruoPBoF6v67pe2aFCdD6f0z03HYrjmGXZTqcTx3HOOR6PudOVHTJNk94iqqpaliXL8n+mHw6HJEk4jlssFnQ/y7Ke57muW1kQwzB0UxCE8va/gtPpBAAYY4zxp4TKgn4EdFkp4O6CLpcL3SRVrd1uf+XrXe6yMAzJh+/74/GYDkmSBACO4wRB8GnuDzuEEPI8r9frGYYRRZHjOCzL0gRBEAin2WwihFqtVh4iJfc7hbEcog8wrUAURXKk6cIYxzFCqDwZMvJL9vEJ6/v+brd7F/sR9NVxxST6TlBVleM427bLV0cQBPv9Pk3TgkNFQX+Oh3ugPQXdwlPQLbwBlvs88dQtsp4AAAAASUVORK5CYII=\"></div><div class=\"grid-item\"><img alt=\"Output\" src=\"data:image/png;base64,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\"></div></div></div>"
      ],
      "text/plain": [
       "True\n",
       "Pattern[x, Blank[]]"
      ]
     },
     "execution_count": 22,
     "metadata": {
      "text/html": [],
      "text/plain": []
     },
     "output_type": "execute_result"
    }
   ],
   "source": [
    "MatchQ[a + b, x_ + y_]\n",
    "FullForm[x_]"
   ]
  },
  {
   "cell_type": "code",
   "execution_count": 25,
   "metadata": {
    "vscode": {
     "languageId": "wolfram"
    }
   },
   "outputs": [
    {
     "data": {
      "text/html": [
       "<style>\n",
       "\t\t\t\t\t\t\t\t\t\t\t\t\t.grid-container {\n",
       "\t\t\t\t\t\t\t\t\t\t\t\t\t\tdisplay: inline-grid;\n",
       "\t\t\t\t\t\t\t\t\t\t\t\t\t\tgrid-template-columns: auto;\n",
       "\t\t\t\t\t\t\t\t\t\t\t\t\t}\n",
       "\t\t\t\t\t\t\t\t\t\t\t\t</style>\n",
       "\n",
       "\t\t\t\t\t\t\t\t\t\t\t\t<div><div class=\"grid-container\"><div class=\"grid-item\"><img alt=\"Output\" src=\"data:image/png;base64,iVBORw0KGgoAAAANSUhEUgAAADAAAAAaCAIAAAB+V0iAAAAAznpUWHRSYXcgcHJvZmlsZSB0eXBlIGV4aWYAAHjabU9bEgIhDPvnFB4B2pLCcVjFGW/g8U13UWcdM0MT0hek+Xzc0yUgJSer3tCBTFi3LoOi5QMHl9z3uENXiveTn8pY/qBVvwnM5W9n33GwtJ9BWdam2ECtthrWIJXDfy/cVr2M1s6DPm9dA9rn6X/vpi6oKG6MJtkdnbolShKq5Oq44wqwsOAm2a7kCXe2waNCRzQGZPq5eiYojVt8QeOYDjL26GwNb2ghR4RsVLpn4zsvTi5atnHKeggAAAAJcEhZcwAAEnQAABJ0Ad5mH3gAAAA8dEVYdFNvZnR3YXJlAENyZWF0ZWQgd2l0aCB0aGUgV29sZnJhbSBMYW5ndWFnZSA6IHd3dy53b2xmcmFtLmNvbVyipoUAAAAhdEVYdENyZWF0aW9uIFRpbWUAMjAyNDowNjowNyAwMjoxMDoxNqmQDksAAAIYSURBVEiJ7VaxjqpAFL27sZYQegpoLYwaCmJFgiT8wGhjrCj8AAs+wAg/gI21kPgDExMbidFOEmtCjCUJ4QvYYja8WdjVx2bdtfBUzNxzhzNnZu7MS5Zl8Eh4/WsBRTwF3cLDCaoBgOu65/P5KwbP8/1+//cUZVmmadoVgqZp2S+iBgCj0UhRFPL7zWaDMdY0Le/hef7eptCoAUBhRTDGiqJMJpMCNQzD1Woly3K32w3DcL1ep2naaDR0Xc85tm0DAJ1Lssrrno/A87wkSYIgvAcKjlmWBQCWZZXN3G63JEQ4ORBCOac8JskqrLtpmoXZLpfLf0tWCbPZLEkSURQNw0jT1HEcz/OGwyHt03XYtj2dTkVRRAgxDBNFkeu6g8GgXq/rul7ZoUJ0Pp/TPTcdiuOYZdlOpxPHcc45Ho+505UdMk2T3iKqqlqWJcvyf6YfDockSTiOWywWdD/Lsp7nua5bWRDDMHRTEITy9r+C0+kEABhjjPGnhMqCfgR0WSng7oIulwvdJFWt3W5/5etd7rIwDMmH7/vj8ZgOSZIEAI7jBEHwae4PO4QQ8jyv1+sZhhFFkeM4LMvSBEEQCKfZbCKEWq1WHiIl9zuFsRyiDzCtQBRFcqTpwhjHMUKoPBky8kv28Qnr+/5ut3sX+xH01XHFJPpOUFWV4zjbtstXRxAE+/0+TdOCQ0VBf46He6A9Bd3CU9AtvAGW+zzx1C2yngAAAABJRU5ErkJggg==\"></div><div class=\"grid-item\"><img alt=\"Output\" src=\"data:image/png;base64,iVBORw0KGgoAAAANSUhEUgAAADwAAAAaCAIAAABka6gOAAAAzXpUWHRSYXcgcHJvZmlsZSB0eXBlIGV4aWYAAHjabU9bDsMgDPvnFDtCSIIDx6Etk3aDHX9JyzYxzRKxcV6QxvNxT7cAZ0parKIB5NCmjbuLShcuztTOeEL2mcurn3KffnerfBMY099W33Ax159BxHNTbHAtOhvmIOHLfy/cZj33WtdBQgusfp7+965ijIJs6lGZzNBc1+TSCYWpGO7YAS/MOJh0dx4w8zZYVEiPxgAPW6tHgrhxxBckjkp3xhnNW8Prkp0jgjdXcmbjOy+ZSVrpx/M/kQAAAAlwSFlzAAASdAAAEnQB3mYfeAAAADx0RVh0U29mdHdhcmUAQ3JlYXRlZCB3aXRoIHRoZSBXb2xmcmFtIExhbmd1YWdlIDogd3d3LndvbGZyYW0uY29tXKKmhQAAACF0RVh0Q3JlYXRpb24gVGltZQAyMDI0OjA2OjA3IDAyOjEwOjE2qZAOSwAAAxVJREFUWIXtV0FL40AUfi57tgy5iQRpr4IioYVQL4F2oD/AqXgUhB69qFS8SSC9eDN46NUm4LXgIOTSULR4aMFrQvDQU0rJL8geZnccE61G3O4KfqeZyffevHzz8uZlIY5j+Gr48a8D+Ai+g54Xfn6uO9d1+/0+n6qqWi6XP3cL4EH7vn91dZV+LMtyvV5/v7t+v394eMinhmH8xaDH47G4GQfGOFPQqqoahgEAQRCYpvkpIabxLD0wxpqmiSuyLGdyVy6XmbSu684paE3TDg4OZhuMRqPb29soigAAY7y2tvaxjX3fv7m5iaIol8tVKpV8Pj+DI8tysVh84sRxHMdxr9cDAMMw4tfheZ6iKAm/GOMwDNPk2Q4bjUbCT5rZbDYTnE6nwx5lqB7j8fj+/l5RlGq1msvloigyTZNS2m633zwfERcXF6ZpFgoFQgjzY9u24ziik1arpes65wRBYFnW9vb24uJirVZ7pjTG2HgOz/NEpYfDYUJ7ZpVJaYwxAPR6vQSfj8MwRAgpiiKe4XA4BABCSFJpSimlVFxRVZVnEhuIOf0xaJpGKd3f3z87O+MFUayMd3d30+lUkqR2uy0aIoRs27Ys643qsbS0xMeTyWRnZyfxVh/A7u6u4ziU0s3NTZYAW1tb4gf98PAALynIkaF6nJycUEoRQvV6fWVlhS2+WN1nQ5Kk6+tr13UvLy8ty9J1Xdf1RqNxfn4u0tIKPuE9HzsD4yfSGrLndALdbhchBADdbpetdDodAGg2m6+ZZG6YlpeX2WAymRwfH2c1BwDXdcVprVY7OjqCP1kBAMViEQBM0xyNRi96yFDyCoWC53mlUmlvb4/VoOl0muC0Wi02CIIAABzHYVOxhzk9PR0MBtVqdWNjgzEtywIAVlUAIJ/PE0Js215fXyeEMBrD7w7s/afJz5GDtRlierz2wiKHWYlACPGLgyEMQ0JI2g+LcIHtxLq8NztJ8V6tVCqSJDGRuIpc6QQS3aLv+4PB4PHxEQBWV1dLpZIkSWmrdHllES7MkOe/xZf8c/kOel74Dnpe+AVDogPvjG641gAAAABJRU5ErkJggg==\"></div></div></div>"
      ],
      "text/plain": [
       "True\n",
       "False"
      ]
     },
     "execution_count": 25,
     "metadata": {
      "text/html": [],
      "text/plain": []
     },
     "output_type": "execute_result"
    }
   ],
   "source": [
    "MatchQ[100, x_Integer /; x > 10]\n",
    "MatchQ[9, x_Integer /; x > 10]"
   ]
  },
  {
   "cell_type": "code",
   "execution_count": 29,
   "metadata": {
    "vscode": {
     "languageId": "wolfram"
    }
   },
   "outputs": [
    {
     "data": {
      "text/html": [
       "<style>\n",
       "\t\t\t\t\t\t\t\t\t\t\t\t\t.grid-container {\n",
       "\t\t\t\t\t\t\t\t\t\t\t\t\t\tdisplay: inline-grid;\n",
       "\t\t\t\t\t\t\t\t\t\t\t\t\t\tgrid-template-columns: auto;\n",
       "\t\t\t\t\t\t\t\t\t\t\t\t\t}\n",
       "\t\t\t\t\t\t\t\t\t\t\t\t</style>\n",
       "\n",
       "\t\t\t\t\t\t\t\t\t\t\t\t<div><div class=\"grid-container\"><div class=\"grid-item\"><img alt=\"Output\" src=\"data:image/png;base64,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\"></div><div class=\"grid-item\"><img alt=\"Output\" src=\"data:image/png;base64,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\"></div></div></div>"
      ],
      "text/plain": [
       "f[x_Integer] g[y_Real] /; x > y\n",
       "f[x_Integer] g[y_Real] /; x > y"
      ]
     },
     "execution_count": 29,
     "metadata": {
      "text/html": [],
      "text/plain": []
     },
     "output_type": "execute_result"
    }
   ],
   "source": [
    "f[x_Integer]*g[y_Real] /; x > y\n",
    "\n",
    "f[x: _Integer]*g[y: _Real] /; x > y"
   ]
  },
  {
   "cell_type": "code",
   "execution_count": 35,
   "metadata": {
    "vscode": {
     "languageId": "wolfram"
    }
   },
   "outputs": [
    {
     "data": {
      "text/html": [
       "<style>\n",
       "\t\t\t\t\t\t\t\t\t\t\t\t\t.grid-container {\n",
       "\t\t\t\t\t\t\t\t\t\t\t\t\t\tdisplay: inline-grid;\n",
       "\t\t\t\t\t\t\t\t\t\t\t\t\t\tgrid-template-columns: auto;\n",
       "\t\t\t\t\t\t\t\t\t\t\t\t\t}\n",
       "\t\t\t\t\t\t\t\t\t\t\t\t</style>\n",
       "\n",
       "\t\t\t\t\t\t\t\t\t\t\t\t<div><div class=\"grid-container\"><div class=\"grid-item\"><img alt=\"Output\" src=\"data:image/png;base64,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\"></div><div class=\"grid-item\"><img alt=\"Output\" src=\"data:image/png;base64,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\"></div></div></div>"
      ],
      "text/plain": [
       "(x:f[_Integer] g[_Real]) (y:7 t)\n",
       "Times[Pattern[x, Times[f[Blank[Integer]], g[Blank[Real]]]], Pattern[y, Times[7, t]]]"
      ]
     },
     "execution_count": 35,
     "metadata": {
      "text/html": [],
      "text/plain": []
     },
     "output_type": "execute_result"
    }
   ],
   "source": [
    "(x : (f[_Integer]*g[_Real])) * (y : 7 t)\n",
    "FullForm[(x : (f[_Integer]*g[_Real])) * (y : 7 t)]"
   ]
  },
  {
   "cell_type": "code",
   "execution_count": 38,
   "metadata": {
    "vscode": {
     "languageId": "wolfram"
    }
   },
   "outputs": [
    {
     "data": {
      "text/html": [
       "<style>\n",
       "\t\t\t\t\t\t\t\t\t\t\t\t\t.grid-container {\n",
       "\t\t\t\t\t\t\t\t\t\t\t\t\t\tdisplay: inline-grid;\n",
       "\t\t\t\t\t\t\t\t\t\t\t\t\t\tgrid-template-columns: auto;\n",
       "\t\t\t\t\t\t\t\t\t\t\t\t\t}\n",
       "\t\t\t\t\t\t\t\t\t\t\t\t</style>\n",
       "\n",
       "\t\t\t\t\t\t\t\t\t\t\t\t<div><div class=\"grid-container\"><div class=\"grid-item\"><img alt=\"Output\" src=\"data:image/png;base64,iVBORw0KGgoAAAANSUhEUgAAADAAAAAaCAIAAAB+V0iAAAAA0HpUWHRSYXcgcHJvZmlsZSB0eXBlIGV4aWYAAHjabU9bDsMgDPvnFDsCJMGB49CWSrvBjj/Tsk6dZok4cZ6E/nru4TEgKQbLXlCBSFi1Ko1OiSdOTrEe9oDOFOObHlKbeqOUvwn0qS933XGylJ9BUeamsYG+2myYg1RO/bNwmfXSSrkPum6dA8p1+t/Y1AUZyY3WJLqj0i+BLglZYnbsWAEWJmwSbSV3uLMNPiq0jcYB6X6v7gFKYRtf0PFMGxmHdbYmak1VnTarykJdj+z4zhtPLlrBjRO3qAAAAAlwSFlzAAASdAAAEnQB3mYfeAAAADx0RVh0U29mdHdhcmUAQ3JlYXRlZCB3aXRoIHRoZSBXb2xmcmFtIExhbmd1YWdlIDogd3d3LndvbGZyYW0uY29tXKKmhQAAACF0RVh0Q3JlYXRpb24gVGltZQAyMDI0OjA2OjA3IDEyOjM3OjUzlitUhwAAAhhJREFUSIntVrGOqkAUvbuxlhB6CmgtjBoKYkWCJPzAaGOsKPwACz7ACD+AjbWQ+AMTExuJ0U4Sa0KMJQnhC9hiNrxZ2NXHZt218FTM3HOHM2dm7sxLlmXwSHj9awFFPAXdwsMJqgGA67rn8/krBs/z/X7/9xRlWaZp2hWCpmnZL6IGAKPRSFEU8vvNZoMx1jQt7+F5/t6m0KgBQGFFMMaKokwmkwI1DMPVaiXLcrfbDcNwvV6nadpoNHRdzzm2bQMAnUuyyuuej8DzvCRJgiC8BwqOWZYFAJZllc3cbrckRDg5EEI5pzwmySqsu2mahdkul8t/S1YJs9ksSRJRFA3DSNPUcRzP84bDIe3Tddi2PZ1ORVFECDEME0WR67qDwaBer+u6XtmhQnQ+n9M9Nx2K45hl2U6nE8dxzjkej7nTlR0yTZPeIqqqWpYly/J/ph8OhyRJOI5bLBZ0P8uynue5rltZEMMwdFMQhPL2v4LT6QQAGGOM8aeEyoJ+BHRZKeDugi6XC90kVa3dbn/l613usjAMyYfv++PxmA5JkgQAjuMEQfBp7g87hBDyPK/X6xmGEUWR4zgsy9IEQRAIp9lsIoRarVYeIiX3O4WxHKIPMK1AFEVypOnCGMcxQqg8GTLyS/bxCev7/m63exf7EfTVccUk+k5QVZXjONu2y1dHEAT7/T5N04JDRUF/jod7oD0F3cJT0C28AZb7PPHULbKeAAAAAElFTkSuQmCC\"></div><div class=\"grid-item\"><img alt=\"Output\" src=\"data:image/png;base64,iVBORw0KGgoAAAANSUhEUgAAADAAAAAaCAIAAAB+V0iAAAAA0HpUWHRSYXcgcHJvZmlsZSB0eXBlIGV4aWYAAHjabU9bDsMgDPvnFDsCJMGB49CWSrvBjj/Tsk6dZok4cZ6E/nru4TEgKQbLXlCBSFi1Ko1OiSdOTrEe9oDOFOObHlKbeqOUvwn0qS933XGylJ9BUeamsYG+2myYg1RO/bNwmfXSSrkPum6dA8p1+t/Y1AUZyY3WJLqj0i+BLglZYnbsWAEWJmwSbSV3uLMNPiq0jcYB6X6v7gFKYRtf0PFMGxmHdbYmak1VnTarykJdj+z4zhtPLlrBjRO3qAAAAAlwSFlzAAASdAAAEnQB3mYfeAAAADx0RVh0U29mdHdhcmUAQ3JlYXRlZCB3aXRoIHRoZSBXb2xmcmFtIExhbmd1YWdlIDogd3d3LndvbGZyYW0uY29tXKKmhQAAACF0RVh0Q3JlYXRpb24gVGltZQAyMDI0OjA2OjA3IDEyOjM3OjUzlitUhwAAAhhJREFUSIntVrGOqkAUvbuxlhB6CmgtjBoKYkWCJPzAaGOsKPwACz7ACD+AjbWQ+AMTExuJ0U4Sa0KMJQnhC9hiNrxZ2NXHZt218FTM3HOHM2dm7sxLlmXwSHj9awFFPAXdwsMJqgGA67rn8/krBs/z/X7/9xRlWaZp2hWCpmnZL6IGAKPRSFEU8vvNZoMx1jQt7+F5/t6m0KgBQGFFMMaKokwmkwI1DMPVaiXLcrfbDcNwvV6nadpoNHRdzzm2bQMAnUuyyuuej8DzvCRJgiC8BwqOWZYFAJZllc3cbrckRDg5EEI5pzwmySqsu2mahdkul8t/S1YJs9ksSRJRFA3DSNPUcRzP84bDIe3Tddi2PZ1ORVFECDEME0WR67qDwaBer+u6XtmhQnQ+n9M9Nx2K45hl2U6nE8dxzjkej7nTlR0yTZPeIqqqWpYly/J/ph8OhyRJOI5bLBZ0P8uynue5rltZEMMwdFMQhPL2v4LT6QQAGGOM8aeEyoJ+BHRZKeDugi6XC90kVa3dbn/l613usjAMyYfv++PxmA5JkgQAjuMEQfBp7g87hBDyPK/X6xmGEUWR4zgsy9IEQRAIp9lsIoRarVYeIiX3O4WxHKIPMK1AFEVypOnCGMcxQqg8GTLyS/bxCev7/m63exf7EfTVccUk+k5QVZXjONu2y1dHEAT7/T5N04JDRUF/jod7oD0F3cJT0C28AZb7PPHULbKeAAAAAElFTkSuQmCC\"></div></div></div>"
      ],
      "text/plain": [
       "True\n",
       "True"
      ]
     },
     "execution_count": 38,
     "metadata": {
      "text/html": [],
      "text/plain": []
     },
     "output_type": "execute_result"
    }
   ],
   "source": [
    "MatchQ[Range[3], x_List /; Length[x] == 3]\n",
    "MatchQ[Range[3], {_, _, _}]"
   ]
  },
  {
   "cell_type": "code",
   "execution_count": 53,
   "metadata": {
    "vscode": {
     "languageId": "wolfram"
    }
   },
   "outputs": [
    {
     "data": {
      "text/html": [
       "<style>\n",
       "\t\t\t\t\t\t\t\t\t\t\t\t\t.grid-container {\n",
       "\t\t\t\t\t\t\t\t\t\t\t\t\t\tdisplay: inline-grid;\n",
       "\t\t\t\t\t\t\t\t\t\t\t\t\t\tgrid-template-columns: auto;\n",
       "\t\t\t\t\t\t\t\t\t\t\t\t\t}\n",
       "\t\t\t\t\t\t\t\t\t\t\t\t</style>\n",
       "\n",
       "\t\t\t\t\t\t\t\t\t\t\t\t<div><div class=\"grid-container\"><div class=\"grid-item\"><img alt=\"Output\" src=\"data:image/png;base64,iVBORw0KGgoAAAANSUhEUgAAADAAAAAaCAIAAAB+V0iAAAAAznpUWHRSYXcgcHJvZmlsZSB0eXBlIGV4aWYAAHjabU9bDsMgDPvnFDsCJMGB49CWSrvBjr8EWKdOs0RsnBeE/nqe4eGgFINkLahANEiVSs1EiROTU6wjDvBK2f3mh9SW38zK3wT68re7r5hM5WdQpLXJN5hmWQ1rENP0Pwu3VU+tlPug661rQLme/vcurISMpGJRKKqimi7BpBEyxaw4sQNWmHBQlN24Q9XaoF7BzRsd1PVe3QPYjMO/wH6EmzFGVGtNzEPnERNtFqfj33kDTlxattYvumwAAAAJcEhZcwAAEnQAABJ0Ad5mH3gAAAA8dEVYdFNvZnR3YXJlAENyZWF0ZWQgd2l0aCB0aGUgV29sZnJhbSBMYW5ndWFnZSA6IHd3dy53b2xmcmFtLmNvbVyipoUAAAAhdEVYdENyZWF0aW9uIFRpbWUAMjAyNDowNjowNyAxMzowNTowMU6MeAEAAAIYSURBVEiJ7VaxjqpAFL27sZYQegpoLYwaCmJFgiT8wGhjrCj8AAs+wAg/gI21kPgDExMbidFOEmtCjCUJ4QvYYja8WdjVx2bdtfBUzNxzhzNnZu7MS5Zl8Eh4/WsBRTwF3cLDCaoBgOu65/P5KwbP8/1+//cUZVmmadoVgqZp2S+iBgCj0UhRFPL7zWaDMdY0Le/hef7eptCoAUBhRTDGiqJMJpMCNQzD1Woly3K32w3DcL1ep2naaDR0Xc85tm0DAJ1Lssrrno/A87wkSYIgvAcKjlmWBQCWZZXN3G63JEQ4ORBCOac8JskqrLtpmoXZLpfLf0tWCbPZLEkSURQNw0jT1HEcz/OGwyHt03XYtj2dTkVRRAgxDBNFkeu6g8GgXq/rul7ZoUJ0Pp/TPTcdiuOYZdlOpxPHcc45Ho+505UdMk2T3iKqqlqWJcvyf6YfDockSTiOWywWdD/Lsp7nua5bWRDDMHRTEITy9r+C0+kEABhjjPGnhMqCfgR0WSng7oIulwvdJFWt3W5/5etd7rIwDMmH7/vj8ZgOSZIEAI7jBEHwae4PO4QQ8jyv1+sZhhFFkeM4LMvSBEEQCKfZbCKEWq1WHiIl9zuFsRyiDzCtQBRFcqTpwhjHMUKoPBky8kv28Qnr+/5ut3sX+xH01XHFJPpOUFWV4zjbtstXRxAE+/0+TdOCQ0VBf46He6A9Bd3CU9AtvAGW+zzx1C2yngAAAABJRU5ErkJggg==\"></div><div class=\"grid-item\"><img alt=\"Output\" src=\"data:image/png;base64,iVBORw0KGgoAAAANSUhEUgAAADAAAAAaCAIAAAB+V0iAAAAAznpUWHRSYXcgcHJvZmlsZSB0eXBlIGV4aWYAAHjabU9bDsMgDPvnFDsCJMGB49CWSrvBjr8EWKdOs0RsnBeE/nqe4eGgFINkLahANEiVSs1EiROTU6wjDvBK2f3mh9SW38zK3wT68re7r5hM5WdQpLXJN5hmWQ1rENP0Pwu3VU+tlPug661rQLme/vcurISMpGJRKKqimi7BpBEyxaw4sQNWmHBQlN24Q9XaoF7BzRsd1PVe3QPYjMO/wH6EmzFGVGtNzEPnERNtFqfj33kDTlxattYvumwAAAAJcEhZcwAAEnQAABJ0Ad5mH3gAAAA8dEVYdFNvZnR3YXJlAENyZWF0ZWQgd2l0aCB0aGUgV29sZnJhbSBMYW5ndWFnZSA6IHd3dy53b2xmcmFtLmNvbVyipoUAAAAhdEVYdENyZWF0aW9uIFRpbWUAMjAyNDowNjowNyAxMzowNTowMU6MeAEAAAIYSURBVEiJ7VaxjqpAFL27sZYQegpoLYwaCmJFgiT8wGhjrCj8AAs+wAg/gI21kPgDExMbidFOEmtCjCUJ4QvYYja8WdjVx2bdtfBUzNxzhzNnZu7MS5Zl8Eh4/WsBRTwF3cLDCaoBgOu65/P5KwbP8/1+//cUZVmmadoVgqZp2S+iBgCj0UhRFPL7zWaDMdY0Le/hef7eptCoAUBhRTDGiqJMJpMCNQzD1Woly3K32w3DcL1ep2naaDR0Xc85tm0DAJ1Lssrrno/A87wkSYIgvAcKjlmWBQCWZZXN3G63JEQ4ORBCOac8JskqrLtpmoXZLpfLf0tWCbPZLEkSURQNw0jT1HEcz/OGwyHt03XYtj2dTkVRRAgxDBNFkeu6g8GgXq/rul7ZoUJ0Pp/TPTcdiuOYZdlOpxPHcc45Ho+505UdMk2T3iKqqlqWJcvyf6YfDockSTiOWywWdD/Lsp7nua5bWRDDMHRTEITy9r+C0+kEABhjjPGnhMqCfgR0WSng7oIulwvdJFWt3W5/5etd7rIwDMmH7/vj8ZgOSZIEAI7jBEHwae4PO4QQ8jyv1+sZhhFFkeM4LMvSBEEQCKfZbCKEWq1WHiIl9zuFsRyiDzCtQBRFcqTpwhjHMUKoPBky8kv28Qnr+/5ut3sX+xH01XHFJPpOUFWV4zjbtstXRxAE+/0+TdOCQ0VBf46He6A9Bd3CU9AtvAGW+zzx1C2yngAAAABJRU5ErkJggg==\"></div></div></div>"
      ],
      "text/plain": [
       "True\n",
       "True"
      ]
     },
     "execution_count": 53,
     "metadata": {
      "text/html": [],
      "text/plain": []
     },
     "output_type": "execute_result"
    }
   ],
   "source": [
    "MatchQ[{\"a\", \"b\", \"c\"}, x : {__String} /; Length[x] == 3]\n",
    "MatchQ[{\"a\", \"b\", \"c\"}, {Repeated[_String, {3}]}]"
   ]
  },
  {
   "cell_type": "code",
   "execution_count": 55,
   "metadata": {
    "vscode": {
     "languageId": "wolfram"
    }
   },
   "outputs": [
    {
     "data": {
      "text/html": [
       "<div><img alt=\"Output\" src=\"data:image/png;base64,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\"></div>"
      ],
      "text/plain": [
       "BlankSequence[]"
      ]
     },
     "execution_count": 55,
     "metadata": {
      "text/html": [],
      "text/plain": []
     },
     "output_type": "execute_result"
    }
   ],
   "source": [
    "FullForm[__]"
   ]
  },
  {
   "cell_type": "code",
   "execution_count": 56,
   "metadata": {
    "vscode": {
     "languageId": "wolfram"
    }
   },
   "outputs": [
    {
     "data": {
      "text/html": [
       "<div><img alt=\"Output\" src=\"data:image/png;base64,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\"></div>"
      ],
      "text/plain": [
       "PatternTest[]"
      ]
     },
     "execution_count": 56,
     "metadata": {
      "text/html": [],
      "text/plain": []
     },
     "output_type": "execute_result"
    }
   ],
   "source": [
    "PatternTest[]"
   ]
  },
  {
   "cell_type": "code",
   "execution_count": 65,
   "metadata": {
    "vscode": {
     "languageId": "wolfram"
    }
   },
   "outputs": [
    {
     "data": {
      "text/html": [
       "<style>\n",
       "\t\t\t\t\t\t\t\t\t\t\t\t\t.grid-container {\n",
       "\t\t\t\t\t\t\t\t\t\t\t\t\t\tdisplay: inline-grid;\n",
       "\t\t\t\t\t\t\t\t\t\t\t\t\t\tgrid-template-columns: auto;\n",
       "\t\t\t\t\t\t\t\t\t\t\t\t\t}\n",
       "\t\t\t\t\t\t\t\t\t\t\t\t</style>\n",
       "\n",
       "\t\t\t\t\t\t\t\t\t\t\t\t<div><div class=\"grid-container\"><div class=\"grid-item\"><img alt=\"Output\" src=\"data:image/png;base64,iVBORw0KGgoAAAANSUhEUgAAADAAAAAaCAIAAAB+V0iAAAAAznpUWHRSYXcgcHJvZmlsZSB0eXBlIGV4aWYAAHjabU9bDsMgDPvnFDsCJMGB49CWSrvBjr8EWKdOs0RsnBeE/nqe4eGgFINkLahANEiVSs1EiROTU6wjDvBK2f3mh9SW38zK3wT68re7r5hM5WdQpLXJN5hmWQ1rENP0Pwu3VU+tlPug661rQLme/vcurISMpGJRKKqimi7BpBEyxaw4sQNWmHBQlN24Q9XaoF7BzRsd1PVe3QPYjMO/wH6EmzFGVGtNzKaZ63CYNo9D+3feTxxav1IiTOgAAAAJcEhZcwAAEnQAABJ0Ad5mH3gAAAA8dEVYdFNvZnR3YXJlAENyZWF0ZWQgd2l0aCB0aGUgV29sZnJhbSBMYW5ndWFnZSA6IHd3dy53b2xmcmFtLmNvbVyipoUAAAAhdEVYdENyZWF0aW9uIFRpbWUAMjAyNDowNjowNyAxMzozOTowM6303EUAAAIYSURBVEiJ7VaxjqpAFL27sZYQegpoLYwaCmJFgiT8wGhjrCj8AAs+wAg/gI21kPgDExMbidFOEmtCjCUJ4QvYYja8WdjVx2bdtfBUzNxzhzNnZu7MS5Zl8Eh4/WsBRTwF3cLDCaoBgOu65/P5KwbP8/1+//cUZVmmadoVgqZp2S+iBgCj0UhRFPL7zWaDMdY0Le/hef7eptCoAUBhRTDGiqJMJpMCNQzD1Woly3K32w3DcL1ep2naaDR0Xc85tm0DAJ1Lssrrno/A87wkSYIgvAcKjlmWBQCWZZXN3G63JEQ4ORBCOac8JskqrLtpmoXZLpfLf0tWCbPZLEkSURQNw0jT1HEcz/OGwyHt03XYtj2dTkVRRAgxDBNFkeu6g8GgXq/rul7ZoUJ0Pp/TPTcdiuOYZdlOpxPHcc45Ho+505UdMk2T3iKqqlqWJcvyf6YfDockSTiOWywWdD/Lsp7nua5bWRDDMHRTEITy9r+C0+kEABhjjPGnhMqCfgR0WSng7oIulwvdJFWt3W5/5etd7rIwDMmH7/vj8ZgOSZIEAI7jBEHwae4PO4QQ8jyv1+sZhhFFkeM4LMvSBEEQCKfZbCKEWq1WHiIl9zuFsRyiDzCtQBRFcqTpwhjHMUKoPBky8kv28Qnr+/5ut3sX+xH01XHFJPpOUFWV4zjbtstXRxAE+/0+TdOCQ0VBf46He6A9Bd3CU9AtvAGW+zzx1C2yngAAAABJRU5ErkJggg==\"></div><div class=\"grid-item\"><img alt=\"Output\" src=\"data:image/png;base64,iVBORw0KGgoAAAANSUhEUgAAADAAAAAaCAIAAAB+V0iAAAAAznpUWHRSYXcgcHJvZmlsZSB0eXBlIGV4aWYAAHjabU9bDsMgDPvnFDsCJMGB49CWSrvBjr8EWKdOs0RsnBeE/nqe4eGgFINkLahANEiVSs1EiROTU6wjDvBK2f3mh9SW38zK3wT68re7r5hM5WdQpLXJN5hmWQ1rENP0Pwu3VU+tlPug661rQLme/vcurISMpGJRKKqimi7BpBEyxaw4sQNWmHBQlN24Q9XaoF7BzRsd1PVe3QPYjMO/wH6EmzFGVGtNzKaZ63CYNo9D+3feTxxav1IiTOgAAAAJcEhZcwAAEnQAABJ0Ad5mH3gAAAA8dEVYdFNvZnR3YXJlAENyZWF0ZWQgd2l0aCB0aGUgV29sZnJhbSBMYW5ndWFnZSA6IHd3dy53b2xmcmFtLmNvbVyipoUAAAAhdEVYdENyZWF0aW9uIFRpbWUAMjAyNDowNjowNyAxMzozOTowM6303EUAAAIYSURBVEiJ7VaxjqpAFL27sZYQegpoLYwaCmJFgiT8wGhjrCj8AAs+wAg/gI21kPgDExMbidFOEmtCjCUJ4QvYYja8WdjVx2bdtfBUzNxzhzNnZu7MS5Zl8Eh4/WsBRTwF3cLDCaoBgOu65/P5KwbP8/1+//cUZVmmadoVgqZp2S+iBgCj0UhRFPL7zWaDMdY0Le/hef7eptCoAUBhRTDGiqJMJpMCNQzD1Woly3K32w3DcL1ep2naaDR0Xc85tm0DAJ1Lssrrno/A87wkSYIgvAcKjlmWBQCWZZXN3G63JEQ4ORBCOac8JskqrLtpmoXZLpfLf0tWCbPZLEkSURQNw0jT1HEcz/OGwyHt03XYtj2dTkVRRAgxDBNFkeu6g8GgXq/rul7ZoUJ0Pp/TPTcdiuOYZdlOpxPHcc45Ho+505UdMk2T3iKqqlqWJcvyf6YfDockSTiOWywWdD/Lsp7nua5bWRDDMHRTEITy9r+C0+kEABhjjPGnhMqCfgR0WSng7oIulwvdJFWt3W5/5etd7rIwDMmH7/vj8ZgOSZIEAI7jBEHwae4PO4QQ8jyv1+sZhhFFkeM4LMvSBEEQCKfZbCKEWq1WHiIl9zuFsRyiDzCtQBRFcqTpwhjHMUKoPBky8kv28Qnr+/5ut3sX+xH01XHFJPpOUFWV4zjbtstXRxAE+/0+TdOCQ0VBf46He6A9Bd3CU9AtvAGW+zzx1C2yngAAAABJRU5ErkJggg==\"></div><div class=\"grid-item\"><img alt=\"Output\" src=\"data:image/png;base64,iVBORw0KGgoAAAANSUhEUgAAADAAAAAaCAIAAAB+V0iAAAAAznpUWHRSYXcgcHJvZmlsZSB0eXBlIGV4aWYAAHjabU9bDsMgDPvnFDsCJMGB49CWSrvBjr8EWKdOs0RsnBeE/nqe4eGgFINkLahANEiVSs1EiROTU6wjDvBK2f3mh9SW38zK3wT68re7r5hM5WdQpLXJN5hmWQ1rENP0Pwu3VU+tlPug661rQLme/vcurISMpGJRKKqimi7BpBEyxaw4sQNWmHBQlN24Q9XaoF7BzRsd1PVe3QPYjMO/wH6EmzFGVGtNzKaZ63CYNo9D+3feTxxav1IiTOgAAAAJcEhZcwAAEnQAABJ0Ad5mH3gAAAA8dEVYdFNvZnR3YXJlAENyZWF0ZWQgd2l0aCB0aGUgV29sZnJhbSBMYW5ndWFnZSA6IHd3dy53b2xmcmFtLmNvbVyipoUAAAAhdEVYdENyZWF0aW9uIFRpbWUAMjAyNDowNjowNyAxMzozOTowM6303EUAAAIYSURBVEiJ7VaxjqpAFL27sZYQegpoLYwaCmJFgiT8wGhjrCj8AAs+wAg/gI21kPgDExMbidFOEmtCjCUJ4QvYYja8WdjVx2bdtfBUzNxzhzNnZu7MS5Zl8Eh4/WsBRTwF3cLDCaoBgOu65/P5KwbP8/1+//cUZVmmadoVgqZp2S+iBgCj0UhRFPL7zWaDMdY0Le/hef7eptCoAUBhRTDGiqJMJpMCNQzD1Woly3K32w3DcL1ep2naaDR0Xc85tm0DAJ1Lssrrno/A87wkSYIgvAcKjlmWBQCWZZXN3G63JEQ4ORBCOac8JskqrLtpmoXZLpfLf0tWCbPZLEkSURQNw0jT1HEcz/OGwyHt03XYtj2dTkVRRAgxDBNFkeu6g8GgXq/rul7ZoUJ0Pp/TPTcdiuOYZdlOpxPHcc45Ho+505UdMk2T3iKqqlqWJcvyf6YfDockSTiOWywWdD/Lsp7nua5bWRDDMHRTEITy9r+C0+kEABhjjPGnhMqCfgR0WSng7oIulwvdJFWt3W5/5etd7rIwDMmH7/vj8ZgOSZIEAI7jBEHwae4PO4QQ8jyv1+sZhhFFkeM4LMvSBEEQCKfZbCKEWq1WHiIl9zuFsRyiDzCtQBRFcqTpwhjHMUKoPBky8kv28Qnr+/5ut3sX+xH01XHFJPpOUFWV4zjbtstXRxAE+/0+TdOCQ0VBf46He6A9Bd3CU9AtvAGW+zzx1C2yngAAAABJRU5ErkJggg==\"></div><div class=\"grid-item\"><img alt=\"Output\" src=\"data:image/png;base64,iVBORw0KGgoAAAANSUhEUgAAADAAAAAaCAIAAAB+V0iAAAAAznpUWHRSYXcgcHJvZmlsZSB0eXBlIGV4aWYAAHjabU9bDsMgDPvnFDsCJMGB49CWSrvBjr8EWKdOs0RsnBeE/nqe4eGgFINkLahANEiVSs1EiROTU6wjDvBK2f3mh9SW38zK3wT68re7r5hM5WdQpLXJN5hmWQ1rENP0Pwu3VU+tlPug661rQLme/vcurISMpGJRKKqimi7BpBEyxaw4sQNWmHBQlN24Q9XaoF7BzRsd1PVe3QPYjMO/wH6EmzFGVGtNzKaZ63CYNo9D+3feTxxav1IiTOgAAAAJcEhZcwAAEnQAABJ0Ad5mH3gAAAA8dEVYdFNvZnR3YXJlAENyZWF0ZWQgd2l0aCB0aGUgV29sZnJhbSBMYW5ndWFnZSA6IHd3dy53b2xmcmFtLmNvbVyipoUAAAAhdEVYdENyZWF0aW9uIFRpbWUAMjAyNDowNjowNyAxMzozOTowM6303EUAAAIYSURBVEiJ7VaxjqpAFL27sZYQegpoLYwaCmJFgiT8wGhjrCj8AAs+wAg/gI21kPgDExMbidFOEmtCjCUJ4QvYYja8WdjVx2bdtfBUzNxzhzNnZu7MS5Zl8Eh4/WsBRTwF3cLDCaoBgOu65/P5KwbP8/1+//cUZVmmadoVgqZp2S+iBgCj0UhRFPL7zWaDMdY0Le/hef7eptCoAUBhRTDGiqJMJpMCNQzD1Woly3K32w3DcL1ep2naaDR0Xc85tm0DAJ1Lssrrno/A87wkSYIgvAcKjlmWBQCWZZXN3G63JEQ4ORBCOac8JskqrLtpmoXZLpfLf0tWCbPZLEkSURQNw0jT1HEcz/OGwyHt03XYtj2dTkVRRAgxDBNFkeu6g8GgXq/rul7ZoUJ0Pp/TPTcdiuOYZdlOpxPHcc45Ho+505UdMk2T3iKqqlqWJcvyf6YfDockSTiOWywWdD/Lsp7nua5bWRDDMHRTEITy9r+C0+kEABhjjPGnhMqCfgR0WSng7oIulwvdJFWt3W5/5etd7rIwDMmH7/vj8ZgOSZIEAI7jBEHwae4PO4QQ8jyv1+sZhhFFkeM4LMvSBEEQCKfZbCKEWq1WHiIl9zuFsRyiDzCtQBRFcqTpwhjHMUKoPBky8kv28Qnr+/5ut3sX+xH01XHFJPpOUFWV4zjbtstXRxAE+/0+TdOCQ0VBf46He6A9Bd3CU9AtvAGW+zzx1C2yngAAAABJRU5ErkJggg==\"></div></div></div>"
      ],
      "text/plain": [
       "True\n",
       "True\n",
       "True\n",
       "True"
      ]
     },
     "execution_count": 65,
     "metadata": {
      "text/html": [],
      "text/plain": []
     },
     "output_type": "execute_result"
    }
   ],
   "source": [
    "OddQ[3]\n",
    "MatchQ[3, x_ /; OddQ[x]]\n",
    "MatchQ[3, Condition[x_, OddQ[x]]]\n",
    "\n",
    "MatchQ[3, _?OddQ]"
   ]
  },
  {
   "cell_type": "markdown",
   "metadata": {},
   "source": [
    "## Полный и краткий вид шаблонов"
   ]
  },
  {
   "cell_type": "markdown",
   "metadata": {},
   "source": [
    "Как сложение, умножение и многие другие объекты в WM, шаблоны можно записать в кратком виде. В таблице ниже показаны краткие формы распространённых шаблонов и их полные формы. В дальнейшем мы почти всегда будем использовать краткие формы шаблонов. Если вам встретился непонятный шаблон, в первую очередь узнавайте его полную форму."
   ]
  },
  {
   "cell_type": "code",
   "execution_count": 70,
   "metadata": {
    "vscode": {
     "languageId": "wolfram"
    }
   },
   "outputs": [
    {
     "data": {
      "text/html": [
       "<div><img alt=\"Output\" src=\"data:image/png;base64,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\"></div>"
      ],
      "text/plain": [
       "_                     Blank[]\n",
       "\n",
       "x_                    Pattern[x, Blank[]]\n",
       "\n",
       "_h                    Blank[h]\n",
       "\n",
       "_?f                   PatternTest[Blank[], f]\n",
       "\n",
       "x_?f                  PatternTest[Pattern[x, Blank[]], f]\n",
       "\n",
       "x_ /; g[x] == 1       Condition[Pattern[x, Blank[]], Equal[g[x], 1]]\n",
       "\n",
       "x:_h?f /; g[x] == 1   Condition[Pattern[x, PatternTest[Blank[h], f]], Equal[g[x], 1]]"
      ]
     },
     "execution_count": 70,
     "metadata": {
      "text/html": [],
      "text/plain": []
     },
     "output_type": "execute_result"
    }
   ],
   "source": [
    "patterns = {_, x_, _h, _?f, x_?f, x_ /; g[x] == 1, \n",
    "   x : _h?f /; g[x] == 1};\n",
    "Grid[\n",
    " {Style[StringDelete[ToString@#, \"(\" | \")\"], \"Input\"], FullForm@#} & /@\n",
    "   patterns,\n",
    " Alignment -> {{\"_\", \"Blank[]\"}},\n",
    " Frame -> All,\n",
    " FrameStyle -> LightGray\n",
    " ]"
   ]
  }
 ],
 "metadata": {
  "kernelspec": {
   "display_name": "Wolfram Language 14",
   "language": "Wolfram Language",
   "name": "wolframlanguage14"
  },
  "language_info": {
   "codemirror_mode": "mathematica",
   "file_extension": ".m",
   "mimetype": "application/vnd.wolfram.m",
   "name": "Wolfram Language",
   "pygments_lexer": "mathematica",
   "version": "12.0"
  }
 },
 "nbformat": 4,
 "nbformat_minor": 2
}
