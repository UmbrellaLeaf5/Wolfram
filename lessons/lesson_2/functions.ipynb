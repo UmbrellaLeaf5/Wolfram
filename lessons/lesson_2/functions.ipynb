{
 "cells": [
  {
   "cell_type": "markdown",
   "metadata": {},
   "source": [
    "# Задание переменных и функций"
   ]
  },
  {
   "cell_type": "markdown",
   "metadata": {},
   "source": [
    "## Правила замены"
   ]
  },
  {
   "cell_type": "markdown",
   "metadata": {},
   "source": [
    "Один из основных вариантов применения шаблонов - это замена выражения, удовлетворяющего шаблону, на другое выражение. Иными словами, происходит трансформация выражения на основании применения правил замены. Правило замены записывается с помощью символа Rule. Функционал замены всего выражения по правилу реализует функция Replace."
   ]
  },
  {
   "cell_type": "markdown",
   "metadata": {},
   "source": [
    "Здесь и далее при упоминании какого-либо нового системного символа ваша задача - прочитать о его применении в документации."
   ]
  },
  {
   "cell_type": "markdown",
   "metadata": {},
   "source": [
    "Наиболее часто используемый вид совместного применения функций Replace и Rule выглядит так:"
   ]
  },
  {
   "cell_type": "markdown",
   "metadata": {
    "vscode": {
     "languageId": "wolfram"
    }
   },
   "source": [
    "Replace[expr, Rule[pattern, transformedExpr]] (* эту ячейку не надо вычислять *)"
   ]
  },
  {
   "cell_type": "code",
   "execution_count": 15,
   "metadata": {
    "vscode": {
     "languageId": "wolfram"
    }
   },
   "outputs": [
    {
     "data": {
      "text/html": [
       "<style>\n",
       "\t\t\t\t\t\t\t\t\t\t\t\t\t.grid-container {\n",
       "\t\t\t\t\t\t\t\t\t\t\t\t\t\tdisplay: inline-grid;\n",
       "\t\t\t\t\t\t\t\t\t\t\t\t\t\tgrid-template-columns: auto;\n",
       "\t\t\t\t\t\t\t\t\t\t\t\t\t}\n",
       "\t\t\t\t\t\t\t\t\t\t\t\t</style>\n",
       "\n",
       "\t\t\t\t\t\t\t\t\t\t\t\t<div><div class=\"grid-container\"><div class=\"grid-item\"><img alt=\"Output\" src=\"data:image/png;base64,iVBORw0KGgoAAAANSUhEUgAAAAwAAAAaCAIAAAAMmCo2AAAAzXpUWHRSYXcgcHJvZmlsZSB0eXBlIGV4aWYAAHjabU/bDQMhDPtnio4QkuDAONwdlbpBx294tBVVLREb5wWhPR/3cOvgSEGTZRSAHFq0cHWRaWJypDLixLk47n6IdfnVrfRNoC3/2H3DZM4/g4inkL7BtehqWIOEp/9eeKx6rjnvg4Q2WP48/e9dxRgJ0dSjMpmhuM7BpRMSUzLccQJeGHEx6encYOZtsF4htTd2cLO9ugWIG1f/gvSjUp0xonlrFHGtwxHJfLgvI9u/8wKWJVr15TZssQAAAAlwSFlzAAASdAAAEnQB3mYfeAAAADx0RVh0U29mdHdhcmUAQ3JlYXRlZCB3aXRoIHRoZSBXb2xmcmFtIExhbmd1YWdlIDogd3d3LndvbGZyYW0uY29tXKKmhQAAACF0RVh0Q3JlYXRpb24gVGltZQAyMDI0OjA2OjA3IDEzOjQ2OjM4+0iaSAAAATZJREFUKJHNUqGOg0AUnJLTbfYX2NRVVoJsSPANFssvbG0Nf4BEkPAFKwgSBDhEkYuoXkL4gj2xvbIld+mpy417+2Y27828jVIK72C9Zfw96cMsxnEsy/J+v+92u9PpZNv2o6G+kOc5IcTUMMZ060HinOtGEARxHEdRpMs4jhcSpRRAnufPj7WMECKlhFKq6zoAx+NRGZBSaiXn3ALQNA2A8/n8nKau6/1+L4QAcLvdLADzPAM4HA56wcvl4rruNE2e560t2G63dV2HYSiEoJSmaQqgKIoXM6/Xq+u6QgjGWNu2juN8Y2ZRFISQLMt839cvfd8vZlZVBYBSKqU0F9QzVVX18El7zTk3A9DKxcwkSfTHURSZjmvZkh1jbBX+M4CNeb7DMJRlOc/z6gpeSD/hP974r0ifGFfv8iEPLtQAAAAASUVORK5CYII=\"></div><div class=\"grid-item\"><img alt=\"Output\" src=\"data:image/png;base64,iVBORw0KGgoAAAANSUhEUgAAADIAAAAaCAIAAAB6opi9AAAAznpUWHRSYXcgcHJvZmlsZSB0eXBlIGV4aWYAAHjabU9bDsMgDPvnFDtCSIIDx6EtlXaDHX+Bsk5Ms0RsnBeE9nqe4dHBkYImyygAObRo4eoi04WLI5URB4RnLq5+iHX61a30TaBNf1t9w8WcfwbR3CB9g2vR2dDuFwz/s3Cb9VxzXgcJLbB8P/3vXcUYCdHUozKZobjOwaUTElMynNgBL4w4mHR3bjDzNlivkNobO7jZWt0CxI2jf0H6UanOGNG8NYq41uGIZN7cl5Ht33kDUmpax1J+RH0AAAAJcEhZcwAAEnQAABJ0Ad5mH3gAAAA8dEVYdFNvZnR3YXJlAENyZWF0ZWQgd2l0aCB0aGUgV29sZnJhbSBMYW5ndWFnZSA6IHd3dy53b2xmcmFtLmNvbVyipoUAAAAhdEVYdENyZWF0aW9uIFRpbWUAMjAyNDowNjowNyAxMzo0NjozOPtImkgAAAJqSURBVEiJ7VYxz+lgFH6+m28VaWwdOqhFIunAL7BUDBYSxGIQ4Q8gVtNrsCESg0GCxCrRxaKRCEM7GWgjBhP6E3qHJm6VT0quy3CfoTk57+l5n/eck3POl67r+Dz8ejeB2/hP6xF839SKojibzQyZYZhEIvEPKQHAl6XkZVmORqOKopw1PM+Px2Ozjaqq+/3ekL1er8vleuJiURQNweFwcBxnObVGq1gsKorCsmw2mzU0DMNYbIbD4WQyCQaDAGiafo6WkY3tdquqquXZAKBfAgDLsofDQf8ZhBBCyB0D+5hOpzzPX+svoqWqKgCPx/NcAGRZFgQBQKFQMOv7/f5ut/P5fOFw2Kar7/NvRkgBbDabarV6tojFYm63244vjuMymcxyuTQzE0UxmUxSFLVer21yAgBd13mev2MwnU7tJ1GSJIqiAEiSpOv64XBgWRbAaDR6OInpdNqo3+1222w2zfUOgKZp+4/kOK7RaCSTyUwms1gsarWaoijlctl++v5Ey8wdwE36NqNlIB6PAzC+gUDgjuVP0XpJl6/X6yzLDgYDiqIGg8ETHl41fE6nEwBN086N9yG8hFYqldI0rdfrAYhEIsfj8VEPf59WtVoVBCGfzycSCUKIpmmpVOrNtERRLBaLFEVVKhUAhUIhEAgIgtBqtd5G63g8RiIRAN1u9zwn2u02gFwuJ8uyfVcXw4emaULI9Wy2ifl8XiqVnE6nuUtxHNfr9Xa73Wq1ut4UbNFyu92WcfYQwuHwzbb5xLr2odvph9K6vTTfB8MwnU5nMpkAIITYrxgzQqGQIfj9/utT69L8IfjQJP4GOUE2NzlmmEMAAAAASUVORK5CYII=\"></div></div></div>"
      ],
      "text/plain": [
       "0\n",
       "f[x]"
      ]
     },
     "execution_count": 15,
     "metadata": {
      "text/html": [],
      "text/plain": []
     },
     "output_type": "execute_result"
    }
   ],
   "source": [
    "Replace[59, _Integer -> 0]\n",
    "Replace[f[x], _Integer -> 0]"
   ]
  },
  {
   "cell_type": "markdown",
   "metadata": {},
   "source": [
    "Rule можно записать в более удобном виде, что мы и будем делать в дальнейшем почти всегда:"
   ]
  },
  {
   "cell_type": "markdown",
   "metadata": {},
   "source": [
    "Replace[expr, pattern -> transformedExpr]"
   ]
  },
  {
   "cell_type": "markdown",
   "metadata": {},
   "source": [
    "expr: выражение, к которому мы хотим применить правила замены,\n",
    "pattern: шаблон, который мы проверяем на предмет того, что expr ему удовлетворяет,\n",
    "transformedExpr: результат вычисления всего выражения, если вычисленный expr удовлетворяет pattern'у."
   ]
  },
  {
   "cell_type": "markdown",
   "metadata": {},
   "source": [
    "Если вычисленный expr не удовлетворяет pattern'у, то результатом вычисления всего выражения будет вычисленный expr."
   ]
  },
  {
   "cell_type": "markdown",
   "metadata": {},
   "source": [
    "Если в шаблоне правила есть именованные части, то они могут быть использованы в transformedExpr:"
   ]
  },
  {
   "cell_type": "code",
   "execution_count": 17,
   "metadata": {
    "vscode": {
     "languageId": "wolfram"
    }
   },
   "outputs": [
    {
     "data": {
      "text/html": [
       "<div><pre style=\"&#102;&#111;&#110;&#116;&#45;&#102;&#97;&#109;&#105;&#108;&#121;&#58;&#32;&#34;&#67;&#111;&#117;&#114;&#105;&#101;&#114;&#32;&#78;&#101;&#119;&#34;&#44;&#67;&#111;&#117;&#114;&#105;&#101;&#114;&#44;&#109;&#111;&#110;&#111;&#115;&#112;&#97;&#99;&#101;&#59;\">&#49;&#54;</pre></div>"
      ],
      "text/plain": [
       "16"
      ]
     },
     "execution_count": 17,
     "metadata": {
      "text/html": [],
      "text/plain": []
     },
     "output_type": "execute_result"
    }
   ],
   "source": [
    "Replace[4, t_Integer -> t^2] (* замена на квадрат *)"
   ]
  },
  {
   "cell_type": "markdown",
   "metadata": {},
   "source": [
    "Правило можно задать не только с помощью функции Rule, но и RuleDelayed. Их различие заключается в различии набора их атрибутов:"
   ]
  },
  {
   "cell_type": "code",
   "execution_count": 18,
   "metadata": {
    "vscode": {
     "languageId": "wolfram"
    }
   },
   "outputs": [
    {
     "data": {
      "text/html": [
       "<div><img alt=\"Output\" src=\"data:image/png;base64,iVBORw0KGgoAAAANSUhEUgAAAGwAAAAaCAIAAADdfy5GAAAA0HpUWHRSYXcgcHJvZmlsZSB0eXBlIGV4aWYAAHjabU9BjgMhDLvzij4hJODAc5gZKu0P9vk1A7sqVS0RGxMHCP335xkeAxolpOwFFRAi1VS1URSZmByl3vUGznUWdz/EtvxGK78F+vKP3XdM1vIxSHQKGzdQW1qBNch0+n8XHqtfWyn7IJMNXv6f/nWfzBUZ0RNrUnFHpS6BkoSskh1PnAAbIy6VdJI73BmDjw5rIzig3ffuHmA0rvEFGytZI+Ouzmg0o+YzWNVMD/p2n47vvACetVr2/7EBtQAAAAlwSFlzAAASdAAAEnQB3mYfeAAAADx0RVh0U29mdHdhcmUAQ3JlYXRlZCB3aXRoIHRoZSBXb2xmcmFtIExhbmd1YWdlIDogd3d3LndvbGZyYW0uY29tXKKmhQAAACF0RVh0Q3JlYXRpb24gVGltZQAyMDI0OjA2OjA3IDEzOjQ3OjIzzT0V5AAAAiRJREFUaIHtmTGKwkAUht8u28swvYh6hGCjrZgDCKa0EsYLCIIHGAtL09olFwiY1rQW5gC5QSR4gtkigc2qic/JOC5Lvi7OJP/PPy/zhvghhICaany+28B/oA5RAXWICqhDVMBX/iIMQ9/3AaDZbA6HQ0rpm1xh0Wb4gZAQQggRRdFoNMr/TghxHEf8VbQZxghlITLGAMAwDM4557zT6aQ3RFGk3JYStBnGCGUhxnEcBEH+5nQ251ytJ1VoM4wRyhoLpXQwGOSLdjabyW4gOtBmGCNU2J0vlwsANBoNtZ7CMLQsa71eF426riv35KcMKxYqqmFCCLxgi1kul+W6hmFI9IdnDQdBIPfi3xX6uk0aAFarVZIknPN2uy23XEX0+31CSK/XuztKKd3v96ZpAoBlWfjHvs4wSug27LQfMcYkFkoVjDF8PUoYlqvEIqEP8fsrznw+t22bMbbdbl+6pGEYLhaLkgm+7wdBcLWp34I3nFc8n89JknS73fRyOp0+LPwyoYpL+iIcx8HYkDb8bCWWC/2cEyeTiYYE4zhmjHmeVzIHk2BFw/gQMUJZYzFN83g8EkJardbV+WM8HivcrTebjW3btm2Lgo/BruseDoeH76Y2wyihNMuSp1yd1yvieR4AGIZxd/R0OiErq6JhfCVihLLGUnT6BdULqwpthjFC1925RoL7h+2HuK672+1KJmAODf+GuhIVUP89oIA6RAXUISrgGwm1c67QsfvyAAAAAElFTkSuQmCC\"></div>"
      ],
      "text/plain": [
       "2 _ :> 2 + 2"
      ]
     },
     "execution_count": 18,
     "metadata": {
      "text/html": [],
      "text/plain": []
     },
     "output_type": "execute_result"
    }
   ],
   "source": [
    "_ + _ :> 2 + 2"
   ]
  },
  {
   "cell_type": "markdown",
   "metadata": {},
   "source": [
    "У RuleDelayed есть атрибут HoldRest, который отсутствует у Rule. Он похож на атрибут HoldAll, но удерживает от вычисления не все аргументы, а все, кроме первого. В данном случае это значит, что при вычислении выражения, содержащего применение функции RuleDelayed, первый аргумент функции RuleDelayed, т.е. шаблон, вычислится, а второй, т.е. то, на что заменяется удовлетворяющее шаблону выражение, останется невычисленным."
   ]
  },
  {
   "cell_type": "code",
   "execution_count": 20,
   "metadata": {
    "vscode": {
     "languageId": "wolfram"
    }
   },
   "outputs": [
    {
     "data": {
      "text/html": [
       "<style>\n",
       "\t\t\t\t\t\t\t\t\t\t\t\t\t.grid-container {\n",
       "\t\t\t\t\t\t\t\t\t\t\t\t\t\tdisplay: inline-grid;\n",
       "\t\t\t\t\t\t\t\t\t\t\t\t\t\tgrid-template-columns: auto;\n",
       "\t\t\t\t\t\t\t\t\t\t\t\t\t}\n",
       "\t\t\t\t\t\t\t\t\t\t\t\t</style>\n",
       "\n",
       "\t\t\t\t\t\t\t\t\t\t\t\t<div><div class=\"grid-container\"><div class=\"grid-item\"><pre style=\"&#102;&#111;&#110;&#116;&#45;&#102;&#97;&#109;&#105;&#108;&#121;&#58;&#32;&#34;&#67;&#111;&#117;&#114;&#105;&#101;&#114;&#32;&#78;&#101;&#119;&#34;&#44;&#67;&#111;&#117;&#114;&#105;&#101;&#114;&#44;&#109;&#111;&#110;&#111;&#115;&#112;&#97;&#99;&#101;&#59;\">&#49;&#54;</pre></div><div class=\"grid-item\"><pre style=\"&#102;&#111;&#110;&#116;&#45;&#102;&#97;&#109;&#105;&#108;&#121;&#58;&#32;&#34;&#67;&#111;&#117;&#114;&#105;&#101;&#114;&#32;&#78;&#101;&#119;&#34;&#44;&#67;&#111;&#117;&#114;&#105;&#101;&#114;&#44;&#109;&#111;&#110;&#111;&#115;&#112;&#97;&#99;&#101;&#59;\">&#51;&#54;</pre></div></div></div>"
      ],
      "text/plain": [
       "16\n",
       "36"
      ]
     },
     "execution_count": 20,
     "metadata": {
      "text/html": [],
      "text/plain": []
     },
     "output_type": "execute_result"
    }
   ],
   "source": [
    "t = 4;\n",
    "\n",
    "Replace[6, t_ -> t^2]\n",
    "Replace[6, t_ :> t^2] (* здесь t удерживалось от вычислений *)"
   ]
  },
  {
   "cell_type": "code",
   "execution_count": 29,
   "metadata": {
    "vscode": {
     "languageId": "wolfram"
    }
   },
   "outputs": [
    {
     "data": {
      "text/html": [
       "<style>\n",
       "\t\t\t\t\t\t\t\t\t\t\t\t\t.grid-container {\n",
       "\t\t\t\t\t\t\t\t\t\t\t\t\t\tdisplay: inline-grid;\n",
       "\t\t\t\t\t\t\t\t\t\t\t\t\t\tgrid-template-columns: auto;\n",
       "\t\t\t\t\t\t\t\t\t\t\t\t\t}\n",
       "\t\t\t\t\t\t\t\t\t\t\t\t</style>\n",
       "\n",
       "\t\t\t\t\t\t\t\t\t\t\t\t<div><div class=\"grid-container\"><div class=\"grid-item\"><pre style=\"&#102;&#111;&#110;&#116;&#45;&#102;&#97;&#109;&#105;&#108;&#121;&#58;&#32;&#34;&#67;&#111;&#117;&#114;&#105;&#101;&#114;&#32;&#78;&#101;&#119;&#34;&#44;&#67;&#111;&#117;&#114;&#105;&#101;&#114;&#44;&#109;&#111;&#110;&#111;&#115;&#112;&#97;&#99;&#101;&#59;\">&#123;&#49;&#44;&#32;&#52;&#44;&#32;&#51;&#44;&#32;&#49;&#54;&#44;&#32;&#53;&#44;&#32;&#51;&#54;&#44;&#32;&#55;&#44;&#32;&#54;&#52;&#44;&#32;&#57;&#44;&#32;&#49;&#48;&#48;&#125;</pre></div><div class=\"grid-item\"><pre style=\"&#102;&#111;&#110;&#116;&#45;&#102;&#97;&#109;&#105;&#108;&#121;&#58;&#32;&#34;&#67;&#111;&#117;&#114;&#105;&#101;&#114;&#32;&#78;&#101;&#119;&#34;&#44;&#67;&#111;&#117;&#114;&#105;&#101;&#114;&#44;&#109;&#111;&#110;&#111;&#115;&#112;&#97;&#99;&#101;&#59;\">&#123;&#49;&#44;&#32;&#52;&#44;&#32;&#51;&#44;&#32;&#49;&#54;&#44;&#32;&#53;&#44;&#32;&#51;&#54;&#44;&#32;&#55;&#44;&#32;&#54;&#52;&#44;&#32;&#57;&#44;&#32;&#49;&#48;&#48;&#125;</pre></div></div></div>"
      ],
      "text/plain": [
       "{1, 4, 3, 16, 5, 36, 7, 64, 9, 100}\n",
       "{1, 4, 3, 16, 5, 36, 7, 64, 9, 100}"
      ]
     },
     "execution_count": 29,
     "metadata": {
      "text/html": [],
      "text/plain": []
     },
     "output_type": "execute_result"
    }
   ],
   "source": [
    "range = Range[10];\n",
    "Replace[range, t_?EvenQ :> t^2, {1}]\n",
    "\n",
    "range /. t_?EvenQ :> t^2"
   ]
  },
  {
   "cell_type": "code",
   "execution_count": 31,
   "metadata": {
    "vscode": {
     "languageId": "wolfram"
    }
   },
   "outputs": [
    {
     "data": {
      "text/html": [
       "<div><img alt=\"Output\" src=\"data:image/png;base64,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\"></div>"
      ],
      "text/plain": [
       "{Listable, Protected}"
      ]
     },
     "execution_count": 31,
     "metadata": {
      "text/html": [],
      "text/plain": []
     },
     "output_type": "execute_result"
    }
   ],
   "source": [
    "Attributes[EvenQ]"
   ]
  }
 ],
 "metadata": {
  "kernelspec": {
   "display_name": "Wolfram Language 14",
   "language": "Wolfram Language",
   "name": "wolframlanguage14"
  },
  "language_info": {
   "codemirror_mode": "mathematica",
   "file_extension": ".m",
   "mimetype": "application/vnd.wolfram.m",
   "name": "Wolfram Language",
   "pygments_lexer": "mathematica",
   "version": "12.0"
  }
 },
 "nbformat": 4,
 "nbformat_minor": 2
}
